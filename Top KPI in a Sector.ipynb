{
 "cells": [
  {
   "cell_type": "markdown",
   "id": "016427d2",
   "metadata": {},
   "source": [
    "## Includes"
   ]
  },
  {
   "cell_type": "code",
   "execution_count": 1,
   "id": "6ddf1f6f",
   "metadata": {},
   "outputs": [
    {
     "name": "stdout",
     "output_type": "stream",
     "text": [
      "A configuration file has been created for you in \n",
      "/Users/jedgore/git/sdk-python/examples/notebooks/keys.json.\n"
     ]
    },
    {
     "data": {
      "text/html": [
       "<style>.container { width:100% !important; }</style>"
      ],
      "text/plain": [
       "<IPython.core.display.HTML object>"
      ]
     },
     "metadata": {},
     "output_type": "display_data"
    }
   ],
   "source": [
    "import sys\n",
    "import os\n",
    "import numpy as np\n",
    "import warnings\n",
    "warnings.simplefilter(action='ignore', category=FutureWarning)\n",
    "\n",
    "import pandas as pd\n",
    "pd.set_option('display.float_format', lambda x: '%.2f' % x)\n",
    "pd.set_option('display.max_colwidth', 400)\n",
    "\n",
    "import canalyst_candas.candas as cd\n",
    "import canalyst_candas.candas_datareader as cdr\n",
    "from canalyst_candas.configuration.config import Config\n",
    "\n",
    "config_info = {\n",
    "    \"canalyst_api_key\":\"\",\n",
    "    \"s3_access_key_id\": \"\",\n",
    "    \"s3_secret_key\": \"\",\n",
    "    \"fred_key\": \"\",\n",
    "    \"default_dir\": \"\",\n",
    "    \"mds_host\": \"\",\n",
    "    \"wp_host\": \"\"\n",
    "}\n",
    "\n",
    "config = Config(config=config_info)\n",
    "\n",
    "from IPython.display import display, HTML\n",
    "display(HTML(\"<style>.container { width:100% !important; }</style>\"))"
   ]
  },
  {
   "cell_type": "markdown",
   "id": "59c5bd80",
   "metadata": {},
   "source": [
    "# Example: Top KPI in a Sector\n",
    "## Workflow:\n",
    "<li>Set switches\n",
    "<li>Create ModelSet for target list\n",
    "<li>Find common names\n",
    "<li>Create a model_frame of common names\n",
    "<li>Regress against target vector (in this case - alpha)\n",
    "<li>List coefficients"
   ]
  },
  {
   "cell_type": "markdown",
   "id": "8de865a8",
   "metadata": {},
   "source": [
    "## Control Switches: \n",
    "### Change ticker list as needed etc"
   ]
  },
  {
   "cell_type": "code",
   "execution_count": 2,
   "id": "bd185fe7",
   "metadata": {},
   "outputs": [],
   "source": [
    "target_list = ['CMA US',\n",
    "              'ZION US',\n",
    "              'WAL US',\n",
    "              'FITB US',\n",
    "              'CFR US',\n",
    "              'HBAN US',\n",
    "              'KEY US',\n",
    "              'MTB US']\n",
    "index_ticker = \"^GSPC\"\n",
    "alpha_days = \"alpha_1_day\" #or alpha_5_day or alpha_10_day\n",
    "regression_window = 8"
   ]
  },
  {
   "cell_type": "markdown",
   "id": "d0a16cd3",
   "metadata": {},
   "source": [
    "### Create a modelset of our stock list"
   ]
  },
  {
   "cell_type": "code",
   "execution_count": 3,
   "id": "bb7454d9",
   "metadata": {},
   "outputs": [],
   "source": [
    "target_modelset = cd.ModelSet(ticker_list = target_list, config=config,allow_nulls=True)"
   ]
  },
  {
   "cell_type": "markdown",
   "id": "761f5ff9",
   "metadata": {},
   "source": [
    "### Get common time series names among the ModelSet"
   ]
  },
  {
   "cell_type": "code",
   "execution_count": 4,
   "id": "badee502",
   "metadata": {},
   "outputs": [],
   "source": [
    "feature_list = target_modelset.common_time_series_names()\n",
    "feature_list = [item for item in feature_list if 'EPS' not in item]\n",
    "feature_list = [item for item in feature_list if 'StockPrice' not in item]\n",
    "feature_list = [item for item in feature_list if 'FX' not in item]"
   ]
  },
  {
   "cell_type": "markdown",
   "id": "3a01c191",
   "metadata": {},
   "source": [
    "### Run regressions for each ticker"
   ]
  },
  {
   "cell_type": "code",
   "execution_count": 5,
   "id": "b61c2925",
   "metadata": {},
   "outputs": [],
   "source": [
    "kpi_d = []\n",
    "\n",
    "for ticker in target_list:\n",
    "    yahoo_ticker = ticker.split(\" \")[0]\n",
    "    df_data = target_modelset.pe_dataset(ticker,yahoo_ticker,index_ticker)\n",
    "    categories = list(target_modelset.model_frame(ticker=ticker,\n",
    "                      period_duration_type = \"fiscal_quarter\", \n",
    "                      mrq=True)['category'].unique())\n",
    "    like_list = ['Stats','Analysis','Metrics','Segmented Results']\n",
    "    category_filter = []\n",
    "    for category in categories:\n",
    "        for like in like_list:\n",
    "            if like in category:\n",
    "                category_filter.append(category)\n",
    "\n",
    "    category_filter = list(set(category_filter))\n",
    "\n",
    "    df_kpi = cdr.regress_dataframe_time_series_groups(df_data = df_data,\n",
    "                                         y_name=alpha_days,\n",
    "                                         return_grouped=True,\n",
    "                                         category = category_filter,\n",
    "                                         n_periods=regression_window)\n",
    "    df_kpi = df_kpi[['ticker','time_series_description','time_series_name','category','rsquared']].sort_values('rsquared',ascending = True)\n",
    "    df_kpi = df_kpi.groupby('time_series_description').first().reset_index().sort_values('rsquared',ascending=True)\n",
    "    kpi_d.append(df_kpi)\n"
   ]
  },
  {
   "cell_type": "markdown",
   "id": "d0d48b64",
   "metadata": {},
   "source": [
    "### Concatenate our list and rank"
   ]
  },
  {
   "cell_type": "code",
   "execution_count": 6,
   "id": "59b67fd4",
   "metadata": {},
   "outputs": [
    {
     "data": {
      "text/html": [
       "<div>\n",
       "<style scoped>\n",
       "    .dataframe tbody tr th:only-of-type {\n",
       "        vertical-align: middle;\n",
       "    }\n",
       "\n",
       "    .dataframe tbody tr th {\n",
       "        vertical-align: top;\n",
       "    }\n",
       "\n",
       "    .dataframe thead th {\n",
       "        text-align: right;\n",
       "    }\n",
       "</style>\n",
       "<table border=\"1\" class=\"dataframe\">\n",
       "  <thead>\n",
       "    <tr style=\"text-align: right;\">\n",
       "      <th></th>\n",
       "      <th>time_series_name</th>\n",
       "      <th>time_series_description</th>\n",
       "      <th>rsquared</th>\n",
       "      <th>count</th>\n",
       "      <th>ticker</th>\n",
       "    </tr>\n",
       "  </thead>\n",
       "  <tbody>\n",
       "    <tr>\n",
       "      <th>7</th>\n",
       "      <td>MO_MA_OPEX</td>\n",
       "      <td>OPEX Margin, %</td>\n",
       "      <td>0.35</td>\n",
       "      <td>8</td>\n",
       "      <td>[CMA US, ZION US, WAL US, FITB US, CFR US, HBAN US, KEY US, MTB US]</td>\n",
       "    </tr>\n",
       "    <tr>\n",
       "      <th>2</th>\n",
       "      <td>MO_GA_NIIGrowth</td>\n",
       "      <td>Net Interest Income Growth, %</td>\n",
       "      <td>0.22</td>\n",
       "      <td>6</td>\n",
       "      <td>[ZION US, WAL US, FITB US, CFR US, HBAN US, MTB US]</td>\n",
       "    </tr>\n",
       "    <tr>\n",
       "      <th>3</th>\n",
       "      <td>MO_MA_Compensation</td>\n",
       "      <td>Compensation Margin, %</td>\n",
       "      <td>0.18</td>\n",
       "      <td>6</td>\n",
       "      <td>[ZION US, WAL US, FITB US, CFR US, HBAN US, KEY US]</td>\n",
       "    </tr>\n",
       "    <tr>\n",
       "      <th>0</th>\n",
       "      <td>MO_GA_AssetGrowth</td>\n",
       "      <td>Total Earning Assets - Avg. Balance Growth, %</td>\n",
       "      <td>0.15</td>\n",
       "      <td>6</td>\n",
       "      <td>[CMA US, ZION US, WAL US, FITB US, CFR US, MTB US]</td>\n",
       "    </tr>\n",
       "    <tr>\n",
       "      <th>1</th>\n",
       "      <td>MO_GA_LiabilityGrowth</td>\n",
       "      <td>Total Interest-bearing Liabilities - Avg. Balance Growth, %</td>\n",
       "      <td>0.17</td>\n",
       "      <td>4</td>\n",
       "      <td>[WAL US, HBAN US, KEY US, MTB US]</td>\n",
       "    </tr>\n",
       "    <tr>\n",
       "      <th>4</th>\n",
       "      <td>MO_MA_EfficiencyRatio</td>\n",
       "      <td>Efficiency Ratio (adj. One-time Items), %</td>\n",
       "      <td>0.11</td>\n",
       "      <td>4</td>\n",
       "      <td>[CMA US, FITB US, CFR US, HBAN US, KEY US, MTB US]</td>\n",
       "    </tr>\n",
       "    <tr>\n",
       "      <th>5</th>\n",
       "      <td>MO_MA_EfficiencyRatio</td>\n",
       "      <td>Efficiency Ratio (adj. One-time items), %</td>\n",
       "      <td>0.15</td>\n",
       "      <td>1</td>\n",
       "      <td>[CMA US, FITB US, CFR US, HBAN US, KEY US, MTB US]</td>\n",
       "    </tr>\n",
       "    <tr>\n",
       "      <th>6</th>\n",
       "      <td>MO_MA_EfficiencyRatio</td>\n",
       "      <td>Efficiency Ratio, %</td>\n",
       "      <td>0.04</td>\n",
       "      <td>1</td>\n",
       "      <td>[CMA US, FITB US, CFR US, HBAN US, KEY US, MTB US]</td>\n",
       "    </tr>\n",
       "  </tbody>\n",
       "</table>\n",
       "</div>"
      ],
      "text/plain": [
       "        time_series_name  \\\n",
       "7             MO_MA_OPEX   \n",
       "2        MO_GA_NIIGrowth   \n",
       "3     MO_MA_Compensation   \n",
       "0      MO_GA_AssetGrowth   \n",
       "1  MO_GA_LiabilityGrowth   \n",
       "4  MO_MA_EfficiencyRatio   \n",
       "5  MO_MA_EfficiencyRatio   \n",
       "6  MO_MA_EfficiencyRatio   \n",
       "\n",
       "                                       time_series_description  rsquared  \\\n",
       "7                                               OPEX Margin, %      0.35   \n",
       "2                                Net Interest Income Growth, %      0.22   \n",
       "3                                       Compensation Margin, %      0.18   \n",
       "0                Total Earning Assets - Avg. Balance Growth, %      0.15   \n",
       "1  Total Interest-bearing Liabilities - Avg. Balance Growth, %      0.17   \n",
       "4                    Efficiency Ratio (adj. One-time Items), %      0.11   \n",
       "5                    Efficiency Ratio (adj. One-time items), %      0.15   \n",
       "6                                          Efficiency Ratio, %      0.04   \n",
       "\n",
       "   count                                                               ticker  \n",
       "7      8  [CMA US, ZION US, WAL US, FITB US, CFR US, HBAN US, KEY US, MTB US]  \n",
       "2      6                  [ZION US, WAL US, FITB US, CFR US, HBAN US, MTB US]  \n",
       "3      6                  [ZION US, WAL US, FITB US, CFR US, HBAN US, KEY US]  \n",
       "0      6                   [CMA US, ZION US, WAL US, FITB US, CFR US, MTB US]  \n",
       "1      4                                    [WAL US, HBAN US, KEY US, MTB US]  \n",
       "4      4                   [CMA US, FITB US, CFR US, HBAN US, KEY US, MTB US]  \n",
       "5      1                   [CMA US, FITB US, CFR US, HBAN US, KEY US, MTB US]  \n",
       "6      1                   [CMA US, FITB US, CFR US, HBAN US, KEY US, MTB US]  "
      ]
     },
     "execution_count": 6,
     "metadata": {},
     "output_type": "execute_result"
    }
   ],
   "source": [
    "df_all = pd.concat(kpi_d)\n",
    "df_all = df_all[df_all['time_series_name'].isin(feature_list)]\n",
    "df_all['count']=1\n",
    "df_list = df_all.groupby('time_series_name').aggregate(lambda tdf: tdf.unique().tolist()).reset_index()[['time_series_name','ticker']]\n",
    "df_all = df_all.groupby(['time_series_name','time_series_description']).agg({'rsquared':'mean', 'count':'sum',}).reset_index()\n",
    "df_all = pd.merge(df_all,df_list,how='inner',left_on='time_series_name',right_on='time_series_name')\n",
    "df_all.sort_values(['count','rsquared'],ascending=False)"
   ]
  }
 ],
 "metadata": {
  "kernelspec": {
   "display_name": "Python 3 (ipykernel)",
   "language": "python",
   "name": "python3"
  },
  "language_info": {
   "codemirror_mode": {
    "name": "ipython",
    "version": 3
   },
   "file_extension": ".py",
   "mimetype": "text/x-python",
   "name": "python",
   "nbconvert_exporter": "python",
   "pygments_lexer": "ipython3",
   "version": "3.10.2"
  }
 },
 "nbformat": 4,
 "nbformat_minor": 5
}
