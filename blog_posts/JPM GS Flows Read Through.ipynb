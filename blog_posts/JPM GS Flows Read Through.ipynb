{
 "cells": [
  {
   "cell_type": "code",
   "execution_count": 2,
   "id": "d8599b66-e0e8-4416-a5e1-599313dcd34f",
   "metadata": {},
   "outputs": [
    {
     "name": "stdout",
     "output_type": "stream",
     "text": [
      "A configuration file has been created for you in \n",
      "/home/canalyst_candas/canalyst/keys.json. For Excel file downloads and scenario \n",
      "mapping, you'll need to add an API key to the 'canalyst_api_key' \n",
      "value. Visit https://app.canalyst.com/settings/api-tokens to create \n",
      "and retrieve your API key. You will also need to retrieve your \n",
      "S3 Access ID and Secret Key and fill in 'canalyst_s3_id' and \n",
      "'canalyst_s3_key' with those values, respectively. If using a \n",
      "Jupyter Notebook, stop and restart the notebook for the changes to \n",
      "take effect. If using a Python/iPython session, quit the current \n",
      "session and start a new one.\n"
     ]
    },
    {
     "data": {
      "text/html": [
       "<style>.container { width:100% !important; }</style>"
      ],
      "text/plain": [
       "<IPython.core.display.HTML object>"
      ]
     },
     "metadata": {},
     "output_type": "display_data"
    }
   ],
   "source": [
    "import sys\n",
    "import os\n",
    "import dtale\n",
    "import dtale.app as dtale_app\n",
    "dtale_app.JUPYTER_SERVER_PROXY = True\n",
    "import pandas as pd\n",
    "pd.set_option('display.float_format', lambda x: '%.5f' % x)\n",
    "import canalyst_candas.candas as cd\n",
    "import canalyst_candas.candas_datareader as cdr\n",
    "from canalyst_candas.configuration.config import Config\n",
    "config_info = {\n",
    "  \"canalyst_api_key\": \"\",\n",
    "  \"s3_access_key_id\": \"\",\n",
    "  \"s3_secret_key\": \"\",\n",
    "  \"fred_key\": \"\",\n",
    "  \"default_dir\": \"\",\n",
    "  \"mds_host\": \"\",\n",
    "  \"wp_host\": \"\"\n",
    "}\n",
    "config = Config(config=config_info)\n",
    "from IPython.core.display import display, HTML\n",
    "display(HTML(\"<style>.container { width:100% !important; }</style>\"))\n",
    "pd.set_option('display.max_columns', None)\n",
    "pd.set_option('display.expand_frame_repr', False)\n",
    "pd.set_option('max_colwidth', -1)"
   ]
  },
  {
   "cell_type": "markdown",
   "id": "bea7a305-fdfc-46a8-bbe6-8b8fabe0a5c1",
   "metadata": {},
   "source": [
    "## JPM Read Through for Fixed Income Trading with GS"
   ]
  },
  {
   "cell_type": "markdown",
   "id": "0b432390-5485-4660-bae1-05f4e260f75b",
   "metadata": {},
   "source": [
    "### First we search for common time series between JPM and GS with 'FICC Fixed Income Markets'"
   ]
  },
  {
   "cell_type": "code",
   "execution_count": 27,
   "id": "2ab17f9a-b959-4eb1-aa8d-9101dfe58b60",
   "metadata": {},
   "outputs": [
    {
     "name": "stdout",
     "output_type": "stream",
     "text": [
      "Building search index...\n",
      "No.of.unique tickers:  1\n",
      "No.of.unique time series:  77\n"
     ]
    }
   ],
   "source": [
    "canalyst_search = cd.Search(config)\n",
    "df = canalyst_search.search_time_series(ticker=['JPM US'],\n",
    "                                        unit_type='currency',\n",
    "                     time_series_description='asset management equity AUM')[['ticker','time_series_description','time_series_name','search_matches']]\n",
    "df= df[df['search_matches']>1]"
   ]
  },
  {
   "cell_type": "code",
   "execution_count": 28,
   "id": "01f0ebbb-c814-4637-803c-c1ab7fad0df5",
   "metadata": {},
   "outputs": [
    {
     "data": {
      "text/html": [
       "<div>\n",
       "<style scoped>\n",
       "    .dataframe tbody tr th:only-of-type {\n",
       "        vertical-align: middle;\n",
       "    }\n",
       "\n",
       "    .dataframe tbody tr th {\n",
       "        vertical-align: top;\n",
       "    }\n",
       "\n",
       "    .dataframe thead th {\n",
       "        text-align: right;\n",
       "    }\n",
       "</style>\n",
       "<table border=\"1\" class=\"dataframe\">\n",
       "  <thead>\n",
       "    <tr style=\"text-align: right;\">\n",
       "      <th></th>\n",
       "      <th>ticker</th>\n",
       "      <th>time_series_description</th>\n",
       "      <th>time_series_name</th>\n",
       "      <th>search_matches</th>\n",
       "    </tr>\n",
       "  </thead>\n",
       "  <tbody>\n",
       "    <tr>\n",
       "      <th>50378</th>\n",
       "      <td>JPM US</td>\n",
       "      <td>Asset &amp; Wealth Management Asset management, administration and commissions, mm</td>\n",
       "      <td>z_3FRM7X0148_MO_OS_AssetWealthManagementAssetmanagementadministrationandcommissions</td>\n",
       "      <td>4</td>\n",
       "    </tr>\n",
       "    <tr>\n",
       "      <th>50189</th>\n",
       "      <td>JPM US</td>\n",
       "      <td>Total Asset Management fees, mm</td>\n",
       "      <td>z_3FRM7X0148_MO_OS_totalassetmanagementfees</td>\n",
       "      <td>2</td>\n",
       "    </tr>\n",
       "    <tr>\n",
       "      <th>50205</th>\n",
       "      <td>JPM US</td>\n",
       "      <td>Total Asset Management fees, mm</td>\n",
       "      <td>z_3FRM7X0148_MO_OS_totalassetmanagementfees_1</td>\n",
       "      <td>2</td>\n",
       "    </tr>\n",
       "    <tr>\n",
       "      <th>50210</th>\n",
       "      <td>JPM US</td>\n",
       "      <td>Multi-assets &amp; Alternatives Net Asset Flow, bn</td>\n",
       "      <td>z_3FRM7X0148_MO_OS_multiassetsalternativesnetassetflow</td>\n",
       "      <td>2</td>\n",
       "    </tr>\n",
       "    <tr>\n",
       "      <th>50209</th>\n",
       "      <td>JPM US</td>\n",
       "      <td>Equity Net Asset Flow, bn</td>\n",
       "      <td>z_3FRM7X0148_MO_OS_EquityNetAssetFlow</td>\n",
       "      <td>2</td>\n",
       "    </tr>\n",
       "    <tr>\n",
       "      <th>50320</th>\n",
       "      <td>JPM US</td>\n",
       "      <td>Corporate &amp; Investment Bank Asset management, administration and commissions, mm</td>\n",
       "      <td>z_3FRM7X0148_MO_OS_CorporateInvestmentBankAssetmanagementadministrationandcommissions</td>\n",
       "      <td>2</td>\n",
       "    </tr>\n",
       "    <tr>\n",
       "      <th>50260</th>\n",
       "      <td>JPM US</td>\n",
       "      <td>Consumer &amp; Community Banking Asset management, administration and commissions, mm</td>\n",
       "      <td>z_3FRM7X0148_MO_OS_ConsumerCommunityBankingAssetmanagementadministrationandcommissions</td>\n",
       "      <td>2</td>\n",
       "    </tr>\n",
       "    <tr>\n",
       "      <th>50354</th>\n",
       "      <td>JPM US</td>\n",
       "      <td>Commercial Banking Asset management, administration and commissions, mm</td>\n",
       "      <td>z_3FRM7X0148_MO_OS_CommercialBankingAssetmanagementadministrationandcommissions</td>\n",
       "      <td>2</td>\n",
       "    </tr>\n",
       "    <tr>\n",
       "      <th>50411</th>\n",
       "      <td>JPM US</td>\n",
       "      <td>Asset management, administration and commissions</td>\n",
       "      <td>z_3FRM7X0148_MO_IS_assetmanagement</td>\n",
       "      <td>2</td>\n",
       "    </tr>\n",
       "    <tr>\n",
       "      <th>50382</th>\n",
       "      <td>JPM US</td>\n",
       "      <td>Asset &amp; Wealth Management Total Revenue, mm</td>\n",
       "      <td>z_3FRM7X0148_MO_OS_AssetWealthManagementTotalRevenue</td>\n",
       "      <td>2</td>\n",
       "    </tr>\n",
       "    <tr>\n",
       "      <th>50383</th>\n",
       "      <td>JPM US</td>\n",
       "      <td>Asset &amp; Wealth Management Provision for credit losses, mm</td>\n",
       "      <td>z_3FRM7X0148_MO_OS_AssetWealthManagementProvisionforcreditlosses</td>\n",
       "      <td>2</td>\n",
       "    </tr>\n",
       "    <tr>\n",
       "      <th>50380</th>\n",
       "      <td>JPM US</td>\n",
       "      <td>Asset &amp; Wealth Management Noninterest revenue, mm</td>\n",
       "      <td>z_3FRM7X0148_MO_OS_AssetWealthManagementNoninterestrevenue</td>\n",
       "      <td>2</td>\n",
       "    </tr>\n",
       "    <tr>\n",
       "      <th>50385</th>\n",
       "      <td>JPM US</td>\n",
       "      <td>Asset &amp; Wealth Management Noncompensation expense, mm</td>\n",
       "      <td>z_3FRM7X0148_MO_OS_AssetWealthManagementNoncompensationexpense</td>\n",
       "      <td>2</td>\n",
       "    </tr>\n",
       "    <tr>\n",
       "      <th>50381</th>\n",
       "      <td>JPM US</td>\n",
       "      <td>Asset &amp; Wealth Management Net Interest Income, mm</td>\n",
       "      <td>z_3FRM7X0148_MO_OS_AssetWealthManagementNetInterestIncome</td>\n",
       "      <td>2</td>\n",
       "    </tr>\n",
       "    <tr>\n",
       "      <th>50389</th>\n",
       "      <td>JPM US</td>\n",
       "      <td>Asset &amp; Wealth Management Net Income, mm</td>\n",
       "      <td>z_3FRM7X0148_MO_OS_AssetWealthManagementNetIncome</td>\n",
       "      <td>2</td>\n",
       "    </tr>\n",
       "    <tr>\n",
       "      <th>50388</th>\n",
       "      <td>JPM US</td>\n",
       "      <td>Asset &amp; Wealth Management Income tax expense, mm</td>\n",
       "      <td>z_3FRM7X0148_MO_OS_AssetWealthManagementIncometaxexpense</td>\n",
       "      <td>2</td>\n",
       "    </tr>\n",
       "    <tr>\n",
       "      <th>50387</th>\n",
       "      <td>JPM US</td>\n",
       "      <td>Asset &amp; Wealth Management EBT, mm</td>\n",
       "      <td>z_3FRM7X0148_MO_OS_AssetWealthManagementEBT</td>\n",
       "      <td>2</td>\n",
       "    </tr>\n",
       "    <tr>\n",
       "      <th>50384</th>\n",
       "      <td>JPM US</td>\n",
       "      <td>Asset &amp; Wealth Management Compensation expense, mm</td>\n",
       "      <td>z_3FRM7X0148_MO_OS_AssetWealthManagementCompensationexpense</td>\n",
       "      <td>2</td>\n",
       "    </tr>\n",
       "    <tr>\n",
       "      <th>50386</th>\n",
       "      <td>JPM US</td>\n",
       "      <td>Asset &amp; Wealth Management Amortization of Intangibles, mm</td>\n",
       "      <td>z_3FRM7X0148_MO_OS_AssetWealthManagementAmortizationofIntangibles</td>\n",
       "      <td>2</td>\n",
       "    </tr>\n",
       "    <tr>\n",
       "      <th>50379</th>\n",
       "      <td>JPM US</td>\n",
       "      <td>Asset &amp; Wealth Management All other Income, mm</td>\n",
       "      <td>z_3FRM7X0148_MO_OS_AssetWealthManagementAllotherIncome</td>\n",
       "      <td>2</td>\n",
       "    </tr>\n",
       "  </tbody>\n",
       "</table>\n",
       "</div>"
      ],
      "text/plain": [
       "       ticker                                                            time_series_description                                                                        time_series_name  search_matches\n",
       "50378  JPM US  Asset & Wealth Management Asset management, administration and commissions, mm     z_3FRM7X0148_MO_OS_AssetWealthManagementAssetmanagementadministrationandcommissions     4             \n",
       "50189  JPM US  Total Asset Management fees, mm                                                    z_3FRM7X0148_MO_OS_totalassetmanagementfees                                             2             \n",
       "50205  JPM US  Total Asset Management fees, mm                                                    z_3FRM7X0148_MO_OS_totalassetmanagementfees_1                                           2             \n",
       "50210  JPM US  Multi-assets & Alternatives Net Asset Flow, bn                                     z_3FRM7X0148_MO_OS_multiassetsalternativesnetassetflow                                  2             \n",
       "50209  JPM US  Equity Net Asset Flow, bn                                                          z_3FRM7X0148_MO_OS_EquityNetAssetFlow                                                   2             \n",
       "50320  JPM US  Corporate & Investment Bank Asset management, administration and commissions, mm   z_3FRM7X0148_MO_OS_CorporateInvestmentBankAssetmanagementadministrationandcommissions   2             \n",
       "50260  JPM US  Consumer & Community Banking Asset management, administration and commissions, mm  z_3FRM7X0148_MO_OS_ConsumerCommunityBankingAssetmanagementadministrationandcommissions  2             \n",
       "50354  JPM US  Commercial Banking Asset management, administration and commissions, mm            z_3FRM7X0148_MO_OS_CommercialBankingAssetmanagementadministrationandcommissions         2             \n",
       "50411  JPM US  Asset management, administration and commissions                                   z_3FRM7X0148_MO_IS_assetmanagement                                                      2             \n",
       "50382  JPM US  Asset & Wealth Management Total Revenue, mm                                        z_3FRM7X0148_MO_OS_AssetWealthManagementTotalRevenue                                    2             \n",
       "50383  JPM US  Asset & Wealth Management Provision for credit losses, mm                          z_3FRM7X0148_MO_OS_AssetWealthManagementProvisionforcreditlosses                        2             \n",
       "50380  JPM US  Asset & Wealth Management Noninterest revenue, mm                                  z_3FRM7X0148_MO_OS_AssetWealthManagementNoninterestrevenue                              2             \n",
       "50385  JPM US  Asset & Wealth Management Noncompensation expense, mm                              z_3FRM7X0148_MO_OS_AssetWealthManagementNoncompensationexpense                          2             \n",
       "50381  JPM US  Asset & Wealth Management Net Interest Income, mm                                  z_3FRM7X0148_MO_OS_AssetWealthManagementNetInterestIncome                               2             \n",
       "50389  JPM US  Asset & Wealth Management Net Income, mm                                           z_3FRM7X0148_MO_OS_AssetWealthManagementNetIncome                                       2             \n",
       "50388  JPM US  Asset & Wealth Management Income tax expense, mm                                   z_3FRM7X0148_MO_OS_AssetWealthManagementIncometaxexpense                                2             \n",
       "50387  JPM US  Asset & Wealth Management EBT, mm                                                  z_3FRM7X0148_MO_OS_AssetWealthManagementEBT                                             2             \n",
       "50384  JPM US  Asset & Wealth Management Compensation expense, mm                                 z_3FRM7X0148_MO_OS_AssetWealthManagementCompensationexpense                             2             \n",
       "50386  JPM US  Asset & Wealth Management Amortization of Intangibles, mm                          z_3FRM7X0148_MO_OS_AssetWealthManagementAmortizationofIntangibles                       2             \n",
       "50379  JPM US  Asset & Wealth Management All other Income, mm                                     z_3FRM7X0148_MO_OS_AssetWealthManagementAllotherIncome                                  2             "
      ]
     },
     "execution_count": 28,
     "metadata": {},
     "output_type": "execute_result"
    }
   ],
   "source": [
    "df\n",
    "# gs z_JAJJLJ0162_MO_OS_Equityinvestments_1\n",
    "# jpm z_3FRM7X0148_MO_OS_EquityNetAssetFlow"
   ]
  },
  {
   "cell_type": "markdown",
   "id": "5c519e76-be82-4e76-90f7-a293675450a9",
   "metadata": {},
   "source": [
    "### Now that we have our series, let's pull the data from Canalyst"
   ]
  },
  {
   "cell_type": "code",
   "execution_count": 29,
   "id": "fb7d781e-3925-415f-ac4c-4782c42302ec",
   "metadata": {},
   "outputs": [],
   "source": [
    "ticker = \"JPM US\"\n",
    "model_set = cd.ModelSet(ticker_list=[ticker], \n",
    "                            config=config)\n",
    "\n",
    "df_jpm_equity_flows = model_set.model_frame(ticker=ticker,\n",
    "                      period_duration_type='fiscal_quarter',\n",
    "                      is_historical=True,\n",
    "                      time_series_name='z_3FRM7X0148_MO_OS_EquityNetAssetFlow')[['ticker','time_series_name','period_end_date','value']]"
   ]
  },
  {
   "cell_type": "markdown",
   "id": "914f0610-99fa-4c2f-921d-a5d3d9ff9350",
   "metadata": {},
   "source": [
    "### Next we get GS data from Canalyst"
   ]
  },
  {
   "cell_type": "code",
   "execution_count": 33,
   "id": "0cebff9d-1660-4a4d-81c6-1231d57ca384",
   "metadata": {},
   "outputs": [],
   "source": [
    "ticker = \"GS US\"\n",
    "model_set = cd.ModelSet(ticker_list=[ticker], \n",
    "                            config=config)\n",
    "df_gs_equity_investments = model_set.model_frame(ticker=ticker,\n",
    "                      period_duration_type='fiscal_quarter',\n",
    "                      time_series_name='z_JAJJLJ0162_MO_OS_Equityinvestments_1')[['ticker','time_series_name','period_end_date','value','is_driver']]"
   ]
  },
  {
   "cell_type": "markdown",
   "id": "b4e9e25a-27e9-4612-bf64-251900cc56fd",
   "metadata": {},
   "source": [
    "### Now we use the regress_dataframe function from Candas DataReader"
   ]
  },
  {
   "cell_type": "markdown",
   "id": "af7a547a-4dd1-41dc-a3c0-d52a3a1ead9d",
   "metadata": {},
   "source": [
    "#### JPM ficc trading vs GS ficc trading"
   ]
  },
  {
   "cell_type": "code",
   "execution_count": 37,
   "id": "240578eb-ea64-411c-980c-7c6dd5d904cc",
   "metadata": {},
   "outputs": [
    {
     "data": {
      "text/html": [
       "<table class=\"simpletable\">\n",
       "<caption>OLS Regression Results</caption>\n",
       "<tr>\n",
       "  <th>Dep. Variable:</th>         <td>value_y</td>     <th>  R-squared:         </th> <td>   0.493</td>\n",
       "</tr>\n",
       "<tr>\n",
       "  <th>Model:</th>                   <td>OLS</td>       <th>  Adj. R-squared:    </th> <td>   0.443</td>\n",
       "</tr>\n",
       "<tr>\n",
       "  <th>Method:</th>             <td>Least Squares</td>  <th>  F-statistic:       </th> <td>   9.737</td>\n",
       "</tr>\n",
       "<tr>\n",
       "  <th>Date:</th>             <td>Mon, 10 Jan 2022</td> <th>  Prob (F-statistic):</th>  <td>0.0109</td> \n",
       "</tr>\n",
       "<tr>\n",
       "  <th>Time:</th>                 <td>19:52:32</td>     <th>  Log-Likelihood:    </th> <td> -261.78</td>\n",
       "</tr>\n",
       "<tr>\n",
       "  <th>No. Observations:</th>      <td>    12</td>      <th>  AIC:               </th> <td>   527.6</td>\n",
       "</tr>\n",
       "<tr>\n",
       "  <th>Df Residuals:</th>          <td>    10</td>      <th>  BIC:               </th> <td>   528.5</td>\n",
       "</tr>\n",
       "<tr>\n",
       "  <th>Df Model:</th>              <td>     1</td>      <th>                     </th>     <td> </td>   \n",
       "</tr>\n",
       "<tr>\n",
       "  <th>Covariance Type:</th>      <td>nonrobust</td>    <th>                     </th>     <td> </td>   \n",
       "</tr>\n",
       "</table>"
      ],
      "text/plain": [
       "<class 'statsmodels.iolib.table.SimpleTable'>"
      ]
     },
     "execution_count": 37,
     "metadata": {},
     "output_type": "execute_result"
    }
   ],
   "source": [
    "df = pd.merge(df_jpm_equity_flows,df_gs_equity_investments,how='inner',left_on='period_end_date',right_on='period_end_date')[['period_end_date','value_x','value_y']]\n",
    "cdr.regress_dataframe(df,'value_y','value_x',y_filter=\"\").tables[0]"
   ]
  },
  {
   "cell_type": "code",
   "execution_count": 35,
   "id": "a2027ce8-e7fe-47a7-8b4d-d28fe0f91712",
   "metadata": {},
   "outputs": [
    {
     "data": {
      "text/html": [
       "\n",
       "        <iframe\n",
       "            width=\"100%\"\n",
       "            height=\"475\"\n",
       "            src=\"/user/canalyst_candas/proxy/40000/dtale/iframe/1\"\n",
       "            frameborder=\"0\"\n",
       "            allowfullscreen\n",
       "            \n",
       "        ></iframe>\n",
       "        "
      ],
      "text/plain": [
       "<IPython.lib.display.IFrame at 0x7f60fde87d90>"
      ]
     },
     "metadata": {},
     "output_type": "display_data"
    },
    {
     "data": {
      "text/plain": []
     },
     "execution_count": 35,
     "metadata": {},
     "output_type": "execute_result"
    }
   ],
   "source": [
    "df.columns=['period_end_date','JPM US','GS US']\n",
    "dtale.show(df.dropna())"
   ]
  }
 ],
 "metadata": {
  "kernelspec": {
   "display_name": "Python 3.9",
   "language": "python",
   "name": "python3"
  },
  "language_info": {
   "codemirror_mode": {
    "name": "ipython",
    "version": 3
   },
   "file_extension": ".py",
   "mimetype": "text/x-python",
   "name": "python",
   "nbconvert_exporter": "python",
   "pygments_lexer": "ipython3",
   "version": "3.9.7"
  }
 },
 "nbformat": 4,
 "nbformat_minor": 5
}
