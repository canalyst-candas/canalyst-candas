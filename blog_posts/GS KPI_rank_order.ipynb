{
 "cells": [
  {
   "cell_type": "markdown",
   "metadata": {},
   "source": [
    "Please request an api key at:\n",
    "https://app.canalyst.com/settings/api-tokens"
   ]
  },
  {
   "cell_type": "code",
   "execution_count": 1,
   "metadata": {},
   "outputs": [],
   "source": [
    "## KPI Rank Order\n",
    "### (For a different ticker edit second code cell)"
   ]
  },
  {
   "cell_type": "code",
   "execution_count": 1,
   "metadata": {},
   "outputs": [
    {
     "name": "stdout",
     "output_type": "stream",
     "text": [
      "A configuration file has been created for you in \n",
      "/home/canalyst-candas/canalyst/keys.json. For Excel file downloads and scenario \n",
      "mapping, you'll need to add an API key to the 'canalyst_api_key' \n",
      "value. Visit https://app.canalyst.com/settings/api-tokens to create \n",
      "and retrieve your API key. You will also need to retrieve your \n",
      "S3 Access ID and Secret Key and fill in 'canalyst_s3_id' and \n",
      "'canalyst_s3_key' with those values, respectively. If using a \n",
      "Jupyter Notebook, stop and restart the notebook for the changes to \n",
      "take effect. If using a Python/iPython session, quit the current \n",
      "session and start a new one.\n"
     ]
    },
    {
     "data": {
      "text/html": [
       "<style>.container { width:100% !important; }</style>"
      ],
      "text/plain": [
       "<IPython.core.display.HTML object>"
      ]
     },
     "metadata": {},
     "output_type": "display_data"
    }
   ],
   "source": [
    "import sys\n",
    "import os\n",
    "import dtale\n",
    "import dtale.app as dtale_app\n",
    "dtale_app.JUPYTER_SERVER_PROXY = True\n",
    "import pandas as pd\n",
    "pd.set_option('display.float_format', lambda x: '%.5f' % x)\n",
    "import canalyst_candas.candas as cd\n",
    "import canalyst_candas.candas_datareader as cdr\n",
    "from canalyst_candas.configuration.config import Config\n",
    "config_info = {\n",
    "  \"canalyst_api_key\": \"\",\n",
    "  \"s3_access_key_id\": \"\",\n",
    "  \"s3_secret_key\": \"\",\n",
    "  \"fred_key\": \"\",\n",
    "  \"default_dir\": \"\",\n",
    "  \"mds_host\": \"\",\n",
    "  \"wp_host\": \"\"\n",
    "}\n",
    "config = Config(config=config_info)\n",
    "from IPython.core.display import display, HTML\n",
    "display(HTML(\"<style>.container { width:100% !important; }</style>\"))\n",
    "pd.set_option('display.max_columns', None)\n",
    "pd.set_option('display.expand_frame_repr', False)\n",
    "pd.set_option('max_colwidth', -1)"
   ]
  },
  {
   "cell_type": "markdown",
   "metadata": {},
   "source": [
    "<b>Key Parameters</b>\n",
    "\n",
    "Establish our price ticker (data source yahoo finance) and our Canalyst ticker (we use Bloomberg ticker format)"
   ]
  },
  {
   "cell_type": "code",
   "execution_count": 2,
   "metadata": {},
   "outputs": [],
   "source": [
    "ticker = \"GS US\"\n",
    "yahoo_ticker = \"GS\" #need this for prices\n",
    "index_ticker = \"^GSPC\" #this is our benchmark index (^GSPC for S&P 500, EFA for msci eafa etc)\n",
    "alpha_days = \"alpha_1_day\" #or alpha_5_day or alpha_10_day\n",
    "regression_window = 12\n",
    "model_set = cd.ModelSet(ticker_list=[ticker], config=config) #create a modelset of our ticker"
   ]
  },
  {
   "cell_type": "markdown",
   "metadata": {},
   "source": [
    "Check whether we cover this stock"
   ]
  },
  {
   "cell_type": "code",
   "execution_count": 3,
   "metadata": {},
   "outputs": [
    {
     "data": {
      "text/html": [
       "<div>\n",
       "<style scoped>\n",
       "    .dataframe tbody tr th:only-of-type {\n",
       "        vertical-align: middle;\n",
       "    }\n",
       "\n",
       "    .dataframe tbody tr th {\n",
       "        vertical-align: top;\n",
       "    }\n",
       "\n",
       "    .dataframe thead th {\n",
       "        text-align: right;\n",
       "    }\n",
       "</style>\n",
       "<table border=\"1\" class=\"dataframe\">\n",
       "  <thead>\n",
       "    <tr style=\"text-align: right;\">\n",
       "      <th></th>\n",
       "      <th>File</th>\n",
       "      <th>Bloomberg Ticker</th>\n",
       "      <th>Thomson Ticker</th>\n",
       "    </tr>\n",
       "  </thead>\n",
       "  <tbody>\n",
       "    <tr>\n",
       "      <th>1149</th>\n",
       "      <td>Goldman Sachs GS US</td>\n",
       "      <td>GS US</td>\n",
       "      <td>GS.N</td>\n",
       "    </tr>\n",
       "  </tbody>\n",
       "</table>\n",
       "</div>"
      ],
      "text/plain": [
       "                     File Bloomberg Ticker Thomson Ticker\n",
       "1149  Goldman Sachs GS US  GS US            GS.N         "
      ]
     },
     "execution_count": 3,
     "metadata": {},
     "output_type": "execute_result"
    }
   ],
   "source": [
    "#instantiate a search object, which we will also use later\n",
    "search = cd.Search(config)\n",
    "search.get_ticker_list(ticker = ticker) #do we cover this stock?"
   ]
  },
  {
   "cell_type": "markdown",
   "metadata": {},
   "source": [
    "Let's take a look at the list of available segments (categories) in the model."
   ]
  },
  {
   "cell_type": "code",
   "execution_count": 4,
   "metadata": {},
   "outputs": [
    {
     "data": {
      "text/plain": [
       "['Growth Analysis',\n",
       " 'Segmented Results - Revenue Breakdown (FS)',\n",
       " 'Segmented Results - Investment Banking (FS & PR & IP)',\n",
       " 'Operating Stats - Investment Banking (MD&A)',\n",
       " 'Key Metrics - Investment Banking (MD&A & IP)',\n",
       " 'Segmented Results - Global Markets (FS & PR & IP)',\n",
       " 'Key Metrics - Global Markets (MD&A & IP)',\n",
       " 'Segmented Results - Asset Management (FS & PR & IP)',\n",
       " 'Operating Stats - Asset Management (FS & PR)',\n",
       " 'Key Metrics - Asset Management (MD&A)',\n",
       " 'Segmented Results - Consumer & Wealth Management (FS & PR & IP)',\n",
       " 'Operating Stats - Consumer & Wealth Management (FS & PR)',\n",
       " 'Key Metrics - Consumer & Wealth Management (MD&A)',\n",
       " 'Key Metrics - AUS by Asset Class (FS & PR)',\n",
       " 'Key Metrics - Average Daily VaR (FS & PR)',\n",
       " 'Segmented Results - Geographic Revenue Breakdown (FS)',\n",
       " 'Key Metrics - Headcount (FS & PR)',\n",
       " 'Segmented Results - Investment Banking (FS) (Historical)',\n",
       " 'Operating Stats - Investment Banking (FS) (Historical)',\n",
       " 'Segmented Results - Institutional Client Services (FS) (Historical)',\n",
       " 'Segmented Results - Investing & Lending (FS) (Historical)',\n",
       " 'Segmented Results - Investment Management (FS) (Historical)',\n",
       " 'Operating Stats - Investment Management (FS) (Historical)',\n",
       " 'Segmented Results - Other (FS) (Historical)',\n",
       " 'Margin Analysis',\n",
       " 'Income Statement As Reported',\n",
       " 'Revised Income Statement',\n",
       " 'Dividend Summary',\n",
       " 'Balance Sheet Summary',\n",
       " 'Regulatory Capital As Reported',\n",
       " 'Valuation',\n",
       " 'Cumulative Cash Flow Statement',\n",
       " 'Cash Flow Statement',\n",
       " 'Balance Sheet']"
      ]
     },
     "execution_count": 4,
     "metadata": {},
     "output_type": "execute_result"
    }
   ],
   "source": [
    "categories = list(model_set.model_frame(ticker=ticker,\n",
    "                      period_duration_type = \"fiscal_quarter\", \n",
    "                      mrq=True)['category'].unique())\n",
    "categories"
   ]
  },
  {
   "cell_type": "markdown",
   "metadata": {},
   "source": [
    "Goal: Create a pivoted view of one category of the model_frame"
   ]
  },
  {
   "cell_type": "code",
   "execution_count": 5,
   "metadata": {},
   "outputs": [
    {
     "data": {
      "text/html": [
       "<div>\n",
       "<style scoped>\n",
       "    .dataframe tbody tr th:only-of-type {\n",
       "        vertical-align: middle;\n",
       "    }\n",
       "\n",
       "    .dataframe tbody tr th {\n",
       "        vertical-align: top;\n",
       "    }\n",
       "\n",
       "    .dataframe thead th {\n",
       "        text-align: right;\n",
       "    }\n",
       "</style>\n",
       "<table border=\"1\" class=\"dataframe\">\n",
       "  <thead>\n",
       "    <tr style=\"text-align: right;\">\n",
       "      <th>period_name_sorted</th>\n",
       "      <th>ticker</th>\n",
       "      <th>name_index</th>\n",
       "      <th>category</th>\n",
       "      <th>time_series_name</th>\n",
       "      <th>time_series_description</th>\n",
       "      <th>is_driver</th>\n",
       "      <th>MRFQ</th>\n",
       "      <th>2018Q4</th>\n",
       "      <th>2019Q1</th>\n",
       "      <th>2019Q2</th>\n",
       "      <th>2019Q3</th>\n",
       "      <th>2019Q4</th>\n",
       "      <th>2020Q1</th>\n",
       "      <th>2020Q2</th>\n",
       "      <th>2020Q3</th>\n",
       "      <th>2020Q4</th>\n",
       "      <th>2021Q1</th>\n",
       "      <th>2021Q2</th>\n",
       "      <th>2021Q3</th>\n",
       "    </tr>\n",
       "  </thead>\n",
       "  <tbody>\n",
       "    <tr>\n",
       "      <th>0</th>\n",
       "      <td>GS US</td>\n",
       "      <td>7</td>\n",
       "      <td>Growth Analysis</td>\n",
       "      <td>z_JAJJLJ0162_MO_GA_Financialadvisoryrevenuegrowth</td>\n",
       "      <td>Financial Advisory revenue growth, %</td>\n",
       "      <td>False</td>\n",
       "      <td>Q3-2021</td>\n",
       "      <td>0.00000</td>\n",
       "      <td>0.00000</td>\n",
       "      <td>0.00000</td>\n",
       "      <td>0.00000</td>\n",
       "      <td>-28.63105</td>\n",
       "      <td>-10.64073</td>\n",
       "      <td>-11.02464</td>\n",
       "      <td>-27.25968</td>\n",
       "      <td>27.60234</td>\n",
       "      <td>43.02177</td>\n",
       "      <td>83.23615</td>\n",
       "      <td>225.04931</td>\n",
       "    </tr>\n",
       "    <tr>\n",
       "      <th>1</th>\n",
       "      <td>GS US</td>\n",
       "      <td>8</td>\n",
       "      <td>Growth Analysis</td>\n",
       "      <td>z_JAJJLJ0162_MO_GA_Underwritingrevenuegrowth</td>\n",
       "      <td>Underwriting revenue growth, %</td>\n",
       "      <td>False</td>\n",
       "      <td>Q3-2021</td>\n",
       "      <td>0.00000</td>\n",
       "      <td>0.00000</td>\n",
       "      <td>0.00000</td>\n",
       "      <td>0.00000</td>\n",
       "      <td>31.31720</td>\n",
       "      <td>29.16667</td>\n",
       "      <td>106.76768</td>\n",
       "      <td>60.33708</td>\n",
       "      <td>67.96315</td>\n",
       "      <td>154.83871</td>\n",
       "      <td>7.13239</td>\n",
       "      <td>33.14646</td>\n",
       "    </tr>\n",
       "    <tr>\n",
       "      <th>2</th>\n",
       "      <td>GS US</td>\n",
       "      <td>9</td>\n",
       "      <td>Growth Analysis</td>\n",
       "      <td>z_JAJJLJ0162_MO_GA_CorporateLendingrevenuegrowth</td>\n",
       "      <td>Corporate Lending revenue growth, %</td>\n",
       "      <td>True</td>\n",
       "      <td>Q3-2021</td>\n",
       "      <td>0.00000</td>\n",
       "      <td>0.00000</td>\n",
       "      <td>0.00000</td>\n",
       "      <td>0.00000</td>\n",
       "      <td>-7.56972</td>\n",
       "      <td>245.31250</td>\n",
       "      <td>-140.64171</td>\n",
       "      <td>-86.22047</td>\n",
       "      <td>-151.29310</td>\n",
       "      <td>-53.61991</td>\n",
       "      <td>-309.21053</td>\n",
       "      <td>334.28571</td>\n",
       "    </tr>\n",
       "    <tr>\n",
       "      <th>3</th>\n",
       "      <td>GS US</td>\n",
       "      <td>10</td>\n",
       "      <td>Growth Analysis</td>\n",
       "      <td>z_JAJJLJ0162_MO_OS_investmentbankingrevenuegrowth</td>\n",
       "      <td>Investment Banking revenue growth, %</td>\n",
       "      <td>False</td>\n",
       "      <td>Q3-2021</td>\n",
       "      <td>0.00000</td>\n",
       "      <td>0.00000</td>\n",
       "      <td>0.00000</td>\n",
       "      <td>0.00000</td>\n",
       "      <td>-5.88235</td>\n",
       "      <td>25.08591</td>\n",
       "      <td>36.39630</td>\n",
       "      <td>6.95274</td>\n",
       "      <td>26.59884</td>\n",
       "      <td>72.66484</td>\n",
       "      <td>35.82988</td>\n",
       "      <td>87.91265</td>\n",
       "    </tr>\n",
       "    <tr>\n",
       "      <th>4</th>\n",
       "      <td>GS US</td>\n",
       "      <td>11</td>\n",
       "      <td>Growth Analysis</td>\n",
       "      <td>z_JAJJLJ0162_MO_OS_ficcexecutionrevenuegrowth</td>\n",
       "      <td>FICC revenue growth, %</td>\n",
       "      <td>True</td>\n",
       "      <td>Q3-2021</td>\n",
       "      <td>0.00000</td>\n",
       "      <td>0.00000</td>\n",
       "      <td>0.00000</td>\n",
       "      <td>0.00000</td>\n",
       "      <td>62.74149</td>\n",
       "      <td>32.66309</td>\n",
       "      <td>148.82491</td>\n",
       "      <td>49.01727</td>\n",
       "      <td>6.16167</td>\n",
       "      <td>31.12159</td>\n",
       "      <td>-45.21842</td>\n",
       "      <td>0.23981</td>\n",
       "    </tr>\n",
       "  </tbody>\n",
       "</table>\n",
       "</div>"
      ],
      "text/plain": [
       "period_name_sorted ticker  name_index         category                                   time_series_name               time_series_description  is_driver     MRFQ  2018Q4  2019Q1  2019Q2  2019Q3    2019Q4    2020Q1     2020Q2    2020Q3     2020Q4    2021Q1     2021Q2    2021Q3\n",
       "0                   GS US  7           Growth Analysis  z_JAJJLJ0162_MO_GA_Financialadvisoryrevenuegrowth  Financial Advisory revenue growth, %  False      Q3-2021 0.00000 0.00000 0.00000 0.00000 -28.63105 -10.64073 -11.02464  -27.25968 27.60234   43.02177  83.23615   225.04931\n",
       "1                   GS US  8           Growth Analysis  z_JAJJLJ0162_MO_GA_Underwritingrevenuegrowth       Underwriting revenue growth, %        False      Q3-2021 0.00000 0.00000 0.00000 0.00000 31.31720  29.16667  106.76768  60.33708  67.96315   154.83871 7.13239    33.14646 \n",
       "2                   GS US  9           Growth Analysis  z_JAJJLJ0162_MO_GA_CorporateLendingrevenuegrowth   Corporate Lending revenue growth, %   True       Q3-2021 0.00000 0.00000 0.00000 0.00000 -7.56972  245.31250 -140.64171 -86.22047 -151.29310 -53.61991 -309.21053 334.28571\n",
       "3                   GS US  10          Growth Analysis  z_JAJJLJ0162_MO_OS_investmentbankingrevenuegrowth  Investment Banking revenue growth, %  False      Q3-2021 0.00000 0.00000 0.00000 0.00000 -5.88235  25.08591  36.39630   6.95274   26.59884   72.66484  35.82988   87.91265 \n",
       "4                   GS US  11          Growth Analysis  z_JAJJLJ0162_MO_OS_ficcexecutionrevenuegrowth      FICC revenue growth, %                True       Q3-2021 0.00000 0.00000 0.00000 0.00000 62.74149  32.66309  148.82491  49.01727  6.16167    31.12159  -45.21842  0.23981  "
      ]
     },
     "execution_count": 5,
     "metadata": {},
     "output_type": "execute_result"
    }
   ],
   "source": [
    "model_set.model_frame(ticker=ticker,\n",
    "                      category=categories[0], #filter to one or more category\n",
    "                      period_duration_type = \"fiscal_quarter\", #only fiscal quarters\n",
    "                      is_historical=True, #historical data only\n",
    "                      pivot=True, #pivot the data so dates are on column headers\n",
    "                     n_periods=regression_window).head()"
   ]
  },
  {
   "cell_type": "markdown",
   "metadata": {},
   "source": [
    "Next we set up a dataset which includes:\n",
    "- a full modelframe of quarterly data \n",
    "- a set of earnings data, \n",
    "- rolling 252 day beta vs the S&P 500\n",
    "- 1 and 5 and 10 day alpha (excess beta adjusted performance vs the S&P 500)"
   ]
  },
  {
   "cell_type": "code",
   "execution_count": 6,
   "metadata": {},
   "outputs": [],
   "source": [
    "df_data = model_set.pe_dataset(ticker,yahoo_ticker,index_ticker)"
   ]
  },
  {
   "cell_type": "markdown",
   "metadata": {},
   "source": [
    "In a separate example, we can:\n",
    "    <br>- pull just the earnings and prices dataframe for this ticker \n",
    "    <br>- chart earnings surprise vs stock movement"
   ]
  },
  {
   "cell_type": "code",
   "execution_count": 7,
   "metadata": {},
   "outputs": [],
   "source": [
    "df = cdr.get_earnings_and_prices(yahoo_ticker,index_ticker = index_ticker) "
   ]
  },
  {
   "cell_type": "code",
   "execution_count": 8,
   "metadata": {},
   "outputs": [
    {
     "data": {
      "text/html": [
       "<div>\n",
       "<style scoped>\n",
       "    .dataframe tbody tr th:only-of-type {\n",
       "        vertical-align: middle;\n",
       "    }\n",
       "\n",
       "    .dataframe tbody tr th {\n",
       "        vertical-align: top;\n",
       "    }\n",
       "\n",
       "    .dataframe thead th {\n",
       "        text-align: right;\n",
       "    }\n",
       "</style>\n",
       "<table border=\"1\" class=\"dataframe\">\n",
       "  <thead>\n",
       "    <tr style=\"text-align: right;\">\n",
       "      <th></th>\n",
       "      <th>ticker</th>\n",
       "      <th>earnings_date</th>\n",
       "      <th>companyshortname</th>\n",
       "      <th>price_date</th>\n",
       "      <th>epsestimate</th>\n",
       "      <th>epsactual</th>\n",
       "      <th>epssurprisepct</th>\n",
       "      <th>alpha_1_day</th>\n",
       "      <th>alpha_5_day</th>\n",
       "      <th>alpha_10_day</th>\n",
       "      <th>beta_252</th>\n",
       "      <th>plus_1_return</th>\n",
       "      <th>plus_5_return</th>\n",
       "      <th>plus_10_return</th>\n",
       "      <th>mktclose_plus_1_return</th>\n",
       "      <th>mktclose_plus_5_return</th>\n",
       "      <th>mktclose_plus_10_return</th>\n",
       "    </tr>\n",
       "  </thead>\n",
       "  <tbody>\n",
       "    <tr>\n",
       "      <th>46</th>\n",
       "      <td>GS</td>\n",
       "      <td>2020-10-14</td>\n",
       "      <td>The Goldman Sachs Group, Inc.</td>\n",
       "      <td>2020-10-14</td>\n",
       "      <td>5.57000</td>\n",
       "      <td>8.98000</td>\n",
       "      <td>61.25000</td>\n",
       "      <td>-0.01049</td>\n",
       "      <td>-0.01985</td>\n",
       "      <td>-0.02152</td>\n",
       "      <td>1.28350</td>\n",
       "      <td>-0.01245</td>\n",
       "      <td>-0.03939</td>\n",
       "      <td>-0.10160</td>\n",
       "      <td>-0.00153</td>\n",
       "      <td>-0.01522</td>\n",
       "      <td>-0.06238</td>\n",
       "    </tr>\n",
       "    <tr>\n",
       "      <th>47</th>\n",
       "      <td>GS</td>\n",
       "      <td>2021-01-19</td>\n",
       "      <td>The Goldman Sachs Group, Inc.</td>\n",
       "      <td>2021-01-19</td>\n",
       "      <td>7.47000</td>\n",
       "      <td>12.08000</td>\n",
       "      <td>61.63000</td>\n",
       "      <td>-0.03030</td>\n",
       "      <td>-0.05916</td>\n",
       "      <td>-0.03370</td>\n",
       "      <td>1.26456</td>\n",
       "      <td>-0.01268</td>\n",
       "      <td>-0.04228</td>\n",
       "      <td>-0.02457</td>\n",
       "      <td>0.01394</td>\n",
       "      <td>0.01335</td>\n",
       "      <td>0.00721</td>\n",
       "    </tr>\n",
       "    <tr>\n",
       "      <th>48</th>\n",
       "      <td>GS</td>\n",
       "      <td>2021-04-14</td>\n",
       "      <td>The Goldman Sachs Group, Inc.</td>\n",
       "      <td>2021-04-14</td>\n",
       "      <td>10.22000</td>\n",
       "      <td>18.60000</td>\n",
       "      <td>81.94000</td>\n",
       "      <td>-0.00276</td>\n",
       "      <td>-0.01335</td>\n",
       "      <td>0.02232</td>\n",
       "      <td>1.10879</td>\n",
       "      <td>0.00954</td>\n",
       "      <td>-0.00024</td>\n",
       "      <td>0.03805</td>\n",
       "      <td>0.01109</td>\n",
       "      <td>0.01182</td>\n",
       "      <td>0.01419</td>\n",
       "    </tr>\n",
       "    <tr>\n",
       "      <th>49</th>\n",
       "      <td>GS</td>\n",
       "      <td>2021-07-13</td>\n",
       "      <td>The Goldman Sachs Group, Inc.</td>\n",
       "      <td>2021-07-13</td>\n",
       "      <td>10.24000</td>\n",
       "      <td>15.02000</td>\n",
       "      <td>46.68000</td>\n",
       "      <td>-0.00517</td>\n",
       "      <td>-0.02110</td>\n",
       "      <td>-0.00914</td>\n",
       "      <td>0.82725</td>\n",
       "      <td>-0.00420</td>\n",
       "      <td>-0.02984</td>\n",
       "      <td>-0.00303</td>\n",
       "      <td>0.00116</td>\n",
       "      <td>-0.01056</td>\n",
       "      <td>0.00738</td>\n",
       "    </tr>\n",
       "    <tr>\n",
       "      <th>50</th>\n",
       "      <td>GS</td>\n",
       "      <td>2021-10-15</td>\n",
       "      <td>The Goldman Sachs Group, Inc.</td>\n",
       "      <td>2021-10-15</td>\n",
       "      <td>10.18000</td>\n",
       "      <td>14.93000</td>\n",
       "      <td>46.72000</td>\n",
       "      <td>0.01535</td>\n",
       "      <td>0.00367</td>\n",
       "      <td>-0.01240</td>\n",
       "      <td>1.01208</td>\n",
       "      <td>0.01877</td>\n",
       "      <td>0.02032</td>\n",
       "      <td>0.01793</td>\n",
       "      <td>0.00337</td>\n",
       "      <td>0.01644</td>\n",
       "      <td>0.02997</td>\n",
       "    </tr>\n",
       "  </tbody>\n",
       "</table>\n",
       "</div>"
      ],
      "text/plain": [
       "   ticker earnings_date               companyshortname price_date  epsestimate  epsactual  epssurprisepct  alpha_1_day  alpha_5_day  alpha_10_day  beta_252  plus_1_return  plus_5_return  plus_10_return  mktclose_plus_1_return  mktclose_plus_5_return  mktclose_plus_10_return\n",
       "46  GS    2020-10-14     The Goldman Sachs Group, Inc. 2020-10-14 5.57000      8.98000    61.25000        -0.01049     -0.01985     -0.02152      1.28350   -0.01245       -0.03939       -0.10160        -0.00153                -0.01522                -0.06238                \n",
       "47  GS    2021-01-19     The Goldman Sachs Group, Inc. 2021-01-19 7.47000      12.08000   61.63000        -0.03030     -0.05916     -0.03370      1.26456   -0.01268       -0.04228       -0.02457        0.01394                 0.01335                 0.00721                 \n",
       "48  GS    2021-04-14     The Goldman Sachs Group, Inc. 2021-04-14 10.22000     18.60000   81.94000        -0.00276     -0.01335     0.02232       1.10879   0.00954        -0.00024       0.03805         0.01109                 0.01182                 0.01419                 \n",
       "49  GS    2021-07-13     The Goldman Sachs Group, Inc. 2021-07-13 10.24000     15.02000   46.68000        -0.00517     -0.02110     -0.00914      0.82725   -0.00420       -0.02984       -0.00303        0.00116                 -0.01056                0.00738                 \n",
       "50  GS    2021-10-15     The Goldman Sachs Group, Inc. 2021-10-15 10.18000     14.93000   46.72000        0.01535      0.00367      -0.01240      1.01208   0.01877        0.02032        0.01793         0.00337                 0.01644                 0.02997                 "
      ]
     },
     "execution_count": 8,
     "metadata": {},
     "output_type": "execute_result"
    }
   ],
   "source": [
    "df.tail()"
   ]
  },
  {
   "cell_type": "markdown",
   "metadata": {},
   "source": [
    "We can use pandas' describe() function to get the mean eps surprise and subsequent stock movement for this stock."
   ]
  },
  {
   "cell_type": "code",
   "execution_count": 9,
   "metadata": {},
   "outputs": [
    {
     "data": {
      "text/html": [
       "<div>\n",
       "<style scoped>\n",
       "    .dataframe tbody tr th:only-of-type {\n",
       "        vertical-align: middle;\n",
       "    }\n",
       "\n",
       "    .dataframe tbody tr th {\n",
       "        vertical-align: top;\n",
       "    }\n",
       "\n",
       "    .dataframe thead th {\n",
       "        text-align: right;\n",
       "    }\n",
       "</style>\n",
       "<table border=\"1\" class=\"dataframe\">\n",
       "  <thead>\n",
       "    <tr style=\"text-align: right;\">\n",
       "      <th></th>\n",
       "      <th>index</th>\n",
       "      <th>epsestimate</th>\n",
       "      <th>epsactual</th>\n",
       "      <th>epssurprisepct</th>\n",
       "      <th>alpha_1_day</th>\n",
       "      <th>alpha_5_day</th>\n",
       "      <th>alpha_10_day</th>\n",
       "      <th>beta_252</th>\n",
       "      <th>plus_1_return</th>\n",
       "      <th>plus_5_return</th>\n",
       "      <th>plus_10_return</th>\n",
       "      <th>mktclose_plus_1_return</th>\n",
       "      <th>mktclose_plus_5_return</th>\n",
       "      <th>mktclose_plus_10_return</th>\n",
       "    </tr>\n",
       "  </thead>\n",
       "  <tbody>\n",
       "    <tr>\n",
       "      <th>0</th>\n",
       "      <td>count</td>\n",
       "      <td>51.00000</td>\n",
       "      <td>51.00000</td>\n",
       "      <td>51.00000</td>\n",
       "      <td>48.00000</td>\n",
       "      <td>48.00000</td>\n",
       "      <td>48.00000</td>\n",
       "      <td>48.00000</td>\n",
       "      <td>51.00000</td>\n",
       "      <td>51.00000</td>\n",
       "      <td>51.00000</td>\n",
       "      <td>51.00000</td>\n",
       "      <td>51.00000</td>\n",
       "      <td>51.00000</td>\n",
       "    </tr>\n",
       "    <tr>\n",
       "      <th>1</th>\n",
       "      <td>mean</td>\n",
       "      <td>4.04686</td>\n",
       "      <td>4.97569</td>\n",
       "      <td>11.82843</td>\n",
       "      <td>0.00036</td>\n",
       "      <td>-0.00289</td>\n",
       "      <td>0.00261</td>\n",
       "      <td>1.28137</td>\n",
       "      <td>-0.00061</td>\n",
       "      <td>-0.00076</td>\n",
       "      <td>0.00539</td>\n",
       "      <td>0.00104</td>\n",
       "      <td>0.00382</td>\n",
       "      <td>0.00484</td>\n",
       "    </tr>\n",
       "    <tr>\n",
       "      <th>2</th>\n",
       "      <td>std</td>\n",
       "      <td>2.08931</td>\n",
       "      <td>3.59819</td>\n",
       "      <td>73.12694</td>\n",
       "      <td>0.01295</td>\n",
       "      <td>0.02392</td>\n",
       "      <td>0.03027</td>\n",
       "      <td>0.21691</td>\n",
       "      <td>0.02312</td>\n",
       "      <td>0.03455</td>\n",
       "      <td>0.04209</td>\n",
       "      <td>0.00873</td>\n",
       "      <td>0.01801</td>\n",
       "      <td>0.02763</td>\n",
       "    </tr>\n",
       "    <tr>\n",
       "      <th>3</th>\n",
       "      <td>min</td>\n",
       "      <td>-0.16000</td>\n",
       "      <td>-0.84000</td>\n",
       "      <td>-434.76000</td>\n",
       "      <td>-0.03030</td>\n",
       "      <td>-0.07059</td>\n",
       "      <td>-0.07913</td>\n",
       "      <td>0.82725</td>\n",
       "      <td>-0.11556</td>\n",
       "      <td>-0.11633</td>\n",
       "      <td>-0.10160</td>\n",
       "      <td>-0.02214</td>\n",
       "      <td>-0.03067</td>\n",
       "      <td>-0.06238</td>\n",
       "    </tr>\n",
       "    <tr>\n",
       "      <th>4</th>\n",
       "      <td>25%</td>\n",
       "      <td>2.95500</td>\n",
       "      <td>2.94000</td>\n",
       "      <td>3.37000</td>\n",
       "      <td>-0.00612</td>\n",
       "      <td>-0.01606</td>\n",
       "      <td>-0.01641</td>\n",
       "      <td>1.14833</td>\n",
       "      <td>-0.01143</td>\n",
       "      <td>-0.02486</td>\n",
       "      <td>-0.01427</td>\n",
       "      <td>-0.00186</td>\n",
       "      <td>-0.00383</td>\n",
       "      <td>-0.00658</td>\n",
       "    </tr>\n",
       "    <tr>\n",
       "      <th>5</th>\n",
       "      <td>50%</td>\n",
       "      <td>3.82000</td>\n",
       "      <td>4.57000</td>\n",
       "      <td>20.44000</td>\n",
       "      <td>-0.00273</td>\n",
       "      <td>-0.00515</td>\n",
       "      <td>-0.00226</td>\n",
       "      <td>1.27697</td>\n",
       "      <td>0.00119</td>\n",
       "      <td>-0.00020</td>\n",
       "      <td>0.01323</td>\n",
       "      <td>0.00116</td>\n",
       "      <td>0.00519</td>\n",
       "      <td>0.00721</td>\n",
       "    </tr>\n",
       "    <tr>\n",
       "      <th>6</th>\n",
       "      <td>75%</td>\n",
       "      <td>4.85500</td>\n",
       "      <td>5.69500</td>\n",
       "      <td>39.42000</td>\n",
       "      <td>0.00709</td>\n",
       "      <td>0.01444</td>\n",
       "      <td>0.02122</td>\n",
       "      <td>1.42899</td>\n",
       "      <td>0.00993</td>\n",
       "      <td>0.01996</td>\n",
       "      <td>0.02993</td>\n",
       "      <td>0.00528</td>\n",
       "      <td>0.01303</td>\n",
       "      <td>0.01593</td>\n",
       "    </tr>\n",
       "    <tr>\n",
       "      <th>7</th>\n",
       "      <td>max</td>\n",
       "      <td>10.24000</td>\n",
       "      <td>18.60000</td>\n",
       "      <td>106.47000</td>\n",
       "      <td>0.03375</td>\n",
       "      <td>0.06742</td>\n",
       "      <td>0.07149</td>\n",
       "      <td>1.70759</td>\n",
       "      <td>0.03742</td>\n",
       "      <td>0.07090</td>\n",
       "      <td>0.08762</td>\n",
       "      <td>0.02963</td>\n",
       "      <td>0.05381</td>\n",
       "      <td>0.08145</td>\n",
       "    </tr>\n",
       "  </tbody>\n",
       "</table>\n",
       "</div>"
      ],
      "text/plain": [
       "   index  epsestimate  epsactual  epssurprisepct  alpha_1_day  alpha_5_day  alpha_10_day  beta_252  plus_1_return  plus_5_return  plus_10_return  mktclose_plus_1_return  mktclose_plus_5_return  mktclose_plus_10_return\n",
       "0  count 51.00000     51.00000   51.00000        48.00000     48.00000     48.00000      48.00000  51.00000       51.00000       51.00000        51.00000                51.00000                51.00000                \n",
       "1  mean  4.04686      4.97569    11.82843        0.00036      -0.00289     0.00261       1.28137   -0.00061       -0.00076       0.00539         0.00104                 0.00382                 0.00484                 \n",
       "2  std   2.08931      3.59819    73.12694        0.01295      0.02392      0.03027       0.21691   0.02312        0.03455        0.04209         0.00873                 0.01801                 0.02763                 \n",
       "3  min   -0.16000     -0.84000   -434.76000      -0.03030     -0.07059     -0.07913      0.82725   -0.11556       -0.11633       -0.10160        -0.02214                -0.03067                -0.06238                \n",
       "4  25%   2.95500      2.94000    3.37000         -0.00612     -0.01606     -0.01641      1.14833   -0.01143       -0.02486       -0.01427        -0.00186                -0.00383                -0.00658                \n",
       "5  50%   3.82000      4.57000    20.44000        -0.00273     -0.00515     -0.00226      1.27697   0.00119        -0.00020       0.01323         0.00116                 0.00519                 0.00721                 \n",
       "6  75%   4.85500      5.69500    39.42000        0.00709      0.01444      0.02122       1.42899   0.00993        0.01996        0.02993         0.00528                 0.01303                 0.01593                 \n",
       "7  max   10.24000     18.60000   106.47000       0.03375      0.06742      0.07149       1.70759   0.03742        0.07090        0.08762         0.02963                 0.05381                 0.08145                 "
      ]
     },
     "execution_count": 9,
     "metadata": {},
     "output_type": "execute_result"
    }
   ],
   "source": [
    "df.describe().reset_index() #row 2 is the mean of the full series of data"
   ]
  },
  {
   "cell_type": "markdown",
   "metadata": {},
   "source": [
    "Let's filter down to just a few categories, rather than all of them."
   ]
  },
  {
   "cell_type": "markdown",
   "metadata": {},
   "source": [
    "And let's regress EVERY time series name against n day alpha, over n regression periods (both specified above), and rank by r-squared."
   ]
  },
  {
   "cell_type": "code",
   "execution_count": 10,
   "metadata": {},
   "outputs": [
    {
     "data": {
      "text/plain": [
       "['Operating Stats - Investment Banking (FS) (Historical)',\n",
       " 'Segmented Results - Institutional Client Services (FS) (Historical)',\n",
       " 'Key Metrics - Asset Management (MD&A)',\n",
       " 'Segmented Results - Geographic Revenue Breakdown (FS)',\n",
       " 'Segmented Results - Investment Management (FS) (Historical)',\n",
       " 'Segmented Results - Other (FS) (Historical)',\n",
       " 'Operating Stats - Investment Management (FS) (Historical)',\n",
       " 'Segmented Results - Investment Banking (FS & PR & IP)',\n",
       " 'Segmented Results - Investment Banking (FS) (Historical)',\n",
       " 'Segmented Results - Asset Management (FS & PR & IP)',\n",
       " 'Key Metrics - Average Daily VaR (FS & PR)',\n",
       " 'Key Metrics - Consumer & Wealth Management (MD&A)',\n",
       " 'Segmented Results - Consumer & Wealth Management (FS & PR & IP)',\n",
       " 'Segmented Results - Revenue Breakdown (FS)',\n",
       " 'Key Metrics - Global Markets (MD&A & IP)',\n",
       " 'Growth Analysis',\n",
       " 'Segmented Results - Investing & Lending (FS) (Historical)',\n",
       " 'Margin Analysis',\n",
       " 'Key Metrics - AUS by Asset Class (FS & PR)',\n",
       " 'Key Metrics - Investment Banking (MD&A & IP)',\n",
       " 'Operating Stats - Consumer & Wealth Management (FS & PR)',\n",
       " 'Segmented Results - Global Markets (FS & PR & IP)',\n",
       " 'Operating Stats - Asset Management (FS & PR)',\n",
       " 'Key Metrics - Headcount (FS & PR)',\n",
       " 'Operating Stats - Investment Banking (MD&A)']"
      ]
     },
     "execution_count": 10,
     "metadata": {},
     "output_type": "execute_result"
    }
   ],
   "source": [
    "\n",
    "like_list = ['Stats','Analysis','Metrics','Segmented Results']\n",
    "category_filter = []\n",
    "for category in categories:\n",
    "    for like in like_list:\n",
    "        if like in category:\n",
    "            category_filter.append(category)\n",
    "            \n",
    "category_filter = list(set(category_filter))\n",
    "category_filter\n"
   ]
  },
  {
   "cell_type": "code",
   "execution_count": 11,
   "metadata": {},
   "outputs": [
    {
     "data": {
      "text/plain": [
       "<AxesSubplot:title={'center':'GS US Key Drivers Price Sensitivity'}, ylabel='time_series_description'>"
      ]
     },
     "execution_count": 11,
     "metadata": {},
     "output_type": "execute_result"
    },
    {
     "data": {
      "image/png": "[encoded data removed]",
      "text/plain": [
       "<Figure size 432x288 with 1 Axes>"
      ]
     },
     "metadata": {
      "needs_background": "light"
     },
     "output_type": "display_data"
    }
   ],
   "source": [
    "%matplotlib inline\n",
    "df_kpi = cdr.regress_dataframe_time_series_groups(df_data = df_data,\n",
    "                                         y_name=alpha_days,\n",
    "                                         return_grouped=True,\n",
    "                                         category = category_filter,\n",
    "                                         n_periods=regression_window)\n",
    "df_kpi = df_kpi[['ticker','time_series_description','time_series_name','category','rsquared']].head(10).sort_values('rsquared',ascending = True)\n",
    "df_kpi.plot(x='time_series_description',y='rsquared',kind='barh',title=ticker+\" Key Drivers Price Sensitivity\")"
   ]
  },
  {
   "cell_type": "markdown",
   "metadata": {},
   "source": [
    "We can see the price / time series history of the top KPI to check whether it makes sense"
   ]
  },
  {
   "cell_type": "code",
   "execution_count": 12,
   "metadata": {},
   "outputs": [
    {
     "data": {
      "image/png": "[encoded data removed]",
      "text/plain": [
       "<Figure size 864x648 with 2 Axes>"
      ]
     },
     "metadata": {
      "needs_background": "light"
     },
     "output_type": "display_data"
    }
   ],
   "source": [
    "top_kpi = df_kpi.iloc[9]['time_series_name']\n",
    "time_series_name=top_kpi\n",
    "df_prices = cdr.get_price_data(yahoo_ticker, reset=True, rolling_betas=False, index_ticker=index_ticker)\n",
    "cdr.plot_prices_against_time_series(df_data,df_prices,time_series_name,\"value\") #raw value"
   ]
  },
  {
   "cell_type": "markdown",
   "metadata": {},
   "source": [
    "In a separate analysis, we can pull the key drivers off the precedent tree for revenue, and rank order their impact on revenue."
   ]
  },
  {
   "cell_type": "code",
   "execution_count": 13,
   "metadata": {},
   "outputs": [
    {
     "name": "stdout",
     "output_type": "stream",
     "text": [
      "https://mds.canalyst.com/api/equity-model-series/JAJJLJ0162/equity-models/Q3-2021.22/time-series/MO_RIS_REV/forecast-data-points/Q4-2021/drivers/?format=dot\n"
     ]
    },
    {
     "ename": "PermissionError",
     "evalue": "[Errno 13] Permission denied: '/home/canalyst_candas/canalyst/DATA/GS//drivers.dot'",
     "output_type": "error",
     "traceback": [
      "\u001b[0;31m---------------------------------------------------------------------------\u001b[0m",
      "\u001b[0;31mPermissionError\u001b[0m                           Traceback (most recent call last)",
      "\u001b[0;32m/tmp/ipykernel_2182/1246638077.py\u001b[0m in \u001b[0;36m<module>\u001b[0;34m\u001b[0m\n\u001b[1;32m      1\u001b[0m \u001b[0;31m#use the same node tree to extract key drivers (red nodes)\u001b[0m\u001b[0;34m\u001b[0m\u001b[0;34m\u001b[0m\u001b[0m\n\u001b[0;32m----> 2\u001b[0;31m \u001b[0mdf\u001b[0m \u001b[0;34m=\u001b[0m \u001b[0mmodel_set\u001b[0m\u001b[0;34m.\u001b[0m\u001b[0mmodels\u001b[0m\u001b[0;34m[\u001b[0m\u001b[0mticker\u001b[0m\u001b[0;34m]\u001b[0m\u001b[0;34m.\u001b[0m\u001b[0mkey_driver_map\u001b[0m\u001b[0;34m(\u001b[0m\u001b[0;34m\"MO_RIS_REV\"\u001b[0m\u001b[0;34m)\u001b[0m\u001b[0;34m\u001b[0m\u001b[0;34m\u001b[0m\u001b[0m\n\u001b[0m\u001b[1;32m      3\u001b[0m \u001b[0mreturn_series\u001b[0m \u001b[0;34m=\u001b[0m \u001b[0;34m'MO_RIS_REV'\u001b[0m\u001b[0;34m\u001b[0m\u001b[0;34m\u001b[0m\u001b[0m\n\u001b[1;32m      4\u001b[0m \u001b[0mdriver_list_df\u001b[0m \u001b[0;34m=\u001b[0m \u001b[0;34m[\u001b[0m\u001b[0;34m]\u001b[0m\u001b[0;34m\u001b[0m\u001b[0;34m\u001b[0m\u001b[0m\n\u001b[1;32m      5\u001b[0m \u001b[0;32mfor\u001b[0m \u001b[0mi\u001b[0m\u001b[0;34m,\u001b[0m \u001b[0mrow\u001b[0m \u001b[0;32min\u001b[0m \u001b[0mdf\u001b[0m\u001b[0;34m.\u001b[0m\u001b[0miterrows\u001b[0m\u001b[0;34m(\u001b[0m\u001b[0;34m)\u001b[0m\u001b[0;34m:\u001b[0m\u001b[0;34m\u001b[0m\u001b[0;34m\u001b[0m\u001b[0m\n",
      "\u001b[0;32m/opt/python/3.9/lib/python3.9/site-packages/canalyst_candas/candas.py\u001b[0m in \u001b[0;36mkey_driver_map\u001b[0;34m(self, time_series_name)\u001b[0m\n\u001b[1;32m   1811\u001b[0m         \"\"\"\n\u001b[1;32m   1812\u001b[0m         \u001b[0;31m# defaulting to MO_RIS_REV, but you could choose another time_series_name as a starting point like MO_RIS_EBIT\u001b[0m\u001b[0;34m\u001b[0m\u001b[0;34m\u001b[0m\u001b[0m\n\u001b[0;32m-> 1813\u001b[0;31m         model_map = self.create_model_map(\n\u001b[0m\u001b[1;32m   1814\u001b[0m             \u001b[0mtime_series_name\u001b[0m\u001b[0;34m=\u001b[0m\u001b[0mtime_series_name\u001b[0m\u001b[0;34m,\u001b[0m\u001b[0;34m\u001b[0m\u001b[0;34m\u001b[0m\u001b[0m\n\u001b[1;32m   1815\u001b[0m             \u001b[0mcol_for_labels\u001b[0m\u001b[0;34m=\u001b[0m\u001b[0;34m\"time_series_name\"\u001b[0m\u001b[0;34m,\u001b[0m\u001b[0;34m\u001b[0m\u001b[0;34m\u001b[0m\u001b[0m\n",
      "\u001b[0;32m/opt/python/3.9/lib/python3.9/site-packages/canalyst_candas/candas.py\u001b[0m in \u001b[0;36mcreate_model_map\u001b[0;34m(self, time_series_name, col_for_labels, tree, notebook, common_time_series_names)\u001b[0m\n\u001b[1;32m   2116\u001b[0m         \u001b[0mDefaults\u001b[0m \u001b[0mto\u001b[0m \u001b[0ma\u001b[0m \u001b[0mmodel\u001b[0m \u001b[0mmap\u001b[0m \u001b[0mrooted\u001b[0m \u001b[0mat\u001b[0m \u001b[0mMO_RIS_REV\u001b[0m \u001b[0;32mif\u001b[0m \u001b[0mno\u001b[0m \u001b[0mtime\u001b[0m \u001b[0mseries\u001b[0m \u001b[0mname\u001b[0m \u001b[0;32mis\u001b[0m \u001b[0mprovided\u001b[0m\u001b[0;34m\u001b[0m\u001b[0;34m\u001b[0m\u001b[0m\n\u001b[1;32m   2117\u001b[0m         \"\"\"\n\u001b[0;32m-> 2118\u001b[0;31m         mm = ModelMap(\n\u001b[0m\u001b[1;32m   2119\u001b[0m             \u001b[0mconfig\u001b[0m\u001b[0;34m=\u001b[0m\u001b[0mself\u001b[0m\u001b[0;34m.\u001b[0m\u001b[0mconfig\u001b[0m\u001b[0;34m,\u001b[0m\u001b[0;34m\u001b[0m\u001b[0;34m\u001b[0m\u001b[0m\n\u001b[1;32m   2120\u001b[0m             \u001b[0mmodel\u001b[0m\u001b[0;34m=\u001b[0m\u001b[0mself\u001b[0m\u001b[0;34m,\u001b[0m\u001b[0;34m\u001b[0m\u001b[0;34m\u001b[0m\u001b[0m\n",
      "\u001b[0;32m/opt/python/3.9/lib/python3.9/site-packages/canalyst_candas/candas.py\u001b[0m in \u001b[0;36m__init__\u001b[0;34m(self, config, ticker, model, time_series_name, col_for_labels, tree, common_size_tree, notebook, auto_download, tree_complexity_limit, common_time_series)\u001b[0m\n\u001b[1;32m   1395\u001b[0m \u001b[0;34m\u001b[0m\u001b[0m\n\u001b[1;32m   1396\u001b[0m         \u001b[0;31m# Create DataFrame for precedent/dependent tree, graph of the tree, and a network of that graph (for visualization)\u001b[0m\u001b[0;34m\u001b[0m\u001b[0;34m\u001b[0m\u001b[0m\n\u001b[0;32m-> 1397\u001b[0;31m         \u001b[0mself\u001b[0m\u001b[0;34m.\u001b[0m\u001b[0mdf\u001b[0m \u001b[0;34m=\u001b[0m \u001b[0mself\u001b[0m\u001b[0;34m.\u001b[0m\u001b[0mload_data\u001b[0m\u001b[0;34m(\u001b[0m\u001b[0;34m)\u001b[0m\u001b[0;34m\u001b[0m\u001b[0;34m\u001b[0m\u001b[0m\n\u001b[0m\u001b[1;32m   1398\u001b[0m         \u001b[0;32mtry\u001b[0m\u001b[0;34m:\u001b[0m\u001b[0;34m\u001b[0m\u001b[0;34m\u001b[0m\u001b[0m\n\u001b[1;32m   1399\u001b[0m             \u001b[0mself\u001b[0m\u001b[0;34m.\u001b[0m\u001b[0mnetwork\u001b[0m \u001b[0;34m=\u001b[0m \u001b[0mself\u001b[0m\u001b[0;34m.\u001b[0m\u001b[0mcreate_model\u001b[0m\u001b[0;34m(\u001b[0m\u001b[0;34m)\u001b[0m\u001b[0;34m\u001b[0m\u001b[0;34m\u001b[0m\u001b[0m\n",
      "\u001b[0;32m/opt/python/3.9/lib/python3.9/site-packages/canalyst_candas/candas.py\u001b[0m in \u001b[0;36mload_data\u001b[0;34m(self)\u001b[0m\n\u001b[1;32m   1418\u001b[0m         \u001b[0mdf\u001b[0m \u001b[0;34m=\u001b[0m \u001b[0mcdm\u001b[0m\u001b[0;34m.\u001b[0m\u001b[0mmodel_frame\u001b[0m\u001b[0;34m(\u001b[0m\u001b[0mperiod_duration_type\u001b[0m\u001b[0;34m=\u001b[0m\u001b[0;34m\"fiscal_quarter\"\u001b[0m\u001b[0;34m,\u001b[0m \u001b[0mn_periods\u001b[0m\u001b[0;34m=\u001b[0m\u001b[0;34m\"\"\u001b[0m\u001b[0;34m)\u001b[0m\u001b[0;34m\u001b[0m\u001b[0;34m\u001b[0m\u001b[0m\n\u001b[1;32m   1419\u001b[0m \u001b[0;34m\u001b[0m\u001b[0m\n\u001b[0;32m-> 1420\u001b[0;31m         self.dot_file = create_drivers_dot(\n\u001b[0m\u001b[1;32m   1421\u001b[0m             \u001b[0mself\u001b[0m\u001b[0;34m.\u001b[0m\u001b[0mtime_series\u001b[0m\u001b[0;34m,\u001b[0m \u001b[0mself\u001b[0m\u001b[0;34m.\u001b[0m\u001b[0mapi_headers\u001b[0m\u001b[0;34m,\u001b[0m \u001b[0mself\u001b[0m\u001b[0;34m.\u001b[0m\u001b[0mticker\u001b[0m\u001b[0;34m,\u001b[0m \u001b[0mself\u001b[0m\u001b[0;34m.\u001b[0m\u001b[0mconfig\u001b[0m\u001b[0;34m,\u001b[0m \u001b[0mself\u001b[0m\u001b[0;34m.\u001b[0m\u001b[0ms3_client\u001b[0m\u001b[0;34m\u001b[0m\u001b[0;34m\u001b[0m\u001b[0m\n\u001b[1;32m   1422\u001b[0m         )\n",
      "\u001b[0;32m/opt/python/3.9/lib/python3.9/site-packages/canalyst_candas/utils.py\u001b[0m in \u001b[0;36mcreate_drivers_dot\u001b[0;34m(time_series, auth_headers, ticker, config, s3_client)\u001b[0m\n\u001b[1;32m   1057\u001b[0m         \u001b[0mprint\u001b[0m\u001b[0;34m(\u001b[0m\u001b[0murl\u001b[0m\u001b[0;34m)\u001b[0m\u001b[0;34m\u001b[0m\u001b[0;34m\u001b[0m\u001b[0m\n\u001b[1;32m   1058\u001b[0m         \u001b[0mr\u001b[0m \u001b[0;34m=\u001b[0m \u001b[0mrequests\u001b[0m\u001b[0;34m.\u001b[0m\u001b[0mget\u001b[0m\u001b[0;34m(\u001b[0m\u001b[0murl\u001b[0m\u001b[0;34m,\u001b[0m \u001b[0mheaders\u001b[0m\u001b[0;34m=\u001b[0m\u001b[0mauth_headers\u001b[0m\u001b[0;34m,\u001b[0m \u001b[0mverify\u001b[0m\u001b[0;34m=\u001b[0m\u001b[0;32mFalse\u001b[0m\u001b[0;34m)\u001b[0m\u001b[0;34m\u001b[0m\u001b[0;34m\u001b[0m\u001b[0m\n\u001b[0;32m-> 1059\u001b[0;31m         \u001b[0mopen\u001b[0m\u001b[0;34m(\u001b[0m\u001b[0mpath_name\u001b[0m\u001b[0;34m,\u001b[0m \u001b[0;34m\"wb\"\u001b[0m\u001b[0;34m)\u001b[0m\u001b[0;34m.\u001b[0m\u001b[0mwrite\u001b[0m\u001b[0;34m(\u001b[0m\u001b[0mr\u001b[0m\u001b[0;34m.\u001b[0m\u001b[0mcontent\u001b[0m\u001b[0;34m)\u001b[0m\u001b[0;34m\u001b[0m\u001b[0;34m\u001b[0m\u001b[0m\n\u001b[0m\u001b[1;32m   1060\u001b[0m         \u001b[0;32mreturn\u001b[0m \u001b[0mpath_name\u001b[0m\u001b[0;34m\u001b[0m\u001b[0;34m\u001b[0m\u001b[0m\n\u001b[1;32m   1061\u001b[0m \u001b[0;34m\u001b[0m\u001b[0m\n",
      "\u001b[0;31mPermissionError\u001b[0m: [Errno 13] Permission denied: '/home/canalyst_candas/canalyst/DATA/GS//drivers.dot'"
     ]
    }
   ],
   "source": [
    "\n",
    "#use the same node tree to extract key drivers (red nodes)\n",
    "df = model_set.models[ticker].key_driver_map(\"MO_RIS_REV\")\n",
    "return_series = 'MO_RIS_REV'\n",
    "driver_list_df = []\n",
    "for i, row in df.iterrows():\n",
    "\n",
    "    time_series_name = row['time_series_name']\n",
    "    print(f\"scenario: move {time_series_name} 1% and get resultant change in {return_series}\")\n",
    "\n",
    "    #create a param dataframe for each time series name in our list\n",
    "    df_1_param = model_set.forecast_frame(time_series_name,\n",
    "                         n_periods=-1,\n",
    "                         function_name='multiply',\n",
    "                         function_value=1.01)\n",
    "\n",
    "\n",
    "    d_output=model_set.fit(df_1_param,return_series) #our fit function will return a link to scenario engine JSON for audit\n",
    "\n",
    "    df_output = model_set.filter_summary(d_output,period_type='Q')\n",
    "\n",
    "    df_merge = pd.merge(df_output,df_1_param,how='inner',left_on=['ticker','period_name'],right_on=['ticker','period_name'])\n",
    "\n",
    "    driver_list_df.append(df_merge) #append to a list for concatenating at the end\n",
    "df = pd.concat(driver_list_df).sort_values('diff',ascending=False)\n",
    "df = df.rename(columns={'time_series_name_y':'time_series_name'})\n",
    "df['diff'] = df['diff']-1\n",
    "df = df.sort_values('diff')\n"
   ]
  },
  {
   "cell_type": "code",
   "execution_count": null,
   "metadata": {},
   "outputs": [],
   "source": [
    "df.plot(x='time_series_description_y',y='diff',kind='barh',title=ticker+\" Key Drivers Revenue Sensitivity\")"
   ]
  },
  {
   "cell_type": "code",
   "execution_count": null,
   "metadata": {},
   "outputs": [],
   "source": [
    "#model_set = cd.ModelSet(ticker_list=[ticker], config=config) #create a modelset of our ticker\n",
    "time_series_name=\"MO_RIS_REV\"\n",
    "model_map = model_set.create_model_map(ticker=ticker,\n",
    "                            time_series_name=time_series_name,\n",
    "                            tree = True,\n",
    "                            notebook = True,\n",
    "                            col_for_labels = \"time_series_description\") \n",
    "from IPython.display import IFrame\n",
    "map_file=ticker.split(' ')[0]+'_'+time_series_name+'_model_map.html'\n",
    "display(IFrame('canalyst/'+map_file, width='100%', height='1000px'))"
   ]
  },
  {
   "cell_type": "code",
   "execution_count": null,
   "metadata": {},
   "outputs": [],
   "source": [
    "df.sort_values('diff',ascending=False)"
   ]
  }
 ],
 "metadata": {
  "finalized": {
   "timestamp": 1630681095352,
   "trusted": true
  },
  "kernelspec": {
   "display_name": "Python 3.9",
   "language": "python",
   "name": "python3"
  },
  "language_info": {
   "codemirror_mode": {
    "name": "ipython",
    "version": 3
   },
   "file_extension": ".py",
   "mimetype": "text/x-python",
   "name": "python",
   "nbconvert_exporter": "python",
   "pygments_lexer": "ipython3",
   "version": "3.9.7"
  }
 },
 "nbformat": 4,
 "nbformat_minor": 4
}
