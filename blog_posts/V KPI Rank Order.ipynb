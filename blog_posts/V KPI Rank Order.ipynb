{
 "cells": [
  {
   "cell_type": "markdown",
   "metadata": {},
   "source": [
    "Please request an api key at:\n",
    "https://app.canalyst.com/settings/api-tokens"
   ]
  },
  {
   "cell_type": "markdown",
   "metadata": {},
   "source": [
    "## KPI Rank Order\n",
    "### (For a different ticker edit second code cell)"
   ]
  },
  {
   "cell_type": "code",
   "execution_count": 1,
   "metadata": {},
   "outputs": [
    {
     "name": "stdout",
     "output_type": "stream",
     "text": [
      "A configuration file has been created for you in \n",
      "/home/canalyst-candas/canalyst/keys.json. For Excel file downloads and scenario \n",
      "mapping, you'll need to add an API key to the 'canalyst_api_key' \n",
      "value. Visit https://app.canalyst.com/settings/api-tokens to create \n",
      "and retrieve your API key. You will also need to retrieve your \n",
      "S3 Access ID and Secret Key and fill in 'canalyst_s3_id' and \n",
      "'canalyst_s3_key' with those values, respectively. If using a \n",
      "Jupyter Notebook, stop and restart the notebook for the changes to \n",
      "take effect. If using a Python/iPython session, quit the current \n",
      "session and start a new one.\n"
     ]
    },
    {
     "data": {
      "text/html": [
       "<style>.container { width:100% !important; }</style>"
      ],
      "text/plain": [
       "<IPython.core.display.HTML object>"
      ]
     },
     "metadata": {},
     "output_type": "display_data"
    }
   ],
   "source": [
    "import sys\n",
    "import os\n",
    "import dtale\n",
    "import dtale.app as dtale_app\n",
    "dtale_app.JUPYTER_SERVER_PROXY = True\n",
    "import pandas as pd\n",
    "pd.set_option('display.float_format', lambda x: '%.5f' % x)\n",
    "import canalyst_candas.candas as cd\n",
    "import canalyst_candas.candas_datareader as cdr\n",
    "from canalyst_candas.configuration.config import Config\n",
    "config_info = {\n",
    "  \"canalyst_api_key\": \"\",\n",
    "  \"s3_access_key_id\": \"\",\n",
    "  \"s3_secret_key\": \"\",\n",
    "  \"fred_key\": \"\",\n",
    "  \"default_dir\": \"\",\n",
    "  \"mds_host\": \"\",\n",
    "  \"wp_host\": \"\"\n",
    "}\n",
    "config = Config(config=config_info)\n",
    "from IPython.core.display import display, HTML\n",
    "display(HTML(\"<style>.container { width:100% !important; }</style>\"))\n",
    "pd.set_option('display.max_columns', None)\n",
    "pd.set_option('display.expand_frame_repr', False)\n",
    "pd.set_option('max_colwidth', -1)"
   ]
  },
  {
   "cell_type": "markdown",
   "metadata": {},
   "source": [
    "<b>Key Parameters</b>\n",
    "\n",
    "Establish our price ticker (data source yahoo finance) and our Canalyst ticker (we use Bloomberg ticker format)"
   ]
  },
  {
   "cell_type": "code",
   "execution_count": 2,
   "metadata": {},
   "outputs": [],
   "source": [
    "ticker = \"V US\"\n",
    "yahoo_ticker = \"V\" #need this for prices\n",
    "index_ticker = \"^GSPC\" #this is our benchmark index (^GSPC for S&P 500, EFA for msci eafa etc)\n",
    "alpha_days = \"alpha_1_day\" #or alpha_5_day or alpha_10_day\n",
    "regression_window = 12\n",
    "model_set = cd.ModelSet(ticker_list=[ticker], config=config) #create a modelset of our ticker"
   ]
  },
  {
   "cell_type": "markdown",
   "metadata": {},
   "source": [
    "Check whether we cover this stock"
   ]
  },
  {
   "cell_type": "code",
   "execution_count": 3,
   "metadata": {},
   "outputs": [
    {
     "data": {
      "text/html": [
       "<div>\n",
       "<style scoped>\n",
       "    .dataframe tbody tr th:only-of-type {\n",
       "        vertical-align: middle;\n",
       "    }\n",
       "\n",
       "    .dataframe tbody tr th {\n",
       "        vertical-align: top;\n",
       "    }\n",
       "\n",
       "    .dataframe thead th {\n",
       "        text-align: right;\n",
       "    }\n",
       "</style>\n",
       "<table border=\"1\" class=\"dataframe\">\n",
       "  <thead>\n",
       "    <tr style=\"text-align: right;\">\n",
       "      <th></th>\n",
       "      <th>File</th>\n",
       "      <th>Bloomberg Ticker</th>\n",
       "      <th>Thomson Ticker</th>\n",
       "    </tr>\n",
       "  </thead>\n",
       "  <tbody>\n",
       "    <tr>\n",
       "      <th>2715</th>\n",
       "      <td>Visa V US</td>\n",
       "      <td>V US</td>\n",
       "      <td>V.N</td>\n",
       "    </tr>\n",
       "  </tbody>\n",
       "</table>\n",
       "</div>"
      ],
      "text/plain": [
       "           File Bloomberg Ticker Thomson Ticker\n",
       "2715  Visa V US  V US             V.N          "
      ]
     },
     "execution_count": 3,
     "metadata": {},
     "output_type": "execute_result"
    }
   ],
   "source": [
    "#instantiate a search object, which we will also use later\n",
    "search = cd.Search(config)\n",
    "search.get_ticker_list(ticker = ticker) #do we cover this stock?"
   ]
  },
  {
   "cell_type": "markdown",
   "metadata": {},
   "source": [
    "Let's take a look at the list of available segments (categories) in the model."
   ]
  },
  {
   "cell_type": "code",
   "execution_count": 4,
   "metadata": {},
   "outputs": [
    {
     "data": {
      "text/plain": [
       "['Growth Analysis',\n",
       " 'Segmented Results - Revenue Breakdown (FS)',\n",
       " 'Operating Stats - Consolidated Operational Data',\n",
       " 'Segmented Results - Geographic Revenue Breakdown (FS)',\n",
       " 'Operating Stats - Nominal Payments Volumes (FS & IP)',\n",
       " 'Operating Stats - Processed Transactions (Operational Data)',\n",
       " 'Operating Stats - US (Operational Data)',\n",
       " 'Operating Stats - International (Operational Data)',\n",
       " 'Key Metrics - International - By Geography (Operational Data)',\n",
       " 'Key Metrics - Cash Volume & Transactions (Operational Data)',\n",
       " 'Key Metrics - Total Volume (Operational Data)',\n",
       " 'Key Metrics - Payments Revenue and Take Rate',\n",
       " 'Key Metrics - Employee Count (FS)',\n",
       " 'Margin Analysis',\n",
       " 'Income Statement As Reported',\n",
       " 'Adjusted Numbers As Reported',\n",
       " 'Revised Income Statement',\n",
       " 'Cash Flow Summary',\n",
       " 'Balance Sheet Summary',\n",
       " 'Valuation',\n",
       " 'Cumulative Cash Flow Statement',\n",
       " 'Cash Flow Statement',\n",
       " 'Working Capital Forecasting',\n",
       " 'D&A Forecasting',\n",
       " 'Balance Sheet']"
      ]
     },
     "execution_count": 4,
     "metadata": {},
     "output_type": "execute_result"
    }
   ],
   "source": [
    "categories = list(model_set.model_frame(ticker=ticker,\n",
    "                      period_duration_type = \"fiscal_quarter\", \n",
    "                      mrq=True)['category'].unique())\n",
    "categories"
   ]
  },
  {
   "cell_type": "markdown",
   "metadata": {},
   "source": [
    "Goal: Create a pivoted view of one category of the model_frame"
   ]
  },
  {
   "cell_type": "code",
   "execution_count": 5,
   "metadata": {},
   "outputs": [
    {
     "data": {
      "text/html": [
       "<div>\n",
       "<style scoped>\n",
       "    .dataframe tbody tr th:only-of-type {\n",
       "        vertical-align: middle;\n",
       "    }\n",
       "\n",
       "    .dataframe tbody tr th {\n",
       "        vertical-align: top;\n",
       "    }\n",
       "\n",
       "    .dataframe thead th {\n",
       "        text-align: right;\n",
       "    }\n",
       "</style>\n",
       "<table border=\"1\" class=\"dataframe\">\n",
       "  <thead>\n",
       "    <tr style=\"text-align: right;\">\n",
       "      <th>period_name_sorted</th>\n",
       "      <th>ticker</th>\n",
       "      <th>name_index</th>\n",
       "      <th>category</th>\n",
       "      <th>time_series_name</th>\n",
       "      <th>time_series_description</th>\n",
       "      <th>is_driver</th>\n",
       "      <th>MRFQ</th>\n",
       "      <th>2019Q1</th>\n",
       "      <th>2019Q2</th>\n",
       "      <th>2019Q3</th>\n",
       "      <th>2019Q4</th>\n",
       "      <th>2020Q1</th>\n",
       "      <th>2020Q2</th>\n",
       "      <th>2020Q3</th>\n",
       "      <th>2020Q4</th>\n",
       "      <th>2021Q1</th>\n",
       "      <th>2021Q2</th>\n",
       "      <th>2021Q3</th>\n",
       "      <th>2021Q4</th>\n",
       "    </tr>\n",
       "  </thead>\n",
       "  <tbody>\n",
       "    <tr>\n",
       "      <th>0</th>\n",
       "      <td>V US</td>\n",
       "      <td>7</td>\n",
       "      <td>Growth Analysis</td>\n",
       "      <td>z_2CRCA60110_MO_OS_servicerevenuesgrowth</td>\n",
       "      <td>Service revenues growth, %</td>\n",
       "      <td>False</td>\n",
       "      <td>Q4-2021</td>\n",
       "      <td>9.13327</td>\n",
       "      <td>7.27918</td>\n",
       "      <td>9.51730</td>\n",
       "      <td>9.16918</td>\n",
       "      <td>9.09479</td>\n",
       "      <td>8.52296</td>\n",
       "      <td>0.16632</td>\n",
       "      <td>-12.57886</td>\n",
       "      <td>4.77495</td>\n",
       "      <td>8.46359</td>\n",
       "      <td>17.39311</td>\n",
       "      <td>40.95625</td>\n",
       "    </tr>\n",
       "    <tr>\n",
       "      <th>1</th>\n",
       "      <td>V US</td>\n",
       "      <td>8</td>\n",
       "      <td>Growth Analysis</td>\n",
       "      <td>z_2CRCA60110_MO_OS_dataprocessingrevenuesgrowth</td>\n",
       "      <td>Data processing revenues growth, %</td>\n",
       "      <td>False</td>\n",
       "      <td>Q4-2021</td>\n",
       "      <td>15.04425</td>\n",
       "      <td>14.33945</td>\n",
       "      <td>12.84443</td>\n",
       "      <td>15.66416</td>\n",
       "      <td>15.95142</td>\n",
       "      <td>11.47204</td>\n",
       "      <td>-5.14651</td>\n",
       "      <td>3.82810</td>\n",
       "      <td>5.90084</td>\n",
       "      <td>10.51273</td>\n",
       "      <td>31.76238</td>\n",
       "      <td>19.51304</td>\n",
       "    </tr>\n",
       "    <tr>\n",
       "      <th>2</th>\n",
       "      <td>V US</td>\n",
       "      <td>9</td>\n",
       "      <td>Growth Analysis</td>\n",
       "      <td>z_2CRCA60110_MO_OS_internationaltransactionrevenuesgrowth</td>\n",
       "      <td>International transaction revenues growth, %</td>\n",
       "      <td>False</td>\n",
       "      <td>Q4-2021</td>\n",
       "      <td>11.10444</td>\n",
       "      <td>2.51142</td>\n",
       "      <td>8.03279</td>\n",
       "      <td>11.05451</td>\n",
       "      <td>9.02215</td>\n",
       "      <td>2.06013</td>\n",
       "      <td>-44.25898</td>\n",
       "      <td>-38.25688</td>\n",
       "      <td>-28.09713</td>\n",
       "      <td>-18.82160</td>\n",
       "      <td>53.90200</td>\n",
       "      <td>40.78752</td>\n",
       "    </tr>\n",
       "    <tr>\n",
       "      <th>3</th>\n",
       "      <td>V US</td>\n",
       "      <td>10</td>\n",
       "      <td>Growth Analysis</td>\n",
       "      <td>z_2CRCA60110_MO_OS_Otherrevenuesgrowth</td>\n",
       "      <td>Other revenues growth, %</td>\n",
       "      <td>True</td>\n",
       "      <td>Q4-2021</td>\n",
       "      <td>30.56769</td>\n",
       "      <td>42.17391</td>\n",
       "      <td>49.34498</td>\n",
       "      <td>34.76562</td>\n",
       "      <td>22.07358</td>\n",
       "      <td>19.87768</td>\n",
       "      <td>-8.18713</td>\n",
       "      <td>4.63768</td>\n",
       "      <td>5.20548</td>\n",
       "      <td>0.00000</td>\n",
       "      <td>30.25478</td>\n",
       "      <td>35.73407</td>\n",
       "    </tr>\n",
       "    <tr>\n",
       "      <th>4</th>\n",
       "      <td>V US</td>\n",
       "      <td>11</td>\n",
       "      <td>Growth Analysis</td>\n",
       "      <td>z_2CRCA60110_MO_OS_clientincentivesgrowth</td>\n",
       "      <td>Client incentives growth, %</td>\n",
       "      <td>False</td>\n",
       "      <td>Q4-2021</td>\n",
       "      <td>9.80392</td>\n",
       "      <td>14.66253</td>\n",
       "      <td>12.51820</td>\n",
       "      <td>12.71638</td>\n",
       "      <td>20.05495</td>\n",
       "      <td>15.35859</td>\n",
       "      <td>-2.13454</td>\n",
       "      <td>0.29533</td>\n",
       "      <td>6.29291</td>\n",
       "      <td>16.83284</td>\n",
       "      <td>40.77991</td>\n",
       "      <td>40.57715</td>\n",
       "    </tr>\n",
       "  </tbody>\n",
       "</table>\n",
       "</div>"
      ],
      "text/plain": [
       "period_name_sorted ticker  name_index         category                                           time_series_name                       time_series_description  is_driver     MRFQ   2019Q1   2019Q2   2019Q3   2019Q4   2020Q1   2020Q2    2020Q3    2020Q4    2021Q1    2021Q2   2021Q3   2021Q4\n",
       "0                   V US   7           Growth Analysis  z_2CRCA60110_MO_OS_servicerevenuesgrowth                   Service revenues growth, %                    False      Q4-2021 9.13327  7.27918  9.51730  9.16918  9.09479  8.52296  0.16632   -12.57886 4.77495   8.46359   17.39311 40.95625\n",
       "1                   V US   8           Growth Analysis  z_2CRCA60110_MO_OS_dataprocessingrevenuesgrowth            Data processing revenues growth, %            False      Q4-2021 15.04425 14.33945 12.84443 15.66416 15.95142 11.47204 -5.14651  3.82810   5.90084   10.51273  31.76238 19.51304\n",
       "2                   V US   9           Growth Analysis  z_2CRCA60110_MO_OS_internationaltransactionrevenuesgrowth  International transaction revenues growth, %  False      Q4-2021 11.10444 2.51142  8.03279  11.05451 9.02215  2.06013  -44.25898 -38.25688 -28.09713 -18.82160 53.90200 40.78752\n",
       "3                   V US   10          Growth Analysis  z_2CRCA60110_MO_OS_Otherrevenuesgrowth                     Other revenues growth, %                      True       Q4-2021 30.56769 42.17391 49.34498 34.76562 22.07358 19.87768 -8.18713  4.63768   5.20548   0.00000   30.25478 35.73407\n",
       "4                   V US   11          Growth Analysis  z_2CRCA60110_MO_OS_clientincentivesgrowth                  Client incentives growth, %                   False      Q4-2021 9.80392  14.66253 12.51820 12.71638 20.05495 15.35859 -2.13454  0.29533   6.29291   16.83284  40.77991 40.57715"
      ]
     },
     "execution_count": 5,
     "metadata": {},
     "output_type": "execute_result"
    }
   ],
   "source": [
    "model_set.model_frame(ticker=ticker,\n",
    "                      category=categories[0], #filter to one or more category\n",
    "                      period_duration_type = \"fiscal_quarter\", #only fiscal quarters\n",
    "                      is_historical=True, #historical data only\n",
    "                      pivot=True, #pivot the data so dates are on column headers\n",
    "                     n_periods=regression_window).head()"
   ]
  },
  {
   "cell_type": "markdown",
   "metadata": {},
   "source": [
    "Next we set up a dataset which includes:\n",
    "- a full modelframe of quarterly data \n",
    "- a set of earnings data, \n",
    "- rolling 252 day beta vs the S&P 500\n",
    "- 1 and 5 and 10 day alpha (excess beta adjusted performance vs the S&P 500)"
   ]
  },
  {
   "cell_type": "code",
   "execution_count": 6,
   "metadata": {},
   "outputs": [],
   "source": [
    "df_data = model_set.pe_dataset(ticker,yahoo_ticker,index_ticker)"
   ]
  },
  {
   "cell_type": "markdown",
   "metadata": {},
   "source": [
    "In a separate example, we can:\n",
    "    <br>- pull just the earnings and prices dataframe for this ticker \n",
    "    <br>- chart earnings surprise vs stock movement"
   ]
  },
  {
   "cell_type": "code",
   "execution_count": 7,
   "metadata": {},
   "outputs": [],
   "source": [
    "df = cdr.get_earnings_and_prices(yahoo_ticker,index_ticker = index_ticker) "
   ]
  },
  {
   "cell_type": "code",
   "execution_count": 8,
   "metadata": {},
   "outputs": [
    {
     "data": {
      "text/html": [
       "<div>\n",
       "<style scoped>\n",
       "    .dataframe tbody tr th:only-of-type {\n",
       "        vertical-align: middle;\n",
       "    }\n",
       "\n",
       "    .dataframe tbody tr th {\n",
       "        vertical-align: top;\n",
       "    }\n",
       "\n",
       "    .dataframe thead th {\n",
       "        text-align: right;\n",
       "    }\n",
       "</style>\n",
       "<table border=\"1\" class=\"dataframe\">\n",
       "  <thead>\n",
       "    <tr style=\"text-align: right;\">\n",
       "      <th></th>\n",
       "      <th>ticker</th>\n",
       "      <th>earnings_date</th>\n",
       "      <th>companyshortname</th>\n",
       "      <th>price_date</th>\n",
       "      <th>epsestimate</th>\n",
       "      <th>epsactual</th>\n",
       "      <th>epssurprisepct</th>\n",
       "      <th>alpha_1_day</th>\n",
       "      <th>alpha_5_day</th>\n",
       "      <th>alpha_10_day</th>\n",
       "      <th>beta_252</th>\n",
       "      <th>plus_1_return</th>\n",
       "      <th>plus_5_return</th>\n",
       "      <th>plus_10_return</th>\n",
       "      <th>mktclose_plus_1_return</th>\n",
       "      <th>mktclose_plus_5_return</th>\n",
       "      <th>mktclose_plus_10_return</th>\n",
       "    </tr>\n",
       "  </thead>\n",
       "  <tbody>\n",
       "    <tr>\n",
       "      <th>47</th>\n",
       "      <td>V</td>\n",
       "      <td>2020-10-28</td>\n",
       "      <td>Visa Inc.</td>\n",
       "      <td>2020-10-28</td>\n",
       "      <td>1.09000</td>\n",
       "      <td>1.12000</td>\n",
       "      <td>2.94000</td>\n",
       "      <td>0.00880</td>\n",
       "      <td>0.01367</td>\n",
       "      <td>0.07319</td>\n",
       "      <td>1.11471</td>\n",
       "      <td>0.02212</td>\n",
       "      <td>0.07243</td>\n",
       "      <td>0.17598</td>\n",
       "      <td>0.01195</td>\n",
       "      <td>0.05271</td>\n",
       "      <td>0.09221</td>\n",
       "    </tr>\n",
       "    <tr>\n",
       "      <th>48</th>\n",
       "      <td>V</td>\n",
       "      <td>2021-01-28</td>\n",
       "      <td>Visa Inc.</td>\n",
       "      <td>2021-01-28</td>\n",
       "      <td>1.28000</td>\n",
       "      <td>1.42000</td>\n",
       "      <td>11.20000</td>\n",
       "      <td>-0.00338</td>\n",
       "      <td>0.03063</td>\n",
       "      <td>0.02615</td>\n",
       "      <td>1.12323</td>\n",
       "      <td>-0.02507</td>\n",
       "      <td>0.05565</td>\n",
       "      <td>0.06441</td>\n",
       "      <td>-0.01931</td>\n",
       "      <td>0.02227</td>\n",
       "      <td>0.03406</td>\n",
       "    </tr>\n",
       "    <tr>\n",
       "      <th>49</th>\n",
       "      <td>V</td>\n",
       "      <td>2021-04-27</td>\n",
       "      <td>Visa Inc.</td>\n",
       "      <td>2021-04-27</td>\n",
       "      <td>1.27000</td>\n",
       "      <td>1.38000</td>\n",
       "      <td>8.66000</td>\n",
       "      <td>0.01630</td>\n",
       "      <td>0.01487</td>\n",
       "      <td>-0.01040</td>\n",
       "      <td>1.07300</td>\n",
       "      <td>0.01540</td>\n",
       "      <td>0.00922</td>\n",
       "      <td>-0.01927</td>\n",
       "      <td>-0.00085</td>\n",
       "      <td>-0.00527</td>\n",
       "      <td>-0.00827</td>\n",
       "    </tr>\n",
       "    <tr>\n",
       "      <th>50</th>\n",
       "      <td>V</td>\n",
       "      <td>2021-07-27</td>\n",
       "      <td>Visa Inc.</td>\n",
       "      <td>2021-07-27</td>\n",
       "      <td>1.35000</td>\n",
       "      <td>1.49000</td>\n",
       "      <td>10.21000</td>\n",
       "      <td>-0.01570</td>\n",
       "      <td>-0.06041</td>\n",
       "      <td>-0.05980</td>\n",
       "      <td>1.06609</td>\n",
       "      <td>-0.01590</td>\n",
       "      <td>-0.05515</td>\n",
       "      <td>-0.05125</td>\n",
       "      <td>-0.00019</td>\n",
       "      <td>0.00493</td>\n",
       "      <td>0.00802</td>\n",
       "    </tr>\n",
       "    <tr>\n",
       "      <th>51</th>\n",
       "      <td>V</td>\n",
       "      <td>2021-10-26</td>\n",
       "      <td>Visa Inc.</td>\n",
       "      <td>2021-10-26</td>\n",
       "      <td>1.54000</td>\n",
       "      <td>1.62000</td>\n",
       "      <td>5.06000</td>\n",
       "      <td>-0.06347</td>\n",
       "      <td>-0.11167</td>\n",
       "      <td>-0.10685</td>\n",
       "      <td>1.13271</td>\n",
       "      <td>-0.06919</td>\n",
       "      <td>-0.09783</td>\n",
       "      <td>-0.07950</td>\n",
       "      <td>-0.00505</td>\n",
       "      <td>0.01221</td>\n",
       "      <td>0.02415</td>\n",
       "    </tr>\n",
       "  </tbody>\n",
       "</table>\n",
       "</div>"
      ],
      "text/plain": [
       "   ticker earnings_date companyshortname price_date  epsestimate  epsactual  epssurprisepct  alpha_1_day  alpha_5_day  alpha_10_day  beta_252  plus_1_return  plus_5_return  plus_10_return  mktclose_plus_1_return  mktclose_plus_5_return  mktclose_plus_10_return\n",
       "47  V     2020-10-28     Visa Inc.       2020-10-28 1.09000      1.12000    2.94000         0.00880      0.01367      0.07319       1.11471   0.02212        0.07243        0.17598         0.01195                 0.05271                 0.09221                 \n",
       "48  V     2021-01-28     Visa Inc.       2021-01-28 1.28000      1.42000    11.20000        -0.00338     0.03063      0.02615       1.12323   -0.02507       0.05565        0.06441         -0.01931                0.02227                 0.03406                 \n",
       "49  V     2021-04-27     Visa Inc.       2021-04-27 1.27000      1.38000    8.66000         0.01630      0.01487      -0.01040      1.07300   0.01540        0.00922        -0.01927        -0.00085                -0.00527                -0.00827                \n",
       "50  V     2021-07-27     Visa Inc.       2021-07-27 1.35000      1.49000    10.21000        -0.01570     -0.06041     -0.05980      1.06609   -0.01590       -0.05515       -0.05125        -0.00019                0.00493                 0.00802                 \n",
       "51  V     2021-10-26     Visa Inc.       2021-10-26 1.54000      1.62000    5.06000         -0.06347     -0.11167     -0.10685      1.13271   -0.06919       -0.09783       -0.07950        -0.00505                0.01221                 0.02415                 "
      ]
     },
     "execution_count": 8,
     "metadata": {},
     "output_type": "execute_result"
    }
   ],
   "source": [
    "df.tail()"
   ]
  },
  {
   "cell_type": "markdown",
   "metadata": {},
   "source": [
    "We can use pandas' describe() function to get the mean eps surprise and subsequent stock movement for this stock."
   ]
  },
  {
   "cell_type": "code",
   "execution_count": 9,
   "metadata": {},
   "outputs": [
    {
     "data": {
      "text/html": [
       "<div>\n",
       "<style scoped>\n",
       "    .dataframe tbody tr th:only-of-type {\n",
       "        vertical-align: middle;\n",
       "    }\n",
       "\n",
       "    .dataframe tbody tr th {\n",
       "        vertical-align: top;\n",
       "    }\n",
       "\n",
       "    .dataframe thead th {\n",
       "        text-align: right;\n",
       "    }\n",
       "</style>\n",
       "<table border=\"1\" class=\"dataframe\">\n",
       "  <thead>\n",
       "    <tr style=\"text-align: right;\">\n",
       "      <th></th>\n",
       "      <th>index</th>\n",
       "      <th>epsestimate</th>\n",
       "      <th>epsactual</th>\n",
       "      <th>epssurprisepct</th>\n",
       "      <th>alpha_1_day</th>\n",
       "      <th>alpha_5_day</th>\n",
       "      <th>alpha_10_day</th>\n",
       "      <th>beta_252</th>\n",
       "      <th>plus_1_return</th>\n",
       "      <th>plus_5_return</th>\n",
       "      <th>plus_10_return</th>\n",
       "      <th>mktclose_plus_1_return</th>\n",
       "      <th>mktclose_plus_5_return</th>\n",
       "      <th>mktclose_plus_10_return</th>\n",
       "    </tr>\n",
       "  </thead>\n",
       "  <tbody>\n",
       "    <tr>\n",
       "      <th>0</th>\n",
       "      <td>count</td>\n",
       "      <td>52.00000</td>\n",
       "      <td>52.00000</td>\n",
       "      <td>52.00000</td>\n",
       "      <td>48.00000</td>\n",
       "      <td>48.00000</td>\n",
       "      <td>48.00000</td>\n",
       "      <td>48.00000</td>\n",
       "      <td>52.00000</td>\n",
       "      <td>52.00000</td>\n",
       "      <td>52.00000</td>\n",
       "      <td>52.00000</td>\n",
       "      <td>52.00000</td>\n",
       "      <td>52.00000</td>\n",
       "    </tr>\n",
       "    <tr>\n",
       "      <th>1</th>\n",
       "      <td>mean</td>\n",
       "      <td>0.70346</td>\n",
       "      <td>0.74135</td>\n",
       "      <td>5.50212</td>\n",
       "      <td>0.00298</td>\n",
       "      <td>0.00412</td>\n",
       "      <td>0.01112</td>\n",
       "      <td>1.06090</td>\n",
       "      <td>0.00628</td>\n",
       "      <td>0.01060</td>\n",
       "      <td>0.01974</td>\n",
       "      <td>0.00065</td>\n",
       "      <td>0.00294</td>\n",
       "      <td>0.00330</td>\n",
       "    </tr>\n",
       "    <tr>\n",
       "      <th>2</th>\n",
       "      <td>std</td>\n",
       "      <td>0.41213</td>\n",
       "      <td>0.43410</td>\n",
       "      <td>4.97341</td>\n",
       "      <td>0.03079</td>\n",
       "      <td>0.04223</td>\n",
       "      <td>0.04159</td>\n",
       "      <td>0.12814</td>\n",
       "      <td>0.03686</td>\n",
       "      <td>0.05027</td>\n",
       "      <td>0.05857</td>\n",
       "      <td>0.01238</td>\n",
       "      <td>0.02234</td>\n",
       "      <td>0.03600</td>\n",
       "    </tr>\n",
       "    <tr>\n",
       "      <th>3</th>\n",
       "      <td>min</td>\n",
       "      <td>0.16000</td>\n",
       "      <td>0.17000</td>\n",
       "      <td>-1.43000</td>\n",
       "      <td>-0.06347</td>\n",
       "      <td>-0.11167</td>\n",
       "      <td>-0.10685</td>\n",
       "      <td>0.67069</td>\n",
       "      <td>-0.06919</td>\n",
       "      <td>-0.09783</td>\n",
       "      <td>-0.09652</td>\n",
       "      <td>-0.03114</td>\n",
       "      <td>-0.08539</td>\n",
       "      <td>-0.14111</td>\n",
       "    </tr>\n",
       "    <tr>\n",
       "      <th>4</th>\n",
       "      <td>25%</td>\n",
       "      <td>0.36000</td>\n",
       "      <td>0.38500</td>\n",
       "      <td>2.29000</td>\n",
       "      <td>-0.01717</td>\n",
       "      <td>-0.01817</td>\n",
       "      <td>-0.01317</td>\n",
       "      <td>0.95640</td>\n",
       "      <td>-0.01932</td>\n",
       "      <td>-0.02285</td>\n",
       "      <td>-0.01812</td>\n",
       "      <td>-0.00433</td>\n",
       "      <td>-0.00830</td>\n",
       "      <td>-0.01538</td>\n",
       "    </tr>\n",
       "    <tr>\n",
       "      <th>5</th>\n",
       "      <td>50%</td>\n",
       "      <td>0.62000</td>\n",
       "      <td>0.63000</td>\n",
       "      <td>3.95000</td>\n",
       "      <td>0.00197</td>\n",
       "      <td>0.00486</td>\n",
       "      <td>0.00916</td>\n",
       "      <td>1.07929</td>\n",
       "      <td>0.00464</td>\n",
       "      <td>0.00864</td>\n",
       "      <td>0.01336</td>\n",
       "      <td>0.00059</td>\n",
       "      <td>0.00289</td>\n",
       "      <td>0.00832</td>\n",
       "    </tr>\n",
       "    <tr>\n",
       "      <th>6</th>\n",
       "      <td>75%</td>\n",
       "      <td>1.04500</td>\n",
       "      <td>1.11250</td>\n",
       "      <td>7.90250</td>\n",
       "      <td>0.02271</td>\n",
       "      <td>0.02624</td>\n",
       "      <td>0.03419</td>\n",
       "      <td>1.13721</td>\n",
       "      <td>0.03575</td>\n",
       "      <td>0.04044</td>\n",
       "      <td>0.05727</td>\n",
       "      <td>0.00880</td>\n",
       "      <td>0.01520</td>\n",
       "      <td>0.02701</td>\n",
       "    </tr>\n",
       "    <tr>\n",
       "      <th>7</th>\n",
       "      <td>max</td>\n",
       "      <td>1.54000</td>\n",
       "      <td>1.62000</td>\n",
       "      <td>26.28000</td>\n",
       "      <td>0.09538</td>\n",
       "      <td>0.13885</td>\n",
       "      <td>0.14400</td>\n",
       "      <td>1.27847</td>\n",
       "      <td>0.10244</td>\n",
       "      <td>0.16244</td>\n",
       "      <td>0.17598</td>\n",
       "      <td>0.03429</td>\n",
       "      <td>0.05271</td>\n",
       "      <td>0.09221</td>\n",
       "    </tr>\n",
       "  </tbody>\n",
       "</table>\n",
       "</div>"
      ],
      "text/plain": [
       "   index  epsestimate  epsactual  epssurprisepct  alpha_1_day  alpha_5_day  alpha_10_day  beta_252  plus_1_return  plus_5_return  plus_10_return  mktclose_plus_1_return  mktclose_plus_5_return  mktclose_plus_10_return\n",
       "0  count 52.00000     52.00000   52.00000        48.00000     48.00000     48.00000      48.00000  52.00000       52.00000       52.00000        52.00000                52.00000                52.00000                \n",
       "1  mean  0.70346      0.74135    5.50212         0.00298      0.00412      0.01112       1.06090   0.00628        0.01060        0.01974         0.00065                 0.00294                 0.00330                 \n",
       "2  std   0.41213      0.43410    4.97341         0.03079      0.04223      0.04159       0.12814   0.03686        0.05027        0.05857         0.01238                 0.02234                 0.03600                 \n",
       "3  min   0.16000      0.17000    -1.43000        -0.06347     -0.11167     -0.10685      0.67069   -0.06919       -0.09783       -0.09652        -0.03114                -0.08539                -0.14111                \n",
       "4  25%   0.36000      0.38500    2.29000         -0.01717     -0.01817     -0.01317      0.95640   -0.01932       -0.02285       -0.01812        -0.00433                -0.00830                -0.01538                \n",
       "5  50%   0.62000      0.63000    3.95000         0.00197      0.00486      0.00916       1.07929   0.00464        0.00864        0.01336         0.00059                 0.00289                 0.00832                 \n",
       "6  75%   1.04500      1.11250    7.90250         0.02271      0.02624      0.03419       1.13721   0.03575        0.04044        0.05727         0.00880                 0.01520                 0.02701                 \n",
       "7  max   1.54000      1.62000    26.28000        0.09538      0.13885      0.14400       1.27847   0.10244        0.16244        0.17598         0.03429                 0.05271                 0.09221                 "
      ]
     },
     "execution_count": 9,
     "metadata": {},
     "output_type": "execute_result"
    }
   ],
   "source": [
    "df.describe().reset_index() #row 2 is the mean of the full series of data"
   ]
  },
  {
   "cell_type": "markdown",
   "metadata": {},
   "source": [
    "Let's filter down to just a few categories, rather than all of them."
   ]
  },
  {
   "cell_type": "markdown",
   "metadata": {},
   "source": [
    "And let's regress EVERY time series name against n day alpha, over n regression periods (both specified above), and rank by r-squared."
   ]
  },
  {
   "cell_type": "code",
   "execution_count": 10,
   "metadata": {},
   "outputs": [
    {
     "data": {
      "text/plain": [
       "['Operating Stats - International (Operational Data)',\n",
       " 'Key Metrics - Total Volume (Operational Data)',\n",
       " 'Key Metrics - Employee Count (FS)',\n",
       " 'Key Metrics - International - By Geography (Operational Data)',\n",
       " 'Segmented Results - Revenue Breakdown (FS)',\n",
       " 'Operating Stats - US (Operational Data)',\n",
       " 'Segmented Results - Geographic Revenue Breakdown (FS)',\n",
       " 'Operating Stats - Nominal Payments Volumes (FS & IP)',\n",
       " 'Growth Analysis',\n",
       " 'Operating Stats - Processed Transactions (Operational Data)',\n",
       " 'Margin Analysis',\n",
       " 'Operating Stats - Consolidated Operational Data',\n",
       " 'Key Metrics - Cash Volume & Transactions (Operational Data)',\n",
       " 'Key Metrics - Payments Revenue and Take Rate']"
      ]
     },
     "execution_count": 10,
     "metadata": {},
     "output_type": "execute_result"
    }
   ],
   "source": [
    "\n",
    "like_list = ['Stats','Analysis','Metrics','Segmented Results']\n",
    "category_filter = []\n",
    "for category in categories:\n",
    "    for like in like_list:\n",
    "        if like in category:\n",
    "            category_filter.append(category)\n",
    "            \n",
    "category_filter = list(set(category_filter))\n",
    "category_filter\n"
   ]
  },
  {
   "cell_type": "code",
   "execution_count": 11,
   "metadata": {},
   "outputs": [
    {
     "data": {
      "text/plain": [
       "<AxesSubplot:title={'center':'V US Key Drivers Price Sensitivity'}, ylabel='time_series_description'>"
      ]
     },
     "execution_count": 11,
     "metadata": {},
     "output_type": "execute_result"
    },
    {
     "data": {
      "image/png": "[encoded data removed]",
      "text/plain": [
       "<Figure size 432x288 with 1 Axes>"
      ]
     },
     "metadata": {
      "needs_background": "light"
     },
     "output_type": "display_data"
    }
   ],
   "source": [
    "%matplotlib inline\n",
    "df_kpi = cdr.regress_dataframe_time_series_groups(df_data = df_data,\n",
    "                                         y_name=alpha_days,\n",
    "                                         return_grouped=True,\n",
    "                                         category = category_filter,\n",
    "                                         n_periods=regression_window)\n",
    "df_kpi = df_kpi[['ticker','time_series_description','time_series_name','category','rsquared']].head(10).sort_values('rsquared',ascending = True)\n",
    "df_kpi.plot(x='time_series_description',y='rsquared',kind='barh',title=ticker+\" Key Drivers Price Sensitivity\")"
   ]
  },
  {
   "cell_type": "markdown",
   "metadata": {},
   "source": [
    "We can see the price / time series history of the top KPI to check whether it makes sense"
   ]
  },
  {
   "cell_type": "code",
   "execution_count": 12,
   "metadata": {},
   "outputs": [
    {
     "data": {
      "image/png": "[encoded data removed]",
      "text/plain": [
       "<Figure size 864x648 with 2 Axes>"
      ]
     },
     "metadata": {
      "needs_background": "light"
     },
     "output_type": "display_data"
    }
   ],
   "source": [
    "top_kpi = df_kpi.iloc[9]['time_series_name']\n",
    "time_series_name=top_kpi\n",
    "df_prices = cdr.get_price_data(yahoo_ticker, reset=True, rolling_betas=False, index_ticker=index_ticker)\n",
    "cdr.plot_prices_against_time_series(df_data,df_prices,time_series_name,\"value\") #raw value"
   ]
  },
  {
   "cell_type": "markdown",
   "metadata": {},
   "source": [
    "In a separate analysis, we can pull the key drivers off the precedent tree for revenue, and rank order their impact on revenue."
   ]
  },
  {
   "cell_type": "code",
   "execution_count": 13,
   "metadata": {},
   "outputs": [
    {
     "name": "stdout",
     "output_type": "stream",
     "text": [
      "https://mds.canalyst.com/api/equity-model-series/2CRCA60110/equity-models/FY2021.23/time-series/MO_RIS_REV/forecast-data-points/Q1-2022/drivers/?format=dot\n",
      "scenario: move z_2CRCA60110_MO_GA_DifferenceInternationalTransactionvsNominalCrossborderVolume 1% and get resultant change in MO_RIS_REV\n",
      "V US scenario_id_url: https://mds.canalyst.com/api/equity-model-series/2CRCA60110/equity-models/FY2021.23/scenarios/Uq6y3YJnVuinj6efvfIhcg/\n",
      "scenario: move z_2CRCA60110_MO_GA_ConstantCrossborderVolumeexclIntraEurope 1% and get resultant change in MO_RIS_REV\n",
      "V US scenario_id_url: https://mds.canalyst.com/api/equity-model-series/2CRCA60110/equity-models/FY2021.23/scenarios/yZvxERW1UiCkrlRyLzUjqg/\n",
      "scenario: move z_2CRCA60110_MO_GA_ImpliedFXimpactCrossborderVolumeexclIntraEurope 1% and get resultant change in MO_RIS_REV\n",
      "V US scenario_id_url: https://mds.canalyst.com/api/equity-model-series/2CRCA60110/equity-models/FY2021.23/scenarios/1Rv9t2TpU9ikeXemE2YrtA/\n",
      "scenario: move z_2CRCA60110_MO_OS_Otherrevenuesgrowth 1% and get resultant change in MO_RIS_REV\n",
      "V US scenario_id_url: https://mds.canalyst.com/api/equity-model-series/2CRCA60110/equity-models/FY2021.23/scenarios/VR6eUeUWWRaXRaVH1iziOA/\n",
      "scenario: move z_2CRCA60110_MO_OS_clientincentivesasofgrossoperatingrevenues 1% and get resultant change in MO_RIS_REV\n",
      "V US scenario_id_url: https://mds.canalyst.com/api/equity-model-series/2CRCA60110/equity-models/FY2021.23/scenarios/cgDJSLSwWk2kxamnTBEnGA/\n",
      "scenario: move z_2CRCA60110_MO_OS_YYChangeinServicesrevenueper1000paymentsvolume 1% and get resultant change in MO_RIS_REV\n",
      "V US scenario_id_url: https://mds.canalyst.com/api/equity-model-series/2CRCA60110/equity-models/FY2021.23/scenarios/zBA-46ThWG6n777tKD6xUw/\n",
      "scenario: move z_2CRCA60110_MO_OS_YYChangeinVisaprocessedtransactionspercard 1% and get resultant change in MO_RIS_REV\n",
      "V US scenario_id_url: https://mds.canalyst.com/api/equity-model-series/2CRCA60110/equity-models/FY2021.23/scenarios/y_NrddRgWC6w_T0lFyfcHw/\n",
      "scenario: move z_2CRCA60110_MO_OS_YYChangeinDataprocessingrevenueperprocessedtransactions 1% and get resultant change in MO_RIS_REV\n",
      "V US scenario_id_url: https://mds.canalyst.com/api/equity-model-series/2CRCA60110/equity-models/FY2021.23/scenarios/4ry7x67eUnuTa0UEM4v0hw/\n"
     ]
    }
   ],
   "source": [
    "\n",
    "#use the same node tree to extract key drivers (red nodes)\n",
    "df = model_set.models[ticker].key_driver_map(\"MO_RIS_REV\")\n",
    "return_series = 'MO_RIS_REV'\n",
    "driver_list_df = []\n",
    "for i, row in df.iterrows():\n",
    "\n",
    "    time_series_name = row['time_series_name']\n",
    "    print(f\"scenario: move {time_series_name} 1% and get resultant change in {return_series}\")\n",
    "\n",
    "    #create a param dataframe for each time series name in our list\n",
    "    df_1_param = model_set.forecast_frame(time_series_name,\n",
    "                         n_periods=-1,\n",
    "                         function_name='multiply',\n",
    "                         function_value=1.01)\n",
    "\n",
    "\n",
    "    d_output=model_set.fit(df_1_param,return_series) #our fit function will return a link to scenario engine JSON for audit\n",
    "\n",
    "    df_output = model_set.filter_summary(d_output,period_type='Q')\n",
    "\n",
    "    df_merge = pd.merge(df_output,df_1_param,how='inner',left_on=['ticker','period_name'],right_on=['ticker','period_name'])\n",
    "\n",
    "    driver_list_df.append(df_merge) #append to a list for concatenating at the end\n",
    "df = pd.concat(driver_list_df).sort_values('diff',ascending=False)\n",
    "df = df.rename(columns={'time_series_name_y':'time_series_name'})\n",
    "df['diff'] = df['diff']-1\n",
    "df = df.sort_values('diff')\n"
   ]
  },
  {
   "cell_type": "code",
   "execution_count": 14,
   "metadata": {},
   "outputs": [
    {
     "data": {
      "text/plain": [
       "<AxesSubplot:title={'center':'V US Key Drivers Revenue Sensitivity'}, ylabel='time_series_description_y'>"
      ]
     },
     "execution_count": 14,
     "metadata": {},
     "output_type": "execute_result"
    },
    {
     "data": {
      "image/png": "[encoded data removed]",
      "text/plain": [
       "<Figure size 864x648 with 1 Axes>"
      ]
     },
     "metadata": {
      "needs_background": "light"
     },
     "output_type": "display_data"
    }
   ],
   "source": [
    "df.plot(x='time_series_description_y',y='diff',kind='barh',title=ticker+\" Key Drivers Revenue Sensitivity\")"
   ]
  },
  {
   "cell_type": "code",
   "execution_count": 16,
   "metadata": {},
   "outputs": [
    {
     "name": "stdout",
     "output_type": "stream",
     "text": [
      "https://mds.canalyst.com/api/equity-model-series/2CRCA60110/equity-models/FY2021.23/time-series/MO_RIS_REV/forecast-data-points/Q1-2022/drivers/?format=dot\n"
     ]
    },
    {
     "data": {
      "text/html": [
       "\n",
       "        <iframe\n",
       "            width=\"100%\"\n",
       "            height=\"1000px\"\n",
       "            src=\"canalyst/V_MO_RIS_REV_model_map.html\"\n",
       "            frameborder=\"0\"\n",
       "            allowfullscreen\n",
       "            \n",
       "        ></iframe>\n",
       "        "
      ],
      "text/plain": [
       "<IPython.lib.display.IFrame at 0x7ff276d17c40>"
      ]
     },
     "metadata": {},
     "output_type": "display_data"
    }
   ],
   "source": [
    "#model_set = cd.ModelSet(ticker_list=[ticker], config=config) #create a modelset of our ticker\n",
    "time_series_name=\"MO_RIS_REV\"\n",
    "model_map = model_set.create_model_map(ticker=ticker,\n",
    "                            time_series_name=time_series_name,\n",
    "                            tree = True,\n",
    "                            notebook = True,\n",
    "                            col_for_labels = \"time_series_description\") \n",
    "from IPython.display import IFrame\n",
    "map_file=ticker.split(' ')[0]+'_'+time_series_name+'_model_map.html'\n",
    "display(IFrame('canalyst/'+map_file, width='100%', height='1000px'))"
   ]
  },
  {
   "cell_type": "code",
   "execution_count": null,
   "metadata": {},
   "outputs": [
    {
     "name": "stdout",
     "output_type": "stream",
     "text": [
      "A configuration file has been created for you in \n",
      "/home/canalyst-candas/canalyst/keys.json. For Excel file downloads and scenario \n",
      "mapping, you'll need to add an API key to the 'canalyst_api_key' \n",
      "value. Visit https://app.canalyst.com/settings/api-tokens to create \n",
      "and retrieve your API key. You will also need to retrieve your \n",
      "S3 Access ID and Secret Key and fill in 'canalyst_s3_id' and \n",
      "'canalyst_s3_key' with those values, respectively. If using a \n",
      "Jupyter Notebook, stop and restart the notebook for the changes to \n",
      "take effect. If using a Python/iPython session, quit the current \n",
      "session and start a new one.\n",
      "A configuration file has been created for you in \n",
      "/home/canalyst-candas/canalyst/keys.json. For Excel file downloads and scenario \n",
      "mapping, you'll need to add an API key to the 'canalyst_api_key' \n",
      "value. Visit https://app.canalyst.com/settings/api-tokens to create \n",
      "and retrieve your API key. You will also need to retrieve your \n",
      "S3 Access ID and Secret Key and fill in 'canalyst_s3_id' and \n",
      "'canalyst_s3_key' with those values, respectively. If using a \n",
      "Jupyter Notebook, stop and restart the notebook for the changes to \n",
      "take effect. If using a Python/iPython session, quit the current \n",
      "session and start a new one.\n",
      "A configuration file has been created for you in \n",
      "/home/canalyst-candas/canalyst/keys.json. For Excel file downloads and scenario \n",
      "mapping, you'll need to add an API key to the 'canalyst_api_key' \n",
      "value. Visit https://app.canalyst.com/settings/api-tokens to create \n",
      "and retrieve your API key. You will also need to retrieve your \n",
      "S3 Access ID and Secret Key and fill in 'canalyst_s3_id' and \n",
      "'canalyst_s3_key' with those values, respectively. If using a \n",
      "Jupyter Notebook, stop and restart the notebook for the changes to \n",
      "take effect. If using a Python/iPython session, quit the current \n",
      "session and start a new one.\n",
      "A configuration file has been created for you in \n",
      "/home/canalyst-candas/canalyst/keys.json. For Excel file downloads and scenario \n",
      "mapping, you'll need to add an API key to the 'canalyst_api_key' \n",
      "value. Visit https://app.canalyst.com/settings/api-tokens to create \n",
      "and retrieve your API key. You will also need to retrieve your \n",
      "S3 Access ID and Secret Key and fill in 'canalyst_s3_id' and \n",
      "'canalyst_s3_key' with those values, respectively. If using a \n",
      "Jupyter Notebook, stop and restart the notebook for the changes to \n",
      "take effect. If using a Python/iPython session, quit the current \n",
      "session and start a new one.\n",
      "A configuration file has been created for you in \n",
      "/home/canalyst-candas/canalyst/keys.json. For Excel file downloads and scenario \n",
      "mapping, you'll need to add an API key to the 'canalyst_api_key' \n",
      "value. Visit https://app.canalyst.com/settings/api-tokens to create \n",
      "and retrieve your API key. You will also need to retrieve your \n",
      "S3 Access ID and Secret Key and fill in 'canalyst_s3_id' and \n",
      "'canalyst_s3_key' with those values, respectively. If using a \n",
      "Jupyter Notebook, stop and restart the notebook for the changes to \n",
      "take effect. If using a Python/iPython session, quit the current \n",
      "session and start a new one.\n",
      "A configuration file has been created for you in \n",
      "/home/canalyst-candas/canalyst/keys.json. For Excel file downloads and scenario \n",
      "mapping, you'll need to add an API key to the 'canalyst_api_key' \n",
      "value. Visit https://app.canalyst.com/settings/api-tokens to create \n",
      "and retrieve your API key. You will also need to retrieve your \n",
      "S3 Access ID and Secret Key and fill in 'canalyst_s3_id' and \n",
      "'canalyst_s3_key' with those values, respectively. If using a \n",
      "Jupyter Notebook, stop and restart the notebook for the changes to \n",
      "take effect. If using a Python/iPython session, quit the current \n",
      "session and start a new one.\n",
      "A configuration file has been created for you in \n",
      "/home/canalyst-candas/canalyst/keys.json. For Excel file downloads and scenario \n",
      "mapping, you'll need to add an API key to the 'canalyst_api_key' \n",
      "value. Visit https://app.canalyst.com/settings/api-tokens to create \n",
      "and retrieve your API key. You will also need to retrieve your \n",
      "S3 Access ID and Secret Key and fill in 'canalyst_s3_id' and \n",
      "'canalyst_s3_key' with those values, respectively. If using a \n",
      "Jupyter Notebook, stop and restart the notebook for the changes to \n",
      "take effect. If using a Python/iPython session, quit the current \n",
      "session and start a new one.\n",
      "A configuration file has been created for you in \n",
      "/home/canalyst-candas/canalyst/keys.json. For Excel file downloads and scenario \n",
      "mapping, you'll need to add an API key to the 'canalyst_api_key' \n",
      "value. Visit https://app.canalyst.com/settings/api-tokens to create \n",
      "and retrieve your API key. You will also need to retrieve your \n",
      "S3 Access ID and Secret Key and fill in 'canalyst_s3_id' and \n",
      "'canalyst_s3_key' with those values, respectively. If using a \n",
      "Jupyter Notebook, stop and restart the notebook for the changes to \n",
      "take effect. If using a Python/iPython session, quit the current \n",
      "session and start a new one.\n"
     ]
    }
   ],
   "source": [
    "df.sort_values('diff',ascending=False)"
   ]
  }
 ],
 "metadata": {
  "finalized": {
   "timestamp": 1630681095352,
   "trusted": true
  },
  "kernelspec": {
   "display_name": "Python 3.9",
   "language": "python",
   "name": "python3"
  },
  "language_info": {
   "codemirror_mode": {
    "name": "ipython",
    "version": 3
   },
   "file_extension": ".py",
   "mimetype": "text/x-python",
   "name": "python",
   "nbconvert_exporter": "python",
   "pygments_lexer": "ipython3",
   "version": "3.9.7"
  }
 },
 "nbformat": 4,
 "nbformat_minor": 4
}
