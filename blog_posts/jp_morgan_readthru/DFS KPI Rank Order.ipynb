{
 "cells": [
  {
   "cell_type": "markdown",
   "metadata": {},
   "source": [
    "Please request an api key at:\n",
    "https://app.canalyst.com/settings/api-tokens"
   ]
  },
  {
   "cell_type": "markdown",
   "metadata": {},
   "source": [
    "## KPI Rank Order\n",
    "### (For a different ticker edit second code cell)"
   ]
  },
  {
   "cell_type": "code",
   "execution_count": 1,
   "metadata": {},
   "outputs": [
    {
     "name": "stdout",
     "output_type": "stream",
     "text": [
      "A configuration file has been created for you in \n",
      "/home/canalyst-candas/canalyst/keys.json. For Excel file downloads and scenario \n",
      "mapping, you'll need to add an API key to the 'canalyst_api_key' \n",
      "value. Visit https://app.canalyst.com/settings/api-tokens to create \n",
      "and retrieve your API key. You will also need to retrieve your \n",
      "S3 Access ID and Secret Key and fill in 'canalyst_s3_id' and \n",
      "'canalyst_s3_key' with those values, respectively. If using a \n",
      "Jupyter Notebook, stop and restart the notebook for the changes to \n",
      "take effect. If using a Python/iPython session, quit the current \n",
      "session and start a new one.\n"
     ]
    },
    {
     "data": {
      "text/html": [
       "<style>.container { width:100% !important; }</style>"
      ],
      "text/plain": [
       "<IPython.core.display.HTML object>"
      ]
     },
     "metadata": {},
     "output_type": "display_data"
    }
   ],
   "source": [
    "import sys\n",
    "import os\n",
    "import dtale\n",
    "import dtale.app as dtale_app\n",
    "dtale_app.JUPYTER_SERVER_PROXY = True\n",
    "import pandas as pd\n",
    "pd.set_option('display.float_format', lambda x: '%.5f' % x)\n",
    "import canalyst_candas.candas as cd\n",
    "import canalyst_candas.candas_datareader as cdr\n",
    "from canalyst_candas.configuration.config import Config\n",
    "config_info = {\n",
    "  \"canalyst_api_key\": \"\",\n",
    "  \"s3_access_key_id\": \"\",\n",
    "  \"s3_secret_key\": \"\",\n",
    "  \"fred_key\": \"\",\n",
    "  \"default_dir\": \"",\n",
    "  \"mds_host\": \"\",\n",
    "  \"wp_host\": \"\"\n",
    "}\n",
    "config = Config(config=config_info)\n",
    "from IPython.core.display import display, HTML\n",
    "display(HTML(\"<style>.container { width:100% !important; }</style>\"))\n",
    "pd.set_option('display.max_columns', None)\n",
    "pd.set_option('display.expand_frame_repr', False)\n",
    "pd.set_option('max_colwidth', -1)"
   ]
  },
  {
   "cell_type": "markdown",
   "metadata": {},
   "source": [
    "<b>Key Parameters</b>\n",
    "\n",
    "Establish our price ticker (data source yahoo finance) and our Canalyst ticker (we use Bloomberg ticker format)"
   ]
  },
  {
   "cell_type": "code",
   "execution_count": 2,
   "metadata": {},
   "outputs": [],
   "source": [
    "ticker = \"DFS US\"\n",
    "yahoo_ticker = \"DFS\" #need this for prices\n",
    "index_ticker = \"^GSPC\" #this is our benchmark index (^GSPC for S&P 500, EFA for msci eafa etc)\n",
    "alpha_days = \"alpha_1_day\" #or alpha_5_day or alpha_10_day\n",
    "regression_window = 12\n",
    "model_set = cd.ModelSet(ticker_list=[ticker], config=config) #create a modelset of our ticker"
   ]
  },
  {
   "cell_type": "markdown",
   "metadata": {},
   "source": [
    "Check whether we cover this stock"
   ]
  },
  {
   "cell_type": "code",
   "execution_count": 3,
   "metadata": {},
   "outputs": [
    {
     "data": {
      "text/html": [
       "<div>\n",
       "<style scoped>\n",
       "    .dataframe tbody tr th:only-of-type {\n",
       "        vertical-align: middle;\n",
       "    }\n",
       "\n",
       "    .dataframe tbody tr th {\n",
       "        vertical-align: top;\n",
       "    }\n",
       "\n",
       "    .dataframe thead th {\n",
       "        text-align: right;\n",
       "    }\n",
       "</style>\n",
       "<table border=\"1\" class=\"dataframe\">\n",
       "  <thead>\n",
       "    <tr style=\"text-align: right;\">\n",
       "      <th></th>\n",
       "      <th>File</th>\n",
       "      <th>Bloomberg Ticker</th>\n",
       "      <th>Thomson Ticker</th>\n",
       "    </tr>\n",
       "  </thead>\n",
       "  <tbody>\n",
       "    <tr>\n",
       "      <th>804</th>\n",
       "      <td>Discover Financial Services DFS US</td>\n",
       "      <td>DFS US</td>\n",
       "      <td>DFS.N</td>\n",
       "    </tr>\n",
       "  </tbody>\n",
       "</table>\n",
       "</div>"
      ],
      "text/plain": [
       "                                   File Bloomberg Ticker Thomson Ticker\n",
       "804  Discover Financial Services DFS US  DFS US           DFS.N        "
      ]
     },
     "execution_count": 3,
     "metadata": {},
     "output_type": "execute_result"
    }
   ],
   "source": [
    "#instantiate a search object, which we will also use later\n",
    "search = cd.Search(config)\n",
    "search.get_ticker_list(ticker = ticker) #do we cover this stock?"
   ]
  },
  {
   "cell_type": "markdown",
   "metadata": {},
   "source": [
    "Let's take a look at the list of available segments (categories) in the model."
   ]
  },
  {
   "cell_type": "code",
   "execution_count": 4,
   "metadata": {},
   "outputs": [
    {
     "data": {
      "text/plain": [
       "['Growth Analysis',\n",
       " 'Segmented Results - Revenue Breakdown (FS)',\n",
       " 'Operating Stats - Net Interest Income (FS/PR)',\n",
       " 'Operating Stats - Allowance for Credit Losses (FS)',\n",
       " 'Operating Stats - Transaction Volume (FS)',\n",
       " 'Segmented Results - Direct Banking (FS)',\n",
       " 'Segmented Results - Payment Services (FS)',\n",
       " 'Key Metrics - Payments Revenue and Take-Rate (FS)',\n",
       " 'Key Metrics - Employee Count (FS)',\n",
       " 'Margin Analysis',\n",
       " 'Income Statement As Reported',\n",
       " 'Revised Income Statement',\n",
       " 'Dividend Summary',\n",
       " 'Balance Sheet Summary',\n",
       " 'Regulatory Capital As Reported',\n",
       " 'Valuation',\n",
       " 'Cumulative Cash Flow Statement',\n",
       " 'Cash Flow Statement',\n",
       " 'Balance Sheet']"
      ]
     },
     "execution_count": 4,
     "metadata": {},
     "output_type": "execute_result"
    }
   ],
   "source": [
    "categories = list(model_set.model_frame(ticker=ticker,\n",
    "                      period_duration_type = \"fiscal_quarter\", \n",
    "                      mrq=True)['category'].unique())\n",
    "categories"
   ]
  },
  {
   "cell_type": "markdown",
   "metadata": {},
   "source": [
    "Goal: Create a pivoted view of one category of the model_frame"
   ]
  },
  {
   "cell_type": "code",
   "execution_count": 5,
   "metadata": {},
   "outputs": [
    {
     "data": {
      "text/html": [
       "<div>\n",
       "<style scoped>\n",
       "    .dataframe tbody tr th:only-of-type {\n",
       "        vertical-align: middle;\n",
       "    }\n",
       "\n",
       "    .dataframe tbody tr th {\n",
       "        vertical-align: top;\n",
       "    }\n",
       "\n",
       "    .dataframe thead th {\n",
       "        text-align: right;\n",
       "    }\n",
       "</style>\n",
       "<table border=\"1\" class=\"dataframe\">\n",
       "  <thead>\n",
       "    <tr style=\"text-align: right;\">\n",
       "      <th>period_name_sorted</th>\n",
       "      <th>ticker</th>\n",
       "      <th>name_index</th>\n",
       "      <th>category</th>\n",
       "      <th>time_series_name</th>\n",
       "      <th>time_series_description</th>\n",
       "      <th>is_driver</th>\n",
       "      <th>MRFQ</th>\n",
       "      <th>2018Q4</th>\n",
       "      <th>2019Q1</th>\n",
       "      <th>2019Q2</th>\n",
       "      <th>2019Q3</th>\n",
       "      <th>2019Q4</th>\n",
       "      <th>2020Q1</th>\n",
       "      <th>2020Q2</th>\n",
       "      <th>2020Q3</th>\n",
       "      <th>2020Q4</th>\n",
       "      <th>2021Q1</th>\n",
       "      <th>2021Q2</th>\n",
       "      <th>2021Q3</th>\n",
       "    </tr>\n",
       "  </thead>\n",
       "  <tbody>\n",
       "    <tr>\n",
       "      <th>0</th>\n",
       "      <td>DFS US</td>\n",
       "      <td>7</td>\n",
       "      <td>Growth Analysis</td>\n",
       "      <td>MO_GA_NIIGrowth</td>\n",
       "      <td>Net interest income growth, %</td>\n",
       "      <td>False</td>\n",
       "      <td>Q3-2021</td>\n",
       "      <td>8.58491</td>\n",
       "      <td>9.76190</td>\n",
       "      <td>9.53499</td>\n",
       "      <td>8.05218</td>\n",
       "      <td>5.29974</td>\n",
       "      <td>4.03471</td>\n",
       "      <td>-6.08919</td>\n",
       "      <td>-5.70358</td>\n",
       "      <td>-1.93894</td>\n",
       "      <td>-2.83570</td>\n",
       "      <td>4.97717</td>\n",
       "      <td>6.18102</td>\n",
       "    </tr>\n",
       "    <tr>\n",
       "      <th>1</th>\n",
       "      <td>DFS US</td>\n",
       "      <td>8</td>\n",
       "      <td>Growth Analysis</td>\n",
       "      <td>z_YDE7B00120_MO_OS_discountandinterchangerevenuenetgrowth</td>\n",
       "      <td>Discount and interchange revenue, net growth, %</td>\n",
       "      <td>True</td>\n",
       "      <td>Q3-2021</td>\n",
       "      <td>-2.12014</td>\n",
       "      <td>-9.05512</td>\n",
       "      <td>13.68821</td>\n",
       "      <td>-8.92857</td>\n",
       "      <td>1.44404</td>\n",
       "      <td>-6.49351</td>\n",
       "      <td>-20.73579</td>\n",
       "      <td>-6.66667</td>\n",
       "      <td>-13.87900</td>\n",
       "      <td>11.57407</td>\n",
       "      <td>43.03797</td>\n",
       "      <td>25.63025</td>\n",
       "    </tr>\n",
       "    <tr>\n",
       "      <th>2</th>\n",
       "      <td>DFS US</td>\n",
       "      <td>9</td>\n",
       "      <td>Growth Analysis</td>\n",
       "      <td>z_YDE7B00120_MO_OS_protectionproductsrevenuegrowth</td>\n",
       "      <td>Protection products revenue growth, %</td>\n",
       "      <td>True</td>\n",
       "      <td>Q3-2021</td>\n",
       "      <td>-7.40741</td>\n",
       "      <td>-7.54717</td>\n",
       "      <td>-2.00000</td>\n",
       "      <td>-5.88235</td>\n",
       "      <td>-4.00000</td>\n",
       "      <td>-4.08163</td>\n",
       "      <td>-10.20408</td>\n",
       "      <td>-8.33333</td>\n",
       "      <td>-6.25000</td>\n",
       "      <td>-8.51064</td>\n",
       "      <td>-2.27273</td>\n",
       "      <td>-2.27273</td>\n",
       "    </tr>\n",
       "    <tr>\n",
       "      <th>3</th>\n",
       "      <td>DFS US</td>\n",
       "      <td>10</td>\n",
       "      <td>Growth Analysis</td>\n",
       "      <td>z_YDE7B00120_MO_OS_loanfeeincomegrowth</td>\n",
       "      <td>Loan fee income growth, %</td>\n",
       "      <td>True</td>\n",
       "      <td>Q3-2021</td>\n",
       "      <td>12.50000</td>\n",
       "      <td>8.33333</td>\n",
       "      <td>7.36842</td>\n",
       "      <td>16.50485</td>\n",
       "      <td>13.88889</td>\n",
       "      <td>14.42308</td>\n",
       "      <td>-16.66667</td>\n",
       "      <td>-16.66667</td>\n",
       "      <td>-10.56911</td>\n",
       "      <td>-10.08403</td>\n",
       "      <td>23.52941</td>\n",
       "      <td>21.00000</td>\n",
       "    </tr>\n",
       "    <tr>\n",
       "      <th>4</th>\n",
       "      <td>DFS US</td>\n",
       "      <td>11</td>\n",
       "      <td>Growth Analysis</td>\n",
       "      <td>z_YDE7B00120_MO_OS_transactionprocessingrevenuegrowth</td>\n",
       "      <td>Transaction processing revenue growth, %</td>\n",
       "      <td>False</td>\n",
       "      <td>Q3-2021</td>\n",
       "      <td>6.97674</td>\n",
       "      <td>6.97674</td>\n",
       "      <td>14.28571</td>\n",
       "      <td>10.63830</td>\n",
       "      <td>10.86957</td>\n",
       "      <td>-4.34783</td>\n",
       "      <td>2.08333</td>\n",
       "      <td>-3.84615</td>\n",
       "      <td>1.96078</td>\n",
       "      <td>15.90909</td>\n",
       "      <td>18.36735</td>\n",
       "      <td>16.00000</td>\n",
       "    </tr>\n",
       "  </tbody>\n",
       "</table>\n",
       "</div>"
      ],
      "text/plain": [
       "period_name_sorted  ticker  name_index         category                                           time_series_name                          time_series_description  is_driver     MRFQ   2018Q4   2019Q1   2019Q2   2019Q3   2019Q4   2020Q1    2020Q2    2020Q3    2020Q4    2021Q1   2021Q2   2021Q3\n",
       "0                   DFS US  7           Growth Analysis  MO_GA_NIIGrowth                                            Net interest income growth, %                    False      Q3-2021 8.58491  9.76190  9.53499  8.05218  5.29974  4.03471  -6.08919  -5.70358  -1.93894  -2.83570  4.97717  6.18102 \n",
       "1                   DFS US  8           Growth Analysis  z_YDE7B00120_MO_OS_discountandinterchangerevenuenetgrowth  Discount and interchange revenue, net growth, %  True       Q3-2021 -2.12014 -9.05512 13.68821 -8.92857 1.44404  -6.49351 -20.73579 -6.66667  -13.87900 11.57407  43.03797 25.63025\n",
       "2                   DFS US  9           Growth Analysis  z_YDE7B00120_MO_OS_protectionproductsrevenuegrowth         Protection products revenue growth, %            True       Q3-2021 -7.40741 -7.54717 -2.00000 -5.88235 -4.00000 -4.08163 -10.20408 -8.33333  -6.25000  -8.51064  -2.27273 -2.27273\n",
       "3                   DFS US  10          Growth Analysis  z_YDE7B00120_MO_OS_loanfeeincomegrowth                     Loan fee income growth, %                        True       Q3-2021 12.50000 8.33333  7.36842  16.50485 13.88889 14.42308 -16.66667 -16.66667 -10.56911 -10.08403 23.52941 21.00000\n",
       "4                   DFS US  11          Growth Analysis  z_YDE7B00120_MO_OS_transactionprocessingrevenuegrowth      Transaction processing revenue growth, %         False      Q3-2021 6.97674  6.97674  14.28571 10.63830 10.86957 -4.34783 2.08333   -3.84615  1.96078   15.90909  18.36735 16.00000"
      ]
     },
     "execution_count": 5,
     "metadata": {},
     "output_type": "execute_result"
    }
   ],
   "source": [
    "model_set.model_frame(ticker=ticker,\n",
    "                      category=categories[0], #filter to one or more category\n",
    "                      period_duration_type = \"fiscal_quarter\", #only fiscal quarters\n",
    "                      is_historical=True, #historical data only\n",
    "                      pivot=True, #pivot the data so dates are on column headers\n",
    "                     n_periods=regression_window).head()"
   ]
  },
  {
   "cell_type": "markdown",
   "metadata": {},
   "source": [
    "Next we set up a dataset which includes:\n",
    "- a full modelframe of quarterly data \n",
    "- a set of earnings data, \n",
    "- rolling 252 day beta vs the S&P 500\n",
    "- 1 and 5 and 10 day alpha (excess beta adjusted performance vs the S&P 500)"
   ]
  },
  {
   "cell_type": "code",
   "execution_count": 6,
   "metadata": {},
   "outputs": [],
   "source": [
    "df_data = model_set.pe_dataset(ticker,yahoo_ticker,index_ticker)"
   ]
  },
  {
   "cell_type": "markdown",
   "metadata": {},
   "source": [
    "In a separate example, we can:\n",
    "    <br>- pull just the earnings and prices dataframe for this ticker \n",
    "    <br>- chart earnings surprise vs stock movement"
   ]
  },
  {
   "cell_type": "code",
   "execution_count": 7,
   "metadata": {},
   "outputs": [],
   "source": [
    "df = cdr.get_earnings_and_prices(yahoo_ticker,index_ticker = index_ticker) "
   ]
  },
  {
   "cell_type": "code",
   "execution_count": 8,
   "metadata": {},
   "outputs": [
    {
     "data": {
      "text/html": [
       "<div>\n",
       "<style scoped>\n",
       "    .dataframe tbody tr th:only-of-type {\n",
       "        vertical-align: middle;\n",
       "    }\n",
       "\n",
       "    .dataframe tbody tr th {\n",
       "        vertical-align: top;\n",
       "    }\n",
       "\n",
       "    .dataframe thead th {\n",
       "        text-align: right;\n",
       "    }\n",
       "</style>\n",
       "<table border=\"1\" class=\"dataframe\">\n",
       "  <thead>\n",
       "    <tr style=\"text-align: right;\">\n",
       "      <th></th>\n",
       "      <th>ticker</th>\n",
       "      <th>earnings_date</th>\n",
       "      <th>companyshortname</th>\n",
       "      <th>price_date</th>\n",
       "      <th>epsestimate</th>\n",
       "      <th>epsactual</th>\n",
       "      <th>epssurprisepct</th>\n",
       "      <th>alpha_1_day</th>\n",
       "      <th>alpha_5_day</th>\n",
       "      <th>alpha_10_day</th>\n",
       "      <th>beta_252</th>\n",
       "      <th>plus_1_return</th>\n",
       "      <th>plus_5_return</th>\n",
       "      <th>plus_10_return</th>\n",
       "      <th>mktclose_plus_1_return</th>\n",
       "      <th>mktclose_plus_5_return</th>\n",
       "      <th>mktclose_plus_10_return</th>\n",
       "    </tr>\n",
       "  </thead>\n",
       "  <tbody>\n",
       "    <tr>\n",
       "      <th>46</th>\n",
       "      <td>DFS</td>\n",
       "      <td>2020-10-21</td>\n",
       "      <td>Discover Financial Services</td>\n",
       "      <td>2020-10-21</td>\n",
       "      <td>1.56000</td>\n",
       "      <td>2.45000</td>\n",
       "      <td>56.65000</td>\n",
       "      <td>0.08212</td>\n",
       "      <td>0.12023</td>\n",
       "      <td>0.11573</td>\n",
       "      <td>1.84559</td>\n",
       "      <td>0.09175</td>\n",
       "      <td>0.03185</td>\n",
       "      <td>0.11997</td>\n",
       "      <td>0.00522</td>\n",
       "      <td>-0.04789</td>\n",
       "      <td>0.00229</td>\n",
       "    </tr>\n",
       "    <tr>\n",
       "      <th>47</th>\n",
       "      <td>DFS</td>\n",
       "      <td>2021-01-20</td>\n",
       "      <td>Discover Financial Services</td>\n",
       "      <td>2021-01-20</td>\n",
       "      <td>2.42000</td>\n",
       "      <td>2.59000</td>\n",
       "      <td>6.89000</td>\n",
       "      <td>-0.05714</td>\n",
       "      <td>-0.12908</td>\n",
       "      <td>-0.11570</td>\n",
       "      <td>1.83716</td>\n",
       "      <td>-0.05656</td>\n",
       "      <td>-0.17729</td>\n",
       "      <td>-0.12604</td>\n",
       "      <td>0.00032</td>\n",
       "      <td>-0.02624</td>\n",
       "      <td>-0.00563</td>\n",
       "    </tr>\n",
       "    <tr>\n",
       "      <th>48</th>\n",
       "      <td>DFS</td>\n",
       "      <td>2021-04-21</td>\n",
       "      <td>Discover Financial Services</td>\n",
       "      <td>2021-04-21</td>\n",
       "      <td>2.82000</td>\n",
       "      <td>5.04000</td>\n",
       "      <td>78.72000</td>\n",
       "      <td>0.02708</td>\n",
       "      <td>0.12930</td>\n",
       "      <td>0.18402</td>\n",
       "      <td>1.72641</td>\n",
       "      <td>0.01118</td>\n",
       "      <td>0.13333</td>\n",
       "      <td>0.18161</td>\n",
       "      <td>-0.00921</td>\n",
       "      <td>0.00234</td>\n",
       "      <td>-0.00140</td>\n",
       "    </tr>\n",
       "    <tr>\n",
       "      <th>49</th>\n",
       "      <td>DFS</td>\n",
       "      <td>2021-07-21</td>\n",
       "      <td>Discover Financial Services</td>\n",
       "      <td>2021-07-21</td>\n",
       "      <td>3.99000</td>\n",
       "      <td>5.55000</td>\n",
       "      <td>39.03000</td>\n",
       "      <td>-0.01524</td>\n",
       "      <td>-0.03004</td>\n",
       "      <td>-0.00833</td>\n",
       "      <td>1.27607</td>\n",
       "      <td>-0.01266</td>\n",
       "      <td>-0.01776</td>\n",
       "      <td>0.00454</td>\n",
       "      <td>0.00202</td>\n",
       "      <td>0.00962</td>\n",
       "      <td>0.01009</td>\n",
       "    </tr>\n",
       "    <tr>\n",
       "      <th>50</th>\n",
       "      <td>DFS</td>\n",
       "      <td>2021-10-20</td>\n",
       "      <td>Discover Financial Services</td>\n",
       "      <td>2021-10-20</td>\n",
       "      <td>3.53000</td>\n",
       "      <td>3.54000</td>\n",
       "      <td>0.28000</td>\n",
       "      <td>-0.06584</td>\n",
       "      <td>-0.13716</td>\n",
       "      <td>-0.17076</td>\n",
       "      <td>1.52174</td>\n",
       "      <td>-0.06128</td>\n",
       "      <td>-0.13196</td>\n",
       "      <td>-0.12903</td>\n",
       "      <td>0.00300</td>\n",
       "      <td>0.00341</td>\n",
       "      <td>0.02742</td>\n",
       "    </tr>\n",
       "  </tbody>\n",
       "</table>\n",
       "</div>"
      ],
      "text/plain": [
       "   ticker earnings_date             companyshortname price_date  epsestimate  epsactual  epssurprisepct  alpha_1_day  alpha_5_day  alpha_10_day  beta_252  plus_1_return  plus_5_return  plus_10_return  mktclose_plus_1_return  mktclose_plus_5_return  mktclose_plus_10_return\n",
       "46  DFS   2020-10-21     Discover Financial Services 2020-10-21 1.56000      2.45000    56.65000        0.08212      0.12023      0.11573       1.84559   0.09175        0.03185        0.11997         0.00522                 -0.04789                0.00229                 \n",
       "47  DFS   2021-01-20     Discover Financial Services 2021-01-20 2.42000      2.59000    6.89000         -0.05714     -0.12908     -0.11570      1.83716   -0.05656       -0.17729       -0.12604        0.00032                 -0.02624                -0.00563                \n",
       "48  DFS   2021-04-21     Discover Financial Services 2021-04-21 2.82000      5.04000    78.72000        0.02708      0.12930      0.18402       1.72641   0.01118        0.13333        0.18161         -0.00921                0.00234                 -0.00140                \n",
       "49  DFS   2021-07-21     Discover Financial Services 2021-07-21 3.99000      5.55000    39.03000        -0.01524     -0.03004     -0.00833      1.27607   -0.01266       -0.01776       0.00454         0.00202                 0.00962                 0.01009                 \n",
       "50  DFS   2021-10-20     Discover Financial Services 2021-10-20 3.53000      3.54000    0.28000         -0.06584     -0.13716     -0.17076      1.52174   -0.06128       -0.13196       -0.12903        0.00300                 0.00341                 0.02742                 "
      ]
     },
     "execution_count": 8,
     "metadata": {},
     "output_type": "execute_result"
    }
   ],
   "source": [
    "df.tail()"
   ]
  },
  {
   "cell_type": "markdown",
   "metadata": {},
   "source": [
    "We can use pandas' describe() function to get the mean eps surprise and subsequent stock movement for this stock."
   ]
  },
  {
   "cell_type": "code",
   "execution_count": 9,
   "metadata": {},
   "outputs": [
    {
     "data": {
      "text/html": [
       "<div>\n",
       "<style scoped>\n",
       "    .dataframe tbody tr th:only-of-type {\n",
       "        vertical-align: middle;\n",
       "    }\n",
       "\n",
       "    .dataframe tbody tr th {\n",
       "        vertical-align: top;\n",
       "    }\n",
       "\n",
       "    .dataframe thead th {\n",
       "        text-align: right;\n",
       "    }\n",
       "</style>\n",
       "<table border=\"1\" class=\"dataframe\">\n",
       "  <thead>\n",
       "    <tr style=\"text-align: right;\">\n",
       "      <th></th>\n",
       "      <th>index</th>\n",
       "      <th>epsestimate</th>\n",
       "      <th>epsactual</th>\n",
       "      <th>epssurprisepct</th>\n",
       "      <th>alpha_1_day</th>\n",
       "      <th>alpha_5_day</th>\n",
       "      <th>alpha_10_day</th>\n",
       "      <th>beta_252</th>\n",
       "      <th>plus_1_return</th>\n",
       "      <th>plus_5_return</th>\n",
       "      <th>plus_10_return</th>\n",
       "      <th>mktclose_plus_1_return</th>\n",
       "      <th>mktclose_plus_5_return</th>\n",
       "      <th>mktclose_plus_10_return</th>\n",
       "    </tr>\n",
       "  </thead>\n",
       "  <tbody>\n",
       "    <tr>\n",
       "      <th>0</th>\n",
       "      <td>count</td>\n",
       "      <td>51.00000</td>\n",
       "      <td>51.00000</td>\n",
       "      <td>51.00000</td>\n",
       "      <td>47.00000</td>\n",
       "      <td>47.00000</td>\n",
       "      <td>47.00000</td>\n",
       "      <td>47.00000</td>\n",
       "      <td>51.00000</td>\n",
       "      <td>51.00000</td>\n",
       "      <td>51.00000</td>\n",
       "      <td>51.00000</td>\n",
       "      <td>51.00000</td>\n",
       "      <td>51.00000</td>\n",
       "    </tr>\n",
       "    <tr>\n",
       "      <th>1</th>\n",
       "      <td>mean</td>\n",
       "      <td>1.28627</td>\n",
       "      <td>1.40137</td>\n",
       "      <td>9.72569</td>\n",
       "      <td>-0.00279</td>\n",
       "      <td>0.00015</td>\n",
       "      <td>-0.00152</td>\n",
       "      <td>1.34870</td>\n",
       "      <td>-0.00537</td>\n",
       "      <td>0.00650</td>\n",
       "      <td>0.00946</td>\n",
       "      <td>-0.00103</td>\n",
       "      <td>0.00287</td>\n",
       "      <td>0.00615</td>\n",
       "    </tr>\n",
       "    <tr>\n",
       "      <th>2</th>\n",
       "      <td>std</td>\n",
       "      <td>0.87052</td>\n",
       "      <td>1.14833</td>\n",
       "      <td>103.43302</td>\n",
       "      <td>0.04299</td>\n",
       "      <td>0.06786</td>\n",
       "      <td>0.06423</td>\n",
       "      <td>0.28448</td>\n",
       "      <td>0.04437</td>\n",
       "      <td>0.07593</td>\n",
       "      <td>0.06394</td>\n",
       "      <td>0.00725</td>\n",
       "      <td>0.02021</td>\n",
       "      <td>0.02342</td>\n",
       "    </tr>\n",
       "    <tr>\n",
       "      <th>3</th>\n",
       "      <td>min</td>\n",
       "      <td>-0.30000</td>\n",
       "      <td>-1.20000</td>\n",
       "      <td>-321.05000</td>\n",
       "      <td>-0.09922</td>\n",
       "      <td>-0.13716</td>\n",
       "      <td>-0.17076</td>\n",
       "      <td>1.01767</td>\n",
       "      <td>-0.12261</td>\n",
       "      <td>-0.17729</td>\n",
       "      <td>-0.12903</td>\n",
       "      <td>-0.02088</td>\n",
       "      <td>-0.04789</td>\n",
       "      <td>-0.05493</td>\n",
       "    </tr>\n",
       "    <tr>\n",
       "      <th>4</th>\n",
       "      <td>25%</td>\n",
       "      <td>0.93000</td>\n",
       "      <td>1.03500</td>\n",
       "      <td>-0.36000</td>\n",
       "      <td>-0.02863</td>\n",
       "      <td>-0.03357</td>\n",
       "      <td>-0.03644</td>\n",
       "      <td>1.17357</td>\n",
       "      <td>-0.02900</td>\n",
       "      <td>-0.02321</td>\n",
       "      <td>-0.02240</td>\n",
       "      <td>-0.00517</td>\n",
       "      <td>-0.00510</td>\n",
       "      <td>-0.00530</td>\n",
       "    </tr>\n",
       "    <tr>\n",
       "      <th>5</th>\n",
       "      <td>50%</td>\n",
       "      <td>1.30000</td>\n",
       "      <td>1.33000</td>\n",
       "      <td>3.77000</td>\n",
       "      <td>-0.00407</td>\n",
       "      <td>-0.00794</td>\n",
       "      <td>-0.00237</td>\n",
       "      <td>1.26950</td>\n",
       "      <td>-0.00406</td>\n",
       "      <td>-0.00179</td>\n",
       "      <td>0.00454</td>\n",
       "      <td>0.00060</td>\n",
       "      <td>0.00206</td>\n",
       "      <td>0.00569</td>\n",
       "    </tr>\n",
       "    <tr>\n",
       "      <th>6</th>\n",
       "      <td>75%</td>\n",
       "      <td>1.55000</td>\n",
       "      <td>1.70500</td>\n",
       "      <td>17.72500</td>\n",
       "      <td>0.02560</td>\n",
       "      <td>0.03264</td>\n",
       "      <td>0.04236</td>\n",
       "      <td>1.41435</td>\n",
       "      <td>0.01766</td>\n",
       "      <td>0.02954</td>\n",
       "      <td>0.04304</td>\n",
       "      <td>0.00374</td>\n",
       "      <td>0.01277</td>\n",
       "      <td>0.02258</td>\n",
       "    </tr>\n",
       "    <tr>\n",
       "      <th>7</th>\n",
       "      <td>max</td>\n",
       "      <td>3.99000</td>\n",
       "      <td>5.55000</td>\n",
       "      <td>558.03000</td>\n",
       "      <td>0.08362</td>\n",
       "      <td>0.21655</td>\n",
       "      <td>0.18402</td>\n",
       "      <td>2.45741</td>\n",
       "      <td>0.09175</td>\n",
       "      <td>0.30612</td>\n",
       "      <td>0.18161</td>\n",
       "      <td>0.01527</td>\n",
       "      <td>0.06227</td>\n",
       "      <td>0.06421</td>\n",
       "    </tr>\n",
       "  </tbody>\n",
       "</table>\n",
       "</div>"
      ],
      "text/plain": [
       "   index  epsestimate  epsactual  epssurprisepct  alpha_1_day  alpha_5_day  alpha_10_day  beta_252  plus_1_return  plus_5_return  plus_10_return  mktclose_plus_1_return  mktclose_plus_5_return  mktclose_plus_10_return\n",
       "0  count 51.00000     51.00000   51.00000        47.00000     47.00000     47.00000      47.00000  51.00000       51.00000       51.00000        51.00000                51.00000                51.00000                \n",
       "1  mean  1.28627      1.40137    9.72569         -0.00279     0.00015      -0.00152      1.34870   -0.00537       0.00650        0.00946         -0.00103                0.00287                 0.00615                 \n",
       "2  std   0.87052      1.14833    103.43302       0.04299      0.06786      0.06423       0.28448   0.04437        0.07593        0.06394         0.00725                 0.02021                 0.02342                 \n",
       "3  min   -0.30000     -1.20000   -321.05000      -0.09922     -0.13716     -0.17076      1.01767   -0.12261       -0.17729       -0.12903        -0.02088                -0.04789                -0.05493                \n",
       "4  25%   0.93000      1.03500    -0.36000        -0.02863     -0.03357     -0.03644      1.17357   -0.02900       -0.02321       -0.02240        -0.00517                -0.00510                -0.00530                \n",
       "5  50%   1.30000      1.33000    3.77000         -0.00407     -0.00794     -0.00237      1.26950   -0.00406       -0.00179       0.00454         0.00060                 0.00206                 0.00569                 \n",
       "6  75%   1.55000      1.70500    17.72500        0.02560      0.03264      0.04236       1.41435   0.01766        0.02954        0.04304         0.00374                 0.01277                 0.02258                 \n",
       "7  max   3.99000      5.55000    558.03000       0.08362      0.21655      0.18402       2.45741   0.09175        0.30612        0.18161         0.01527                 0.06227                 0.06421                 "
      ]
     },
     "execution_count": 9,
     "metadata": {},
     "output_type": "execute_result"
    }
   ],
   "source": [
    "df.describe().reset_index() #row 2 is the mean of the full series of data"
   ]
  },
  {
   "cell_type": "markdown",
   "metadata": {},
   "source": [
    "Let's filter down to just a few categories, rather than all of them."
   ]
  },
  {
   "cell_type": "markdown",
   "metadata": {},
   "source": [
    "And let's regress EVERY time series name against n day alpha, over n regression periods (both specified above), and rank by r-squared."
   ]
  },
  {
   "cell_type": "code",
   "execution_count": 10,
   "metadata": {},
   "outputs": [
    {
     "data": {
      "text/plain": [
       "['Operating Stats - Transaction Volume (FS)',\n",
       " 'Key Metrics - Payments Revenue and Take-Rate (FS)',\n",
       " 'Segmented Results - Payment Services (FS)',\n",
       " 'Segmented Results - Revenue Breakdown (FS)',\n",
       " 'Margin Analysis',\n",
       " 'Segmented Results - Direct Banking (FS)',\n",
       " 'Key Metrics - Employee Count (FS)',\n",
       " 'Operating Stats - Net Interest Income (FS/PR)',\n",
       " 'Growth Analysis',\n",
       " 'Operating Stats - Allowance for Credit Losses (FS)']"
      ]
     },
     "execution_count": 10,
     "metadata": {},
     "output_type": "execute_result"
    }
   ],
   "source": [
    "\n",
    "like_list = ['Stats','Analysis','Metrics','Segmented Results']\n",
    "category_filter = []\n",
    "for category in categories:\n",
    "    for like in like_list:\n",
    "        if like in category:\n",
    "            category_filter.append(category)\n",
    "            \n",
    "category_filter = list(set(category_filter))\n",
    "category_filter\n"
   ]
  },
  {
   "cell_type": "code",
   "execution_count": 22,
   "metadata": {},
   "outputs": [
    {
     "data": {
      "text/plain": [
       "<AxesSubplot:title={'center':'DFS US Key Drivers Price Sensitivity'}, ylabel='time_series_description'>"
      ]
     },
     "execution_count": 22,
     "metadata": {},
     "output_type": "execute_result"
    },
    {
     "data": {
      "image/png": "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\n",
      "text/plain": [
       "<Figure size 432x288 with 1 Axes>"
      ]
     },
     "metadata": {
      "needs_background": "light"
     },
     "output_type": "display_data"
    }
   ],
   "source": [
    "%matplotlib inline\n",
    "df_kpi = cdr.regress_dataframe_time_series_groups(df_data = df_data,\n",
    "                                         y_name=alpha_days,\n",
    "                                         return_grouped=True,\n",
    "                                         category = category_filter,\n",
    "                                         n_periods=regression_window)\n",
    "df_kpi['groupby']=df_kpi['time_series_description'].str.lower()\n",
    "df_kpi = df_kpi.groupby('groupby').first().reset_index()\n",
    "df_kpi = df_kpi[['ticker','time_series_description','time_series_name','category','rsquared']].sort_values('rsquared',ascending = True)\n",
    "df_kpi.tail(10).plot(x='time_series_description',y='rsquared',kind='barh',title=ticker+\" Key Drivers Price Sensitivity\")"
   ]
  },
  {
   "cell_type": "markdown",
   "metadata": {},
   "source": [
    "We can see the price / time series history of the top KPI to check whether it makes sense"
   ]
  },
  {
   "cell_type": "code",
   "execution_count": 12,
   "metadata": {},
   "outputs": [
    {
     "data": {
      "image/png": "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\n",
      "text/plain": [
       "<Figure size 864x648 with 2 Axes>"
      ]
     },
     "metadata": {
      "needs_background": "light"
     },
     "output_type": "display_data"
    }
   ],
   "source": [
    "top_kpi = df_kpi.iloc[9]['time_series_name']\n",
    "time_series_name=top_kpi\n",
    "df_prices = cdr.get_price_data(yahoo_ticker, reset=True, rolling_betas=False, index_ticker=index_ticker)\n",
    "cdr.plot_prices_against_time_series(df_data,df_prices,time_series_name,\"value\") #raw value"
   ]
  }
 ],
 "metadata": {
  "finalized": {
   "timestamp": 1630681095352,
   "trusted": true
  },
  "kernelspec": {
   "display_name": "Python 3.9",
   "language": "python",
   "name": "python3"
  },
  "language_info": {
   "codemirror_mode": {
    "name": "ipython",
    "version": 3
   },
   "file_extension": ".py",
   "mimetype": "text/x-python",
   "name": "python",
   "nbconvert_exporter": "python",
   "pygments_lexer": "ipython3",
   "version": "3.9.7"
  }
 },
 "nbformat": 4,
 "nbformat_minor": 4
}
