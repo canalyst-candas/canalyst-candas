{
 "cells": [
  {
   "cell_type": "code",
   "execution_count": 1,
   "id": "d8599b66-e0e8-4416-a5e1-599313dcd34f",
   "metadata": {},
   "outputs": [
    {
     "name": "stdout",
     "output_type": "stream",
     "text": [
      "A configuration file has been created for you in \n",
      "/home/canalyst-candas/canalyst/keys.json. For Excel file downloads and scenario \n",
      "mapping, you'll need to add an API key to the 'canalyst_api_key' \n",
      "value. Visit https://app.canalyst.com/settings/api-tokens to create \n",
      "and retrieve your API key. You will also need to retrieve your \n",
      "S3 Access ID and Secret Key and fill in 'canalyst_s3_id' and \n",
      "'canalyst_s3_key' with those values, respectively. If using a \n",
      "Jupyter Notebook, stop and restart the notebook for the changes to \n",
      "take effect. If using a Python/iPython session, quit the current \n",
      "session and start a new one.\n"
     ]
    },
    {
     "data": {
      "text/html": [
       "<style>.container { width:100% !important; }</style>"
      ],
      "text/plain": [
       "<IPython.core.display.HTML object>"
      ]
     },
     "metadata": {},
     "output_type": "display_data"
    }
   ],
   "source": [
    "import sys\n",
    "import os\n",
    "import dtale\n",
    "import dtale.app as dtale_app\n",
    "dtale_app.JUPYTER_SERVER_PROXY = True\n",
    "import pandas as pd\n",
    "pd.set_option('display.float_format', lambda x: '%.5f' % x)\n",
    "import canalyst_candas.candas as cd\n",
    "import canalyst_candas.candas_datareader as cdr\n",
    "from canalyst_candas.configuration.config import Config\n",
    "config_info = {\n",
    "  \"canalyst_api_key\": \"\",\n",
    "  \"s3_access_key_id\": \"\",\n",
    "  \"s3_secret_key\": \"\",\n",
    "  \"fred_key\": \"\",\n",
    "  \"default_dir\": \"\",\n",
    "  \"mds_host\": \"\",\n",
    "  \"wp_host\": \"\"\n",
    "}\n",
    "config = Config(config=config_info)\n",
    "from IPython.core.display import display, HTML\n",
    "display(HTML(\"<style>.container { width:100% !important; }</style>\"))\n",
    "pd.set_option('display.max_columns', None)\n",
    "pd.set_option('display.expand_frame_repr', False)\n",
    "pd.set_option('max_colwidth', -1)"
   ]
  },
  {
   "cell_type": "markdown",
   "id": "bea7a305-fdfc-46a8-bbe6-8b8fabe0a5c1",
   "metadata": {},
   "source": [
    "## JPM Read Through for credit and debit card volumes to V and MA"
   ]
  },
  {
   "cell_type": "markdown",
   "id": "0b432390-5485-4660-bae1-05f4e260f75b",
   "metadata": {},
   "source": [
    "### First we search for common time series among JPM V and MA with 'credit card sales volume debit payments US'"
   ]
  },
  {
   "cell_type": "code",
   "execution_count": 2,
   "id": "2ab17f9a-b959-4eb1-aa8d-9101dfe58b60",
   "metadata": {},
   "outputs": [
    {
     "name": "stdout",
     "output_type": "stream",
     "text": [
      "Building search index...\n",
      "No.of.unique tickers:  3\n",
      "No.of.unique time series:  399\n"
     ]
    }
   ],
   "source": [
    "canalyst_search = cd.Search(config)\n",
    "df = canalyst_search.search_time_series(ticker=['JPM US','V US','MA US'],\n",
    "                                        unit_type='currency',\n",
    "                     time_series_description='credit card sales volume debit payments volume US')[['ticker','time_series_description','time_series_name','search_matches']]\n",
    "df= df[df['search_matches']>3]"
   ]
  },
  {
   "cell_type": "code",
   "execution_count": 3,
   "id": "01f0ebbb-c814-4637-803c-c1ab7fad0df5",
   "metadata": {},
   "outputs": [
    {
     "data": {
      "text/html": [
       "<div>\n",
       "<style scoped>\n",
       "    .dataframe tbody tr th:only-of-type {\n",
       "        vertical-align: middle;\n",
       "    }\n",
       "\n",
       "    .dataframe tbody tr th {\n",
       "        vertical-align: top;\n",
       "    }\n",
       "\n",
       "    .dataframe thead th {\n",
       "        text-align: right;\n",
       "    }\n",
       "</style>\n",
       "<table border=\"1\" class=\"dataframe\">\n",
       "  <thead>\n",
       "    <tr style=\"text-align: right;\">\n",
       "      <th></th>\n",
       "      <th>ticker</th>\n",
       "      <th>time_series_description</th>\n",
       "      <th>time_series_name</th>\n",
       "      <th>search_matches</th>\n",
       "    </tr>\n",
       "  </thead>\n",
       "  <tbody>\n",
       "    <tr>\n",
       "      <th>50289</th>\n",
       "      <td>JPM US</td>\n",
       "      <td>Debit and credit card sales volumes, bn</td>\n",
       "      <td>z_3FRM7X0148_MO_OS_Debitandcreditcardsalesvolumes</td>\n",
       "      <td>5</td>\n",
       "    </tr>\n",
       "    <tr>\n",
       "      <th>3386</th>\n",
       "      <td>V US</td>\n",
       "      <td>US consumer debit payments volume, bn</td>\n",
       "      <td>z_2CRCA60110_MO_OS_usconsumerdebitpaymentsvolume</td>\n",
       "      <td>4</td>\n",
       "    </tr>\n",
       "    <tr>\n",
       "      <th>3385</th>\n",
       "      <td>V US</td>\n",
       "      <td>US consumer credit payments volume, bn</td>\n",
       "      <td>z_2CRCA60110_MO_OS_usconsumercreditpaymentsvolume</td>\n",
       "      <td>4</td>\n",
       "    </tr>\n",
       "    <tr>\n",
       "      <th>6372</th>\n",
       "      <td>MA US</td>\n",
       "      <td>Total MasterCard debit program cards, mm cards</td>\n",
       "      <td>z_GSYQ3D0168_MO_OS_TotalMasterCarddebitprogramcards_1</td>\n",
       "      <td>4</td>\n",
       "    </tr>\n",
       "    <tr>\n",
       "      <th>6369</th>\n",
       "      <td>MA US</td>\n",
       "      <td>Total MasterCard credit and charge programs cards, mm cards</td>\n",
       "      <td>z_GSYQ3D0168_MO_OS_TotalMasterCardcreditandchargeprogramscards_3</td>\n",
       "      <td>4</td>\n",
       "    </tr>\n",
       "    <tr>\n",
       "      <th>6378</th>\n",
       "      <td>MA US</td>\n",
       "      <td>Commercial credit and debit cards, mm cards</td>\n",
       "      <td>z_GSYQ3D0168_MO_OS_Commercialcreditanddebitcards</td>\n",
       "      <td>4</td>\n",
       "    </tr>\n",
       "    <tr>\n",
       "      <th>50288</th>\n",
       "      <td>JPM US</td>\n",
       "      <td>Debit card sales volume, bn</td>\n",
       "      <td>z_3FRM7X0148_MO_OS_Debitcardsalesvolume</td>\n",
       "      <td>4</td>\n",
       "    </tr>\n",
       "    <tr>\n",
       "      <th>50287</th>\n",
       "      <td>JPM US</td>\n",
       "      <td>Credit card sales volume, bn</td>\n",
       "      <td>z_3FRM7X0148_MO_OS_Creditcardsalesvolume</td>\n",
       "      <td>4</td>\n",
       "    </tr>\n",
       "  </tbody>\n",
       "</table>\n",
       "</div>"
      ],
      "text/plain": [
       "       ticker                                      time_series_description                                                  time_series_name  search_matches\n",
       "50289  JPM US  Debit and credit card sales volumes, bn                      z_3FRM7X0148_MO_OS_Debitandcreditcardsalesvolumes                 5             \n",
       "3386   V US    US consumer debit payments volume, bn                        z_2CRCA60110_MO_OS_usconsumerdebitpaymentsvolume                  4             \n",
       "3385   V US    US consumer credit payments volume, bn                       z_2CRCA60110_MO_OS_usconsumercreditpaymentsvolume                 4             \n",
       "6372   MA US   Total MasterCard debit program cards, mm cards               z_GSYQ3D0168_MO_OS_TotalMasterCarddebitprogramcards_1             4             \n",
       "6369   MA US   Total MasterCard credit and charge programs cards, mm cards  z_GSYQ3D0168_MO_OS_TotalMasterCardcreditandchargeprogramscards_3  4             \n",
       "6378   MA US   Commercial credit and debit cards, mm cards                  z_GSYQ3D0168_MO_OS_Commercialcreditanddebitcards                  4             \n",
       "50288  JPM US  Debit card sales volume, bn                                  z_3FRM7X0148_MO_OS_Debitcardsalesvolume                           4             \n",
       "50287  JPM US  Credit card sales volume, bn                                 z_3FRM7X0148_MO_OS_Creditcardsalesvolume                          4             "
      ]
     },
     "execution_count": 3,
     "metadata": {},
     "output_type": "execute_result"
    }
   ],
   "source": [
    "df"
   ]
  },
  {
   "cell_type": "markdown",
   "id": "5c519e76-be82-4e76-90f7-a293675450a9",
   "metadata": {},
   "source": [
    "### Now that we have our series, let's pull the data from Canalyst"
   ]
  },
  {
   "cell_type": "code",
   "execution_count": 4,
   "id": "c0d3e0df-7e2a-44db-b053-f325b7427a3b",
   "metadata": {},
   "outputs": [],
   "source": [
    "ticker = \"JPM US\""
   ]
  },
  {
   "cell_type": "code",
   "execution_count": 5,
   "id": "0fd4d707-c03c-4154-acdf-411edc81e630",
   "metadata": {},
   "outputs": [],
   "source": [
    "model_set = cd.ModelSet(ticker_list=[ticker], \n",
    "                            config=config)"
   ]
  },
  {
   "cell_type": "code",
   "execution_count": 6,
   "id": "fb7d781e-3925-415f-ac4c-4782c42302ec",
   "metadata": {},
   "outputs": [],
   "source": [
    "df_jpm_credit_volume = model_set.model_frame(ticker=ticker,\n",
    "                      period_duration_type='fiscal_quarter',\n",
    "                      is_historical=True,\n",
    "                      time_series_name='z_3FRM7X0148_MO_OS_Creditcardsalesvolume')[['ticker','time_series_name','period_end_date','value']]\n",
    "\n",
    "df_jpm_debit_volume = model_set.model_frame(ticker=ticker,\n",
    "                      period_duration_type='fiscal_quarter',\n",
    "                      is_historical=True,\n",
    "                      time_series_name='z_3FRM7X0148_MO_OS_Debitcardsalesvolume')[['ticker','time_series_name','period_end_date','value']]\n",
    " \n"
   ]
  },
  {
   "cell_type": "markdown",
   "id": "914f0610-99fa-4c2f-921d-a5d3d9ff9350",
   "metadata": {},
   "source": [
    "### Next we get Visa data from Canalyst"
   ]
  },
  {
   "cell_type": "code",
   "execution_count": 7,
   "id": "0cebff9d-1660-4a4d-81c6-1231d57ca384",
   "metadata": {
    "tags": []
   },
   "outputs": [],
   "source": [
    "ticker = \"V US\"\n",
    "model_set = cd.ModelSet(ticker_list=[ticker], \n",
    "                            config=config)\n",
    "df_visa_credit_volume = model_set.model_frame(ticker=ticker,\n",
    "                      period_duration_type='fiscal_quarter',\n",
    "                      time_series_name='z_2CRCA60110_MO_OS_usconsumercreditpaymentsvolume')[['ticker','time_series_name','period_end_date','value']]\n",
    "\n",
    "df_visa_debit_volume = model_set.model_frame(ticker=ticker,\n",
    "                      period_duration_type='fiscal_quarter',\n",
    "                      time_series_name='z_2CRCA60110_MO_OS_usconsumerdebitpaymentsvolume')[['ticker','time_series_name','period_end_date','value']]\n"
   ]
  },
  {
   "cell_type": "markdown",
   "id": "478e4d70-95bd-4ce7-904b-701559f07527",
   "metadata": {},
   "source": [
    "### We need to do a deeper search on Mastercard time series, add 'programs' and 'unitedstates' to our search"
   ]
  },
  {
   "cell_type": "code",
   "execution_count": 8,
   "id": "bef174d4-1a38-4922-8d75-acef6d542afd",
   "metadata": {},
   "outputs": [
    {
     "name": "stdout",
     "output_type": "stream",
     "text": [
      "No.of.unique tickers:  1\n",
      "No.of.unique time series:  134\n"
     ]
    },
    {
     "data": {
      "text/html": [
       "<div>\n",
       "<style scoped>\n",
       "    .dataframe tbody tr th:only-of-type {\n",
       "        vertical-align: middle;\n",
       "    }\n",
       "\n",
       "    .dataframe tbody tr th {\n",
       "        vertical-align: top;\n",
       "    }\n",
       "\n",
       "    .dataframe thead th {\n",
       "        text-align: right;\n",
       "    }\n",
       "</style>\n",
       "<table border=\"1\" class=\"dataframe\">\n",
       "  <thead>\n",
       "    <tr style=\"text-align: right;\">\n",
       "      <th></th>\n",
       "      <th>ticker</th>\n",
       "      <th>time_series_description</th>\n",
       "      <th>time_series_name</th>\n",
       "      <th>search_matches</th>\n",
       "    </tr>\n",
       "  </thead>\n",
       "  <tbody>\n",
       "    <tr>\n",
       "      <th>6261</th>\n",
       "      <td>MA US</td>\n",
       "      <td>Worldwide less United States debit programs purchase volume, bn</td>\n",
       "      <td>z_GSYQ3D0168_MO_OS_WorldwidelessUnitedStatesdebitprogramspurchasevolume_3</td>\n",
       "      <td>3</td>\n",
       "    </tr>\n",
       "    <tr>\n",
       "      <th>6317</th>\n",
       "      <td>MA US</td>\n",
       "      <td>Worldwide less United States debit programs cash volume, bn</td>\n",
       "      <td>z_GSYQ3D0168_MO_OS_WorldwidelessUnitedStatesdebitprogramscashvolume_3</td>\n",
       "      <td>3</td>\n",
       "    </tr>\n",
       "    <tr>\n",
       "      <th>6258</th>\n",
       "      <td>MA US</td>\n",
       "      <td>Worldwide less United States credit and charge programs purchase volume, bn</td>\n",
       "      <td>z_GSYQ3D0168_MO_OS_WorldwidelessUnitedStatescreditandchargeprogramspurchasevolume_3</td>\n",
       "      <td>3</td>\n",
       "    </tr>\n",
       "    <tr>\n",
       "      <th>6314</th>\n",
       "      <td>MA US</td>\n",
       "      <td>Worldwide less United States credit and charge programs cash volume, bn</td>\n",
       "      <td>z_GSYQ3D0168_MO_OS_WorldwidelessUnitedStatescreditandchargeprogramscashvolume_3</td>\n",
       "      <td>3</td>\n",
       "    </tr>\n",
       "    <tr>\n",
       "      <th>6262</th>\n",
       "      <td>MA US</td>\n",
       "      <td>United States debit programs purchase volume, bn</td>\n",
       "      <td>z_GSYQ3D0168_MO_OS_UnitedStatesdebitprogramspurchasevolume_3</td>\n",
       "      <td>3</td>\n",
       "    </tr>\n",
       "    <tr>\n",
       "      <th>6318</th>\n",
       "      <td>MA US</td>\n",
       "      <td>United States debit programs cash volume, bn</td>\n",
       "      <td>z_GSYQ3D0168_MO_OS_UnitedStatesdebitprogramscashvolume_3</td>\n",
       "      <td>3</td>\n",
       "    </tr>\n",
       "    <tr>\n",
       "      <th>6259</th>\n",
       "      <td>MA US</td>\n",
       "      <td>United States credit and charge programs purchase volume, bn</td>\n",
       "      <td>z_GSYQ3D0168_MO_OS_UnitedStatescreditandchargeprogramspurchasevolume_3</td>\n",
       "      <td>3</td>\n",
       "    </tr>\n",
       "    <tr>\n",
       "      <th>6315</th>\n",
       "      <td>MA US</td>\n",
       "      <td>United States credit and charge programs cash volume, bn</td>\n",
       "      <td>z_GSYQ3D0168_MO_OS_UnitedStatescreditandchargeprogramscashvolume_3</td>\n",
       "      <td>3</td>\n",
       "    </tr>\n",
       "    <tr>\n",
       "      <th>6260</th>\n",
       "      <td>MA US</td>\n",
       "      <td>Total MasterCard credit and charge programs purchase volume, bn</td>\n",
       "      <td>z_GSYQ3D0168_MO_OS_TotalMasterCardcreditandchargeprogramspurchasevolume_1</td>\n",
       "      <td>3</td>\n",
       "    </tr>\n",
       "    <tr>\n",
       "      <th>6316</th>\n",
       "      <td>MA US</td>\n",
       "      <td>Total MasterCard credit and charge programs cash volume, bn</td>\n",
       "      <td>z_GSYQ3D0168_MO_OS_TotalMasterCardcreditandchargeprogramscashvolume_2</td>\n",
       "      <td>3</td>\n",
       "    </tr>\n",
       "  </tbody>\n",
       "</table>\n",
       "</div>"
      ],
      "text/plain": [
       "     ticker                                                      time_series_description                                                                     time_series_name  search_matches\n",
       "6261  MA US  Worldwide less United States debit programs purchase volume, bn              z_GSYQ3D0168_MO_OS_WorldwidelessUnitedStatesdebitprogramspurchasevolume_3            3             \n",
       "6317  MA US  Worldwide less United States debit programs cash volume, bn                  z_GSYQ3D0168_MO_OS_WorldwidelessUnitedStatesdebitprogramscashvolume_3                3             \n",
       "6258  MA US  Worldwide less United States credit and charge programs purchase volume, bn  z_GSYQ3D0168_MO_OS_WorldwidelessUnitedStatescreditandchargeprogramspurchasevolume_3  3             \n",
       "6314  MA US  Worldwide less United States credit and charge programs cash volume, bn      z_GSYQ3D0168_MO_OS_WorldwidelessUnitedStatescreditandchargeprogramscashvolume_3      3             \n",
       "6262  MA US  United States debit programs purchase volume, bn                             z_GSYQ3D0168_MO_OS_UnitedStatesdebitprogramspurchasevolume_3                         3             \n",
       "6318  MA US  United States debit programs cash volume, bn                                 z_GSYQ3D0168_MO_OS_UnitedStatesdebitprogramscashvolume_3                             3             \n",
       "6259  MA US  United States credit and charge programs purchase volume, bn                 z_GSYQ3D0168_MO_OS_UnitedStatescreditandchargeprogramspurchasevolume_3               3             \n",
       "6315  MA US  United States credit and charge programs cash volume, bn                     z_GSYQ3D0168_MO_OS_UnitedStatescreditandchargeprogramscashvolume_3                   3             \n",
       "6260  MA US  Total MasterCard credit and charge programs purchase volume, bn              z_GSYQ3D0168_MO_OS_TotalMasterCardcreditandchargeprogramspurchasevolume_1            3             \n",
       "6316  MA US  Total MasterCard credit and charge programs cash volume, bn                  z_GSYQ3D0168_MO_OS_TotalMasterCardcreditandchargeprogramscashvolume_2                3             "
      ]
     },
     "execution_count": 8,
     "metadata": {},
     "output_type": "execute_result"
    }
   ],
   "source": [
    "#add 'programs' and 'unitedstates' to our search\n",
    "df = canalyst_search.search_time_series(ticker=['MA US'],\n",
    "                                        unit_type='currency',\n",
    "                     time_series_description='charge debit programs volume UnitedStates')[['ticker','time_series_description','time_series_name','search_matches']]\n",
    "df= df[df['search_matches']>2]\n",
    "df"
   ]
  },
  {
   "cell_type": "markdown",
   "id": "6387a7ed-3c39-4070-8283-4297684cf057",
   "metadata": {},
   "source": [
    "### Given the better time series matches, same data pull for MA"
   ]
  },
  {
   "cell_type": "code",
   "execution_count": 9,
   "id": "924b507a-43a8-4f28-b197-78f2c0bb9349",
   "metadata": {},
   "outputs": [],
   "source": [
    "ticker = \"MA US\"\n",
    "model_set = cd.ModelSet(ticker_list=[ticker], \n",
    "                            config=config)\n",
    "df_mastercard_credit_volume = model_set.model_frame(ticker=ticker,\n",
    "                      period_duration_type='fiscal_quarter',\n",
    "                      time_series_name='z_GSYQ3D0168_MO_OS_UnitedStatescreditandchargeprogramspurchasevolume_3')[['ticker','time_series_name','period_end_date','value']]\n",
    "df_mastercard_debit_volume = model_set.model_frame(ticker=ticker,\n",
    "                      period_duration_type='fiscal_quarter',\n",
    "                      time_series_name='z_GSYQ3D0168_MO_OS_UnitedStatesdebitprogramspurchasevolume_3')[['ticker','time_series_name','period_end_date','value']]\n"
   ]
  },
  {
   "cell_type": "markdown",
   "id": "b4e9e25a-27e9-4612-bf64-251900cc56fd",
   "metadata": {},
   "source": [
    "### Now we use the regress_dataframe function from Candas DataReader\n",
    "#### R squared for JPM vs V and MA, first by credit then by debit in turn"
   ]
  },
  {
   "cell_type": "code",
   "execution_count": 10,
   "id": "240578eb-ea64-411c-980c-7c6dd5d904cc",
   "metadata": {},
   "outputs": [
    {
     "data": {
      "text/html": [
       "<table class=\"simpletable\">\n",
       "<caption>OLS Regression Results</caption>\n",
       "<tr>\n",
       "  <th>Dep. Variable:</th>         <td>value_y</td>     <th>  R-squared:         </th> <td>   0.650</td>\n",
       "</tr>\n",
       "<tr>\n",
       "  <th>Model:</th>                   <td>OLS</td>       <th>  Adj. R-squared:    </th> <td>   0.634</td>\n",
       "</tr>\n",
       "<tr>\n",
       "  <th>Method:</th>             <td>Least Squares</td>  <th>  F-statistic:       </th> <td>   40.79</td>\n",
       "</tr>\n",
       "<tr>\n",
       "  <th>Date:</th>             <td>Wed, 12 Jan 2022</td> <th>  Prob (F-statistic):</th> <td>2.00e-06</td>\n",
       "</tr>\n",
       "<tr>\n",
       "  <th>Time:</th>                 <td>18:25:10</td>     <th>  Log-Likelihood:    </th> <td> -613.69</td>\n",
       "</tr>\n",
       "<tr>\n",
       "  <th>No. Observations:</th>      <td>    24</td>      <th>  AIC:               </th> <td>   1231.</td>\n",
       "</tr>\n",
       "<tr>\n",
       "  <th>Df Residuals:</th>          <td>    22</td>      <th>  BIC:               </th> <td>   1234.</td>\n",
       "</tr>\n",
       "<tr>\n",
       "  <th>Df Model:</th>              <td>     1</td>      <th>                     </th>     <td> </td>   \n",
       "</tr>\n",
       "<tr>\n",
       "  <th>Covariance Type:</th>      <td>nonrobust</td>    <th>                     </th>     <td> </td>   \n",
       "</tr>\n",
       "</table>"
      ],
      "text/plain": [
       "<class 'statsmodels.iolib.table.SimpleTable'>"
      ]
     },
     "execution_count": 10,
     "metadata": {},
     "output_type": "execute_result"
    }
   ],
   "source": [
    "df = pd.merge(df_jpm_credit_volume,df_visa_credit_volume,how='inner',left_on='period_end_date',right_on='period_end_date')[['period_end_date','value_x','value_y']]\n",
    "cdr.regress_dataframe(df,'value_y','value_x',y_filter=\"\").tables[0]\n",
    "\n",
    "#Visa fit is not as good because:\n",
    "#for Visa, \"Service revenues in a given quarter are assessed based on nominal payments volume in the prior quarter.\"\n",
    "#footnote 1 p 37 Visa annual report"
   ]
  },
  {
   "cell_type": "code",
   "execution_count": 11,
   "id": "81e87211-134c-4805-b056-0dfb0c84a054",
   "metadata": {},
   "outputs": [
    {
     "data": {
      "text/html": [
       "<table class=\"simpletable\">\n",
       "<caption>OLS Regression Results</caption>\n",
       "<tr>\n",
       "  <th>Dep. Variable:</th>         <td>value_y</td>     <th>  R-squared:         </th> <td>   0.968</td>\n",
       "</tr>\n",
       "<tr>\n",
       "  <th>Model:</th>                   <td>OLS</td>       <th>  Adj. R-squared:    </th> <td>   0.967</td>\n",
       "</tr>\n",
       "<tr>\n",
       "  <th>Method:</th>             <td>Least Squares</td>  <th>  F-statistic:       </th> <td>   671.1</td>\n",
       "</tr>\n",
       "<tr>\n",
       "  <th>Date:</th>             <td>Wed, 12 Jan 2022</td> <th>  Prob (F-statistic):</th> <td>5.62e-18</td>\n",
       "</tr>\n",
       "<tr>\n",
       "  <th>Time:</th>                 <td>18:25:10</td>     <th>  Log-Likelihood:    </th> <td> -572.16</td>\n",
       "</tr>\n",
       "<tr>\n",
       "  <th>No. Observations:</th>      <td>    24</td>      <th>  AIC:               </th> <td>   1148.</td>\n",
       "</tr>\n",
       "<tr>\n",
       "  <th>Df Residuals:</th>          <td>    22</td>      <th>  BIC:               </th> <td>   1151.</td>\n",
       "</tr>\n",
       "<tr>\n",
       "  <th>Df Model:</th>              <td>     1</td>      <th>                     </th>     <td> </td>   \n",
       "</tr>\n",
       "<tr>\n",
       "  <th>Covariance Type:</th>      <td>nonrobust</td>    <th>                     </th>     <td> </td>   \n",
       "</tr>\n",
       "</table>"
      ],
      "text/plain": [
       "<class 'statsmodels.iolib.table.SimpleTable'>"
      ]
     },
     "execution_count": 11,
     "metadata": {},
     "output_type": "execute_result"
    }
   ],
   "source": [
    "df = pd.merge(df_jpm_credit_volume,df_mastercard_credit_volume,how='inner',left_on='period_end_date',right_on='period_end_date')[['period_end_date','value_x','value_y']]\n",
    "cdr.regress_dataframe(df,'value_y','value_x',y_filter=\"\").tables[0]"
   ]
  },
  {
   "cell_type": "code",
   "execution_count": 12,
   "id": "c1cf7403-7bd7-44ce-849c-1ed027267db9",
   "metadata": {},
   "outputs": [
    {
     "data": {
      "text/html": [
       "<table class=\"simpletable\">\n",
       "<caption>OLS Regression Results</caption>\n",
       "<tr>\n",
       "  <th>Dep. Variable:</th>         <td>value_y</td>     <th>  R-squared:         </th> <td>   0.951</td>\n",
       "</tr>\n",
       "<tr>\n",
       "  <th>Model:</th>                   <td>OLS</td>       <th>  Adj. R-squared:    </th> <td>   0.949</td>\n",
       "</tr>\n",
       "<tr>\n",
       "  <th>Method:</th>             <td>Least Squares</td>  <th>  F-statistic:       </th> <td>   408.7</td>\n",
       "</tr>\n",
       "<tr>\n",
       "  <th>Date:</th>             <td>Wed, 12 Jan 2022</td> <th>  Prob (F-statistic):</th> <td>3.03e-15</td>\n",
       "</tr>\n",
       "<tr>\n",
       "  <th>Time:</th>                 <td>18:25:10</td>     <th>  Log-Likelihood:    </th> <td> -578.78</td>\n",
       "</tr>\n",
       "<tr>\n",
       "  <th>No. Observations:</th>      <td>    23</td>      <th>  AIC:               </th> <td>   1162.</td>\n",
       "</tr>\n",
       "<tr>\n",
       "  <th>Df Residuals:</th>          <td>    21</td>      <th>  BIC:               </th> <td>   1164.</td>\n",
       "</tr>\n",
       "<tr>\n",
       "  <th>Df Model:</th>              <td>     1</td>      <th>                     </th>     <td> </td>   \n",
       "</tr>\n",
       "<tr>\n",
       "  <th>Covariance Type:</th>      <td>nonrobust</td>    <th>                     </th>     <td> </td>   \n",
       "</tr>\n",
       "</table>"
      ],
      "text/plain": [
       "<class 'statsmodels.iolib.table.SimpleTable'>"
      ]
     },
     "execution_count": 12,
     "metadata": {},
     "output_type": "execute_result"
    }
   ],
   "source": [
    "df = pd.merge(df_jpm_debit_volume,df_visa_debit_volume,how='inner',left_on='period_end_date',right_on='period_end_date')[['period_end_date','value_x','value_y']]\n",
    "cdr.regress_dataframe(df,'value_y','value_x',y_filter=\"\").tables[0]"
   ]
  },
  {
   "cell_type": "code",
   "execution_count": 13,
   "id": "6e60e3da-def8-4d25-aee1-f5b184d66b7a",
   "metadata": {},
   "outputs": [
    {
     "data": {
      "text/html": [
       "<table class=\"simpletable\">\n",
       "<caption>OLS Regression Results</caption>\n",
       "<tr>\n",
       "  <th>Dep. Variable:</th>         <td>value_y</td>     <th>  R-squared:         </th> <td>   0.967</td>\n",
       "</tr>\n",
       "<tr>\n",
       "  <th>Model:</th>                   <td>OLS</td>       <th>  Adj. R-squared:    </th> <td>   0.965</td>\n",
       "</tr>\n",
       "<tr>\n",
       "  <th>Method:</th>             <td>Least Squares</td>  <th>  F-statistic:       </th> <td>   613.7</td>\n",
       "</tr>\n",
       "<tr>\n",
       "  <th>Date:</th>             <td>Wed, 12 Jan 2022</td> <th>  Prob (F-statistic):</th> <td>4.99e-17</td>\n",
       "</tr>\n",
       "<tr>\n",
       "  <th>Time:</th>                 <td>18:25:10</td>     <th>  Log-Likelihood:    </th> <td> -554.37</td>\n",
       "</tr>\n",
       "<tr>\n",
       "  <th>No. Observations:</th>      <td>    23</td>      <th>  AIC:               </th> <td>   1113.</td>\n",
       "</tr>\n",
       "<tr>\n",
       "  <th>Df Residuals:</th>          <td>    21</td>      <th>  BIC:               </th> <td>   1115.</td>\n",
       "</tr>\n",
       "<tr>\n",
       "  <th>Df Model:</th>              <td>     1</td>      <th>                     </th>     <td> </td>   \n",
       "</tr>\n",
       "<tr>\n",
       "  <th>Covariance Type:</th>      <td>nonrobust</td>    <th>                     </th>     <td> </td>   \n",
       "</tr>\n",
       "</table>"
      ],
      "text/plain": [
       "<class 'statsmodels.iolib.table.SimpleTable'>"
      ]
     },
     "execution_count": 13,
     "metadata": {},
     "output_type": "execute_result"
    }
   ],
   "source": [
    "df = pd.merge(df_jpm_debit_volume,df_mastercard_debit_volume,how='inner',left_on='period_end_date',right_on='period_end_date')[['period_end_date','value_x','value_y']]\n",
    "cdr.regress_dataframe(df,'value_y','value_x',y_filter=\"\").tables[0]"
   ]
  },
  {
   "cell_type": "code",
   "execution_count": null,
   "id": "37b34a33-0214-4cac-8e2e-8bc93a726a33",
   "metadata": {},
   "outputs": [],
   "source": []
  }
 ],
 "metadata": {
  "kernelspec": {
   "display_name": "Python 3.9",
   "language": "python",
   "name": "python3"
  },
  "language_info": {
   "codemirror_mode": {
    "name": "ipython",
    "version": 3
   },
   "file_extension": ".py",
   "mimetype": "text/x-python",
   "name": "python",
   "nbconvert_exporter": "python",
   "pygments_lexer": "ipython3",
   "version": "3.9.7"
  }
 },
 "nbformat": 4,
 "nbformat_minor": 5
}
