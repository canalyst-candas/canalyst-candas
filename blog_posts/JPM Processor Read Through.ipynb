{
 "cells": [
  {
   "cell_type": "code",
   "execution_count": 2,
   "id": "d8599b66-e0e8-4416-a5e1-599313dcd34f",
   "metadata": {},
   "outputs": [
    {
     "data": {
      "text/html": [
       "<style>.container { width:100% !important; }</style>"
      ],
      "text/plain": [
       "<IPython.core.display.HTML object>"
      ]
     },
     "metadata": {},
     "output_type": "display_data"
    }
   ],
   "source": [
    "import sys\n",
    "import os\n",
    "import dtale\n",
    "import dtale.app as dtale_app\n",
    "dtale_app.JUPYTER_SERVER_PROXY = True\n",
    "import pandas as pd\n",
    "pd.set_option('display.float_format', lambda x: '%.5f' % x)\n",
    "import canalyst_candas.candas as cd\n",
    "import canalyst_candas.candas_datareader as cdr\n",
    "from canalyst_candas.configuration.config import Config\n",
    "config_info = {\n",
    "  \"canalyst_api_key\": \"\",\n",
    "  \"s3_access_key_id\": \"\",\n",
    "  \"s3_secret_key\": \"\",\n",
    "  \"fred_key\": \"\",\n",
    "  \"default_dir\": \"\",\n",
    "  \"mds_host\": \"\",\n",
    "  \"wp_host\": \"\"\n",
    "}\n",
    "config = Config(config=config_info)\n",
    "from IPython.core.display import display, HTML\n",
    "display(HTML(\"<style>.container { width:100% !important; }</style>\"))\n",
    "pd.set_option('display.max_columns', None)\n",
    "pd.set_option('display.expand_frame_repr', False)\n",
    "pd.set_option('max_colwidth', -1)"
   ]
  },
  {
   "cell_type": "markdown",
   "id": "bea7a305-fdfc-46a8-bbe6-8b8fabe0a5c1",
   "metadata": {},
   "source": [
    "## JPM Read Through for credit and debit card volumes to V and MA"
   ]
  },
  {
   "cell_type": "markdown",
   "id": "0b432390-5485-4660-bae1-05f4e260f75b",
   "metadata": {},
   "source": [
    "### First we search for common time series among JPM V and MA with 'credit card sales volume debit payments US'"
   ]
  },
  {
   "cell_type": "code",
   "execution_count": null,
   "id": "2ab17f9a-b959-4eb1-aa8d-9101dfe58b60",
   "metadata": {},
   "outputs": [
    {
     "name": "stdout",
     "output_type": "stream",
     "text": [
      "Building search index...\n"
     ]
    }
   ],
   "source": [
    "canalyst_search = cd.Search(config)\n",
    "df = canalyst_search.search_time_series(ticker=['JPM US','V US','MA US'],\n",
    "                                        unit_type='currency',\n",
    "                     time_series_description='credit card sales volume debit payments volume US')[['ticker','time_series_description','time_series_name','search_matches']]\n",
    "df= df[df['search_matches']>3]"
   ]
  },
  {
   "cell_type": "code",
   "execution_count": null,
   "id": "01f0ebbb-c814-4637-803c-c1ab7fad0df5",
   "metadata": {},
   "outputs": [],
   "source": [
    "df"
   ]
  },
  {
   "cell_type": "markdown",
   "id": "5c519e76-be82-4e76-90f7-a293675450a9",
   "metadata": {},
   "source": [
    "### Now that we have our series, let's pull the data from Canalyst"
   ]
  },
  {
   "cell_type": "code",
   "execution_count": null,
   "id": "c0d3e0df-7e2a-44db-b053-f325b7427a3b",
   "metadata": {},
   "outputs": [],
   "source": [
    "ticker = \"JPM US\""
   ]
  },
  {
   "cell_type": "code",
   "execution_count": null,
   "id": "0fd4d707-c03c-4154-acdf-411edc81e630",
   "metadata": {},
   "outputs": [],
   "source": [
    "model_set = cd.ModelSet(ticker_list=[ticker], \n",
    "                            config=config)"
   ]
  },
  {
   "cell_type": "code",
   "execution_count": null,
   "id": "fb7d781e-3925-415f-ac4c-4782c42302ec",
   "metadata": {},
   "outputs": [],
   "source": [
    "df_jpm_credit_volume = model_set.model_frame(ticker=ticker,\n",
    "                      period_duration_type='fiscal_quarter',\n",
    "                      is_historical=True,\n",
    "                      time_series_name='z_3FRM7X0148_MO_OS_Creditcardsalesvolume')[['ticker','time_series_name','period_end_date','value']]\n",
    "\n",
    "df_jpm_debit_volume = model_set.model_frame(ticker=ticker,\n",
    "                      period_duration_type='fiscal_quarter',\n",
    "                      is_historical=True,\n",
    "                      time_series_name='z_3FRM7X0148_MO_OS_Debitcardsalesvolume')[['ticker','time_series_name','period_end_date','value']]\n",
    " \n"
   ]
  },
  {
   "cell_type": "markdown",
   "id": "914f0610-99fa-4c2f-921d-a5d3d9ff9350",
   "metadata": {},
   "source": [
    "### Next we get Visa data from Canalyst"
   ]
  },
  {
   "cell_type": "code",
   "execution_count": null,
   "id": "0cebff9d-1660-4a4d-81c6-1231d57ca384",
   "metadata": {
    "tags": []
   },
   "outputs": [],
   "source": [
    "ticker = \"V US\"\n",
    "model_set = cd.ModelSet(ticker_list=[ticker], \n",
    "                            config=config)\n",
    "df_visa_credit_volume = model_set.model_frame(ticker=ticker,\n",
    "                      period_duration_type='fiscal_quarter',\n",
    "                      time_series_name='z_2CRCA60110_MO_OS_usconsumercreditpaymentsvolume')[['ticker','time_series_name','period_end_date','value']]\n",
    "\n",
    "df_visa_debit_volume = model_set.model_frame(ticker=ticker,\n",
    "                      period_duration_type='fiscal_quarter',\n",
    "                      time_series_name='z_2CRCA60110_MO_OS_usconsumerdebitpaymentsvolume')[['ticker','time_series_name','period_end_date','value']]\n"
   ]
  },
  {
   "cell_type": "markdown",
   "id": "478e4d70-95bd-4ce7-904b-701559f07527",
   "metadata": {},
   "source": [
    "### We need to do a deeper search on Mastercard time series, add 'programs' and 'unitedstates' to our search"
   ]
  },
  {
   "cell_type": "code",
   "execution_count": null,
   "id": "bef174d4-1a38-4922-8d75-acef6d542afd",
   "metadata": {},
   "outputs": [],
   "source": [
    "#add 'programs' and 'unitedstates' to our search\n",
    "df = canalyst_search.search_time_series(ticker=['MA US'],\n",
    "                                        unit_type='currency',\n",
    "                     time_series_description='charge debit programs volume UnitedStates')[['ticker','time_series_description','time_series_name','search_matches']]\n",
    "df= df[df['search_matches']>2]\n",
    "df"
   ]
  },
  {
   "cell_type": "markdown",
   "id": "6387a7ed-3c39-4070-8283-4297684cf057",
   "metadata": {},
   "source": [
    "### Given the better time series matches, same data pull for MA"
   ]
  },
  {
   "cell_type": "code",
   "execution_count": null,
   "id": "924b507a-43a8-4f28-b197-78f2c0bb9349",
   "metadata": {},
   "outputs": [],
   "source": [
    "ticker = \"MA US\"\n",
    "model_set = cd.ModelSet(ticker_list=[ticker], \n",
    "                            config=config)\n",
    "df_mastercard_credit_volume = model_set.model_frame(ticker=ticker,\n",
    "                      period_duration_type='fiscal_quarter',\n",
    "                      time_series_name='z_GSYQ3D0168_MO_OS_UnitedStatescreditandchargeprogramspurchasevolume_3')[['ticker','time_series_name','period_end_date','value']]\n",
    "df_mastercard_debit_volume = model_set.model_frame(ticker=ticker,\n",
    "                      period_duration_type='fiscal_quarter',\n",
    "                      time_series_name='z_GSYQ3D0168_MO_OS_UnitedStatesdebitprogramspurchasevolume_3')[['ticker','time_series_name','period_end_date','value']]\n"
   ]
  },
  {
   "cell_type": "markdown",
   "id": "b4e9e25a-27e9-4612-bf64-251900cc56fd",
   "metadata": {},
   "source": [
    "### Now we use the regress_dataframe function from Candas DataReader\n",
    "#### R squared for JPM vs V and MA, first by credit then by debit in turn"
   ]
  },
  {
   "cell_type": "code",
   "execution_count": null,
   "id": "240578eb-ea64-411c-980c-7c6dd5d904cc",
   "metadata": {},
   "outputs": [],
   "source": [
    "df = pd.merge(df_jpm_credit_volume,df_visa_credit_volume,how='inner',left_on='period_end_date',right_on='period_end_date')[['period_end_date','value_x','value_y']]\n",
    "cdr.regress_dataframe(df,'value_y','value_x',y_filter=\"\").tables[0]\n",
    "\n",
    "#Visa fit is not as good because:\n",
    "#for Visa, \"Service revenues in a given quarter are assessed based on nominal payments volume in the prior quarter.\"\n",
    "#footnote 1 p 37 Visa annual report"
   ]
  },
  {
   "cell_type": "code",
   "execution_count": null,
   "id": "81e87211-134c-4805-b056-0dfb0c84a054",
   "metadata": {},
   "outputs": [],
   "source": [
    "df = pd.merge(df_jpm_credit_volume,df_mastercard_credit_volume,how='inner',left_on='period_end_date',right_on='period_end_date')[['period_end_date','value_x','value_y']]\n",
    "cdr.regress_dataframe(df,'value_y','value_x',y_filter=\"\").tables[0]"
   ]
  },
  {
   "cell_type": "code",
   "execution_count": null,
   "id": "c1cf7403-7bd7-44ce-849c-1ed027267db9",
   "metadata": {},
   "outputs": [],
   "source": [
    "df = pd.merge(df_jpm_debit_volume,df_visa_debit_volume,how='inner',left_on='period_end_date',right_on='period_end_date')[['period_end_date','value_x','value_y']]\n",
    "cdr.regress_dataframe(df,'value_y','value_x',y_filter=\"\").tables[0]"
   ]
  },
  {
   "cell_type": "code",
   "execution_count": null,
   "id": "6e60e3da-def8-4d25-aee1-f5b184d66b7a",
   "metadata": {},
   "outputs": [],
   "source": [
    "df = pd.merge(df_jpm_debit_volume,df_mastercard_debit_volume,how='inner',left_on='period_end_date',right_on='period_end_date')[['period_end_date','value_x','value_y']]\n",
    "cdr.regress_dataframe(df,'value_y','value_x',y_filter=\"\").tables[0]"
   ]
  },
  {
   "cell_type": "code",
   "execution_count": null,
   "id": "37b34a33-0214-4cac-8e2e-8bc93a726a33",
   "metadata": {},
   "outputs": [],
   "source": []
  }
 ],
 "metadata": {
  "kernelspec": {
   "display_name": "Python 3.9",
   "language": "python",
   "name": "python3"
  },
  "language_info": {
   "codemirror_mode": {
    "name": "ipython",
    "version": 3
   },
   "file_extension": ".py",
   "mimetype": "text/x-python",
   "name": "python",
   "nbconvert_exporter": "python",
   "pygments_lexer": "ipython3",
   "version": "3.9.7"
  }
 },
 "nbformat": 4,
 "nbformat_minor": 5
}
