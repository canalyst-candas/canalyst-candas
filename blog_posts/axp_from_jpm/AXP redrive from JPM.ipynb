{
 "cells": [
  {
   "cell_type": "markdown",
   "id": "e093a28c-9c67-442e-abc3-e2ddb584268c",
   "metadata": {},
   "source": [
    "### Imports and Helper Functions"
   ]
  },
  {
   "cell_type": "code",
   "execution_count": 1,
   "id": "6f0a4435-cd17-4d33-b476-2cbe6bd1eb0b",
   "metadata": {},
   "outputs": [
    {
     "name": "stdout",
     "output_type": "stream",
     "text": [
      "A configuration file has been created for you in \n",
      "/home/canalyst-candas/canalyst/keys.json. For Excel file downloads and scenario \n",
      "mapping, you'll need to add an API key to the 'canalyst_api_key' \n",
      "value. Visit https://app.canalyst.com/settings/api-tokens to create \n",
      "and retrieve your API key. You will also need to retrieve your \n",
      "S3 Access ID and Secret Key and fill in 'canalyst_s3_id' and \n",
      "'canalyst_s3_key' with those values, respectively. If using a \n",
      "Jupyter Notebook, stop and restart the notebook for the changes to \n",
      "take effect. If using a Python/iPython session, quit the current \n",
      "session and start a new one.\n"
     ]
    },
    {
     "data": {
      "text/html": [
       "<style>.container { width:100% !important; }</style>"
      ],
      "text/plain": [
       "<IPython.core.display.HTML object>"
      ]
     },
     "metadata": {},
     "output_type": "display_data"
    }
   ],
   "source": [
    "import sys\n",
    "import numpy as np\n",
    "import functools\n",
    "from difflib import SequenceMatcher\n",
    "import nltk\n",
    "#nltk.download('averaged_perceptron_tagger')\n",
    "\n",
    "import os\n",
    "import dtale\n",
    "import dtale.app as dtale_app\n",
    "dtale_app.JUPYTER_SERVER_PROXY = True\n",
    "import pandas as pd\n",
    "pd.set_option('display.float_format', lambda x: '%.5f' % x)\n",
    "import canalyst_candas.candas as cd\n",
    "import canalyst_candas.candas_datareader as cdr\n",
    "from canalyst_candas.configuration.config import Config\n",
    "config_info = {\n",
    "  \"canalyst_api_key\": \"\",\n",
    "  \"s3_access_key_id\": \"\",\n",
    "  \"s3_secret_key\": \"\",\n",
    "  \"fred_key\": \"\",\n",
    "  \"default_dir\": \"\",\n",
    "  \"mds_host\": \"\",\n",
    "  \"wp_host\": \"\"\n",
    "}\n",
    "config = Config(config=config_info)\n",
    "from IPython.core.display import display, HTML\n",
    "display(HTML(\"<style>.container { width:100% !important; }</style>\"))\n",
    "pd.set_option('display.max_columns', None)\n",
    "pd.set_option('display.expand_frame_repr', False)\n",
    "pd.set_option('max_colwidth', -1)\n",
    "\n",
    "#helper functions which will move into the base candas library next release\n",
    "def remove(target, strings):    \n",
    "    ans = nltk.pos_tag([target])\n",
    "    val = ans[0][1]\n",
    "    if(val == 'NN' or val == 'NNS' or val == 'NNPS' or val == 'NNP'):    \n",
    "        for s in strings:\n",
    "            if target==s:\n",
    "                target=\"\"\n",
    "    else:\n",
    "        target =\"\"\n",
    "    return target\n",
    "\n",
    "def score_lists(list1,list2,ignore_list):\n",
    "    list1 = [s.replace(\",\", \"\") for s in list1]\n",
    "    list2 = [s.replace(\",\", \"\") for s in list2]\n",
    "    \n",
    "    score=0\n",
    "    x = len(list2)\n",
    "    num_matches = 0\n",
    "    for ii,s in enumerate(list1):\n",
    "        \n",
    "        if s in ignore_list:\n",
    "            continue\n",
    "            \n",
    "        if s in list2:\n",
    "            ans = nltk.pos_tag([s])\n",
    "            val = ans[0][1]\n",
    "            if(val == 'NN' or val == 'NNS' or val == 'NNPS' or val == 'NNP'):        \n",
    "                num_matches += 1\n",
    "                i = list2.index(s)+1\n",
    "                z = list1.index(s)+1\n",
    "                x = z/i/(ii+1)\n",
    "                score=score+x\n",
    "    if num_matches:\n",
    "        score = score * num_matches/len(list2)\n",
    "    return score\n",
    "\n",
    "def kpi_match(df,time_series_description,unit_type,n_return):\n",
    "    ignore_list = [\"\",\"significant\",\"growth\",\"effective\",\"other\",\"items\",\"one-time\",\"net\",\"income\",\"y/y\",\"change\",\"consensus\",\"share\",\"price\",\"estimated\",\"dividend\",\"buybacks\",\"adjustments\",\"tax\",\"issuance\",'%', ',', 'mm', ' ','-','&','and','#',' of','bn']\n",
    "    \n",
    "    split_description = list(set(time_series_description.lower().split(\" \")))\n",
    "    list_out = []\n",
    "    list_out.append([\"time_series_description\",\"time_series_name\",\"word_score\",\"diff_score\"])\n",
    "    \n",
    "    for i,row in df.iterrows():\n",
    "        row_description = str(row['time_series_description'])\n",
    "        row_name = str(row['time_series_name'])\n",
    "        row_unit_type = str(row['unit_type'])\n",
    "        split_row = list(set(row_description.lower().split(\" \")))\n",
    "        \n",
    "        if unit_type != \"\" and row_unit_type != unit_type:\n",
    "            continue\n",
    "        word_score = score_lists(split_description,split_row,ignore_list)\n",
    "        diff_score = SequenceMatcher(None,time_series_description,row_description).ratio()\n",
    "        if word_score > 0:\n",
    "            list_out.append([row_description,row_name,word_score,diff_score])\n",
    "        \n",
    "    df = pd.DataFrame(list_out)\n",
    "    df.columns = df.iloc[0] \n",
    "    df = df[1:]\n",
    "    df['diff_rank'] = df['diff_score'].rank(pct=True)\n",
    "    df['word_score_rank'] = df['word_score'].rank(pct=True)\n",
    "    df['rank'] = df['word_score_rank']+df['diff_rank']\n",
    "    df['rank'] = df['rank'].rank(pct=True)\n",
    "    df = df.sort_values(['rank'],ascending=False).head(n_return)\n",
    "    return df\n",
    "    \n"
   ]
  },
  {
   "cell_type": "markdown",
   "id": "f41fec6c-0602-40d1-8971-9138ff7f7cb4",
   "metadata": {},
   "source": [
    "## Drive a Target company with JPM 4q results\n",
    "### First, instantiate a target company ModelSet"
   ]
  },
  {
   "cell_type": "code",
   "execution_count": 2,
   "id": "f564d9d7-28fc-4500-9f09-8de9bbdc5c7e",
   "metadata": {},
   "outputs": [],
   "source": [
    "ticker = \"AXP US\"\n",
    "yahoo_ticker = \"AXP\" #need this for prices\n",
    "index_ticker = \"^GSPC\" #this is our benchmark index (^GSPC for S&P 500, EFA for msci eafa etc)\n",
    "alpha_days = \"alpha_1_day\" #or alpha_5_day or alpha_10_day\n",
    "regression_window = 12\n",
    "target_model_set = cd.ModelSet(ticker_list=[ticker], config=config) "
   ]
  },
  {
   "cell_type": "markdown",
   "id": "1fd5ffb7-0a2c-48ca-8194-abe588b1c0fa",
   "metadata": {},
   "source": [
    "### Use Candas ModelMap() to view the Revenue Build for the target\n",
    "#### Lower left of the model, red triangle, shows WorldWide Network Volume "
   ]
  },
  {
   "cell_type": "code",
   "execution_count": 3,
   "id": "6f02bfbd-f0b2-4eb1-9a0f-5ab58cbf68b6",
   "metadata": {},
   "outputs": [
    {
     "name": "stdout",
     "output_type": "stream",
     "text": [
      "https://mds.canalyst.com/api/equity-model-series/FYXPQQ0114/equity-models/Q3-2021.21/time-series/MO_RIS_REV/forecast-data-points/Q4-2021/drivers/?format=dot\n"
     ]
    },
    {
     "data": {
      "text/html": [
       "\n",
       "        <iframe\n",
       "            width=\"1000px\"\n",
       "            height=\"1000px\"\n",
       "            src=\"AXP_MO_RIS_REV_model_map.html\"\n",
       "            frameborder=\"0\"\n",
       "            allowfullscreen\n",
       "            \n",
       "        ></iframe>\n",
       "        "
      ],
      "text/plain": [
       "<IPython.lib.display.IFrame at 0x7f7114543c70>"
      ]
     },
     "execution_count": 3,
     "metadata": {},
     "output_type": "execute_result"
    }
   ],
   "source": [
    "#model_set = cd.ModelSet(ticker_list=[ticker], config=config) #create a modelset of our ticker\n",
    "time_series_name=\"MO_RIS_REV\"\n",
    "model_map = target_model_set.create_model_map(ticker=ticker,\n",
    "                            time_series_name=time_series_name,\n",
    "                            tree = True,\n",
    "                            notebook = True,\n",
    "                            col_for_labels = \"time_series_description\") \n",
    "model_map.show()"
   ]
  },
  {
   "cell_type": "markdown",
   "id": "2ce88887-c1cb-4eaa-b55f-ab12e778d775",
   "metadata": {},
   "source": [
    "### Next, instantiate the JPM ModelSet\n",
    "#### Use the MRQ function to check that it is updated for Q4 2021"
   ]
  },
  {
   "cell_type": "code",
   "execution_count": 4,
   "id": "582530e9-569a-4f5e-8c8b-ae661ab856ad",
   "metadata": {},
   "outputs": [
    {
     "data": {
      "text/html": [
       "<div>\n",
       "<style scoped>\n",
       "    .dataframe tbody tr th:only-of-type {\n",
       "        vertical-align: middle;\n",
       "    }\n",
       "\n",
       "    .dataframe tbody tr th {\n",
       "        vertical-align: top;\n",
       "    }\n",
       "\n",
       "    .dataframe thead th {\n",
       "        text-align: right;\n",
       "    }\n",
       "</style>\n",
       "<table border=\"1\" class=\"dataframe\">\n",
       "  <thead>\n",
       "    <tr style=\"text-align: right;\">\n",
       "      <th></th>\n",
       "      <th>period_name</th>\n",
       "      <th>period_end_date</th>\n",
       "    </tr>\n",
       "  </thead>\n",
       "  <tbody>\n",
       "    <tr>\n",
       "      <th>0</th>\n",
       "      <td>Q4-2021</td>\n",
       "      <td>2021-12-31</td>\n",
       "    </tr>\n",
       "  </tbody>\n",
       "</table>\n",
       "</div>"
      ],
      "text/plain": [
       "  period_name period_end_date\n",
       "0  Q4-2021     2021-12-31    "
      ]
     },
     "execution_count": 4,
     "metadata": {},
     "output_type": "execute_result"
    }
   ],
   "source": [
    "ticker = \"JPM US\"\n",
    "jpm_model_set = cd.ModelSet(ticker_list=[ticker], config=config) \n",
    "jpm_model_set.models[ticker].mrq()"
   ]
  },
  {
   "cell_type": "markdown",
   "id": "83140b8e-9b0a-410c-b413-594b832e11ef",
   "metadata": {},
   "source": [
    "### Create searchable KPI sets for each company"
   ]
  },
  {
   "cell_type": "code",
   "execution_count": 5,
   "id": "040bdc4f-259d-4d6b-8eb0-9740da7eacbf",
   "metadata": {},
   "outputs": [],
   "source": [
    "df_jpm_kpi = jpm_model_set.model_frame(mrq=True)[['time_series_name','time_series_description','unit_type']]\n",
    "df_target_kpi = target_model_set.model_frame(mrq=True)[['time_series_name','time_series_description','unit_type']]"
   ]
  },
  {
   "cell_type": "markdown",
   "id": "81ef4eec-7fb6-46b1-a220-f922d17e1d86",
   "metadata": {},
   "source": [
    "### Use the kpi_match() function to find \"Volume\" in the target company KPI list\n",
    "#### We find \"WorldWide Network Volume Growth %\" as the top match"
   ]
  },
  {
   "cell_type": "code",
   "execution_count": 6,
   "id": "eeca9c9c-ffb8-4dba-adf9-9957ab3f577a",
   "metadata": {},
   "outputs": [
    {
     "data": {
      "text/html": [
       "<div>\n",
       "<style scoped>\n",
       "    .dataframe tbody tr th:only-of-type {\n",
       "        vertical-align: middle;\n",
       "    }\n",
       "\n",
       "    .dataframe tbody tr th {\n",
       "        vertical-align: top;\n",
       "    }\n",
       "\n",
       "    .dataframe thead th {\n",
       "        text-align: right;\n",
       "    }\n",
       "</style>\n",
       "<table border=\"1\" class=\"dataframe\">\n",
       "  <thead>\n",
       "    <tr style=\"text-align: right;\">\n",
       "      <th></th>\n",
       "      <th>time_series_description</th>\n",
       "      <th>time_series_name</th>\n",
       "      <th>word_score</th>\n",
       "      <th>diff_score</th>\n",
       "      <th>diff_rank</th>\n",
       "      <th>word_score_rank</th>\n",
       "      <th>rank</th>\n",
       "    </tr>\n",
       "  </thead>\n",
       "  <tbody>\n",
       "    <tr>\n",
       "      <th>1</th>\n",
       "      <td>Worldwide Network volume Growth, %</td>\n",
       "      <td>MO_GA_TPV</td>\n",
       "      <td>0.06667</td>\n",
       "      <td>0.30000</td>\n",
       "      <td>1.00000</td>\n",
       "      <td>1.00000</td>\n",
       "      <td>1.00000</td>\n",
       "    </tr>\n",
       "    <tr>\n",
       "      <th>2</th>\n",
       "      <td>Worldwide Card Member Receivables - GCP Net loss ratio as a % of charge volume, %</td>\n",
       "      <td>z_FYXPQQ0114_MO_OS_WorldwideCardMemberReceivablesGCP90dayspastbillingasaoftotal</td>\n",
       "      <td>0.00741</td>\n",
       "      <td>0.13793</td>\n",
       "      <td>0.50000</td>\n",
       "      <td>0.50000</td>\n",
       "      <td>0.50000</td>\n",
       "    </tr>\n",
       "  </tbody>\n",
       "</table>\n",
       "</div>"
      ],
      "text/plain": [
       "0                                                            time_series_description                                                                 time_series_name word_score diff_score  diff_rank  word_score_rank    rank\n",
       "1  Worldwide Network volume Growth, %                                                 MO_GA_TPV                                                                       0.06667    0.30000    1.00000    1.00000          1.00000\n",
       "2  Worldwide Card Member Receivables - GCP Net loss ratio as a % of charge volume, %  z_FYXPQQ0114_MO_OS_WorldwideCardMemberReceivablesGCP90dayspastbillingasaoftotal 0.00741    0.13793    0.50000    0.50000          0.50000"
      ]
     },
     "execution_count": 6,
     "metadata": {},
     "output_type": "execute_result"
    }
   ],
   "source": [
    "kpi_match(df_target_kpi,\"volume\",\"\",10)"
   ]
  },
  {
   "cell_type": "markdown",
   "id": "1d7c0bd4-c6bf-4258-9278-12da63301498",
   "metadata": {},
   "source": [
    "### Now we create a regression dataframe\n",
    "#### Use the Credit Card Sales Volume numbers from JPM (converted to annual) \n",
    "#### And the WorldWide Network volume Growth time series we found above."
   ]
  },
  {
   "cell_type": "code",
   "execution_count": 7,
   "id": "a9454aca-0998-46d1-b5c2-5ba1d9fad85d",
   "metadata": {},
   "outputs": [],
   "source": [
    "df_jpm_ts = jpm_model_set.model_frame(\n",
    "                      period_duration_type='fiscal_quarter',\n",
    "                      is_historical=True,\n",
    "                      time_series_name='z_3FRM7X0148_MO_OS_Creditcardsalesvolume')[['ticker','time_series_name','period_end_date','value']].head(-1)\n",
    "df_jpm_ts['value']=df_jpm_ts['value'].pct_change(4)*100"
   ]
  },
  {
   "cell_type": "code",
   "execution_count": 8,
   "id": "725fbc64-db3f-4b5c-acfb-a00f458ebbc9",
   "metadata": {},
   "outputs": [],
   "source": [
    "#z_2CRCA60110_MO_OS_usconsumercreditpaymentsvolume\n",
    "#z_2CRCA60110_MO_OS_YYChangeinVisaprocessedtransactionspercard\n",
    "df_target_ts = target_model_set.model_frame(\n",
    "                      period_duration_type='fiscal_quarter',\n",
    "                      is_historical=True,\n",
    "                      time_series_name='MO_GA_TPV')[['ticker','time_series_name','period_end_date','value']]"
   ]
  },
  {
   "cell_type": "code",
   "execution_count": 9,
   "id": "201837ee-760c-42fb-aaf1-ed84cbf26b3d",
   "metadata": {},
   "outputs": [
    {
     "data": {
      "text/html": [
       "<div>\n",
       "<style scoped>\n",
       "    .dataframe tbody tr th:only-of-type {\n",
       "        vertical-align: middle;\n",
       "    }\n",
       "\n",
       "    .dataframe tbody tr th {\n",
       "        vertical-align: top;\n",
       "    }\n",
       "\n",
       "    .dataframe thead th {\n",
       "        text-align: right;\n",
       "    }\n",
       "</style>\n",
       "<table border=\"1\" class=\"dataframe\">\n",
       "  <thead>\n",
       "    <tr style=\"text-align: right;\">\n",
       "      <th></th>\n",
       "      <th>period_end_date</th>\n",
       "      <th>value_x</th>\n",
       "      <th>value_y</th>\n",
       "    </tr>\n",
       "  </thead>\n",
       "  <tbody>\n",
       "    <tr>\n",
       "      <th>23</th>\n",
       "      <td>2019-12-31</td>\n",
       "      <td>10.19968</td>\n",
       "      <td>5.24272</td>\n",
       "    </tr>\n",
       "    <tr>\n",
       "      <th>24</th>\n",
       "      <td>2020-03-31</td>\n",
       "      <td>3.82609</td>\n",
       "      <td>-5.54616</td>\n",
       "    </tr>\n",
       "    <tr>\n",
       "      <th>25</th>\n",
       "      <td>2020-06-30</td>\n",
       "      <td>-22.85714</td>\n",
       "      <td>-34.19955</td>\n",
       "    </tr>\n",
       "    <tr>\n",
       "      <th>26</th>\n",
       "      <td>2020-09-30</td>\n",
       "      <td>-8.00620</td>\n",
       "      <td>-19.30565</td>\n",
       "    </tr>\n",
       "    <tr>\n",
       "      <th>27</th>\n",
       "      <td>2020-12-31</td>\n",
       "      <td>-3.52595</td>\n",
       "      <td>-14.66790</td>\n",
       "    </tr>\n",
       "    <tr>\n",
       "      <th>28</th>\n",
       "      <td>2021-03-31</td>\n",
       "      <td>2.56840</td>\n",
       "      <td>-3.58038</td>\n",
       "    </tr>\n",
       "    <tr>\n",
       "      <th>29</th>\n",
       "      <td>2021-06-30</td>\n",
       "      <td>50.63973</td>\n",
       "      <td>54.11994</td>\n",
       "    </tr>\n",
       "    <tr>\n",
       "      <th>30</th>\n",
       "      <td>2021-09-30</td>\n",
       "      <td>30.26390</td>\n",
       "      <td>32.97145</td>\n",
       "    </tr>\n",
       "  </tbody>\n",
       "</table>\n",
       "</div>"
      ],
      "text/plain": [
       "   period_end_date   value_x   value_y\n",
       "23  2019-12-31     10.19968  5.24272  \n",
       "24  2020-03-31     3.82609   -5.54616 \n",
       "25  2020-06-30     -22.85714 -34.19955\n",
       "26  2020-09-30     -8.00620  -19.30565\n",
       "27  2020-12-31     -3.52595  -14.66790\n",
       "28  2021-03-31     2.56840   -3.58038 \n",
       "29  2021-06-30     50.63973  54.11994 \n",
       "30  2021-09-30     30.26390  32.97145 "
      ]
     },
     "execution_count": 9,
     "metadata": {},
     "output_type": "execute_result"
    }
   ],
   "source": [
    "df = pd.merge(df_jpm_ts,df_target_ts,how='inner',left_on='period_end_date',right_on='period_end_date')[['period_end_date','value_x','value_y']].dropna()#.tail(8)\n",
    "df.tail(8)"
   ]
  },
  {
   "cell_type": "markdown",
   "id": "91b5d5d0-9e4c-4752-a044-c9ebc9d94a0d",
   "metadata": {},
   "source": [
    "### Now we can run a regression against our two time series"
   ]
  },
  {
   "cell_type": "code",
   "execution_count": 10,
   "id": "69dd910f-6436-4c8c-bc13-4c251e54d65b",
   "metadata": {},
   "outputs": [
    {
     "data": {
      "text/html": [
       "<table class=\"simpletable\">\n",
       "<caption>OLS Regression Results</caption>\n",
       "<tr>\n",
       "  <th>Dep. Variable:</th>         <td>value_x</td>     <th>  R-squared:         </th> <td>   0.914</td>\n",
       "</tr>\n",
       "<tr>\n",
       "  <th>Model:</th>                   <td>OLS</td>       <th>  Adj. R-squared:    </th> <td>   0.911</td>\n",
       "</tr>\n",
       "<tr>\n",
       "  <th>Method:</th>             <td>Least Squares</td>  <th>  F-statistic:       </th> <td>   267.0</td>\n",
       "</tr>\n",
       "<tr>\n",
       "  <th>Date:</th>             <td>Mon, 17 Jan 2022</td> <th>  Prob (F-statistic):</th> <td>7.48e-15</td>\n",
       "</tr>\n",
       "<tr>\n",
       "  <th>Time:</th>                 <td>13:49:10</td>     <th>  Log-Likelihood:    </th> <td> -72.235</td>\n",
       "</tr>\n",
       "<tr>\n",
       "  <th>No. Observations:</th>      <td>    27</td>      <th>  AIC:               </th> <td>   148.5</td>\n",
       "</tr>\n",
       "<tr>\n",
       "  <th>Df Residuals:</th>          <td>    25</td>      <th>  BIC:               </th> <td>   151.1</td>\n",
       "</tr>\n",
       "<tr>\n",
       "  <th>Df Model:</th>              <td>     1</td>      <th>                     </th>     <td> </td>   \n",
       "</tr>\n",
       "<tr>\n",
       "  <th>Covariance Type:</th>      <td>nonrobust</td>    <th>                     </th>     <td> </td>   \n",
       "</tr>\n",
       "</table>"
      ],
      "text/plain": [
       "<class 'statsmodels.iolib.table.SimpleTable'>"
      ]
     },
     "execution_count": 10,
     "metadata": {},
     "output_type": "execute_result"
    }
   ],
   "source": [
    "import statsmodels.formula.api as smf\n",
    "mod = smf.ols(formula='value_x ~ value_y', data=df)\n",
    "res = mod.fit()\n",
    "res.summary().tables[0]"
   ]
  },
  {
   "cell_type": "markdown",
   "id": "cae31fff-6dee-4443-b836-ce8492cef373",
   "metadata": {},
   "source": [
    "### The plotted fit looks pretty good, R-squared is .91"
   ]
  },
  {
   "cell_type": "code",
   "execution_count": 11,
   "id": "20b7ca0a-b376-4ea9-9aa7-27bf53969c52",
   "metadata": {},
   "outputs": [
    {
     "data": {
      "image/png": "[encoded data removed]",
      "text/plain": [
       "<Figure size 864x648 with 2 Axes>"
      ]
     },
     "metadata": {},
     "output_type": "display_data"
    }
   ],
   "source": [
    "%matplotlib inline\n",
    "df['predictions']=res.predict()\n",
    "p = cd.Chart(df['period_end_date'],df[[\"value_y\", \"predictions\"]],[\"AXP Actual\", \"Predicted\"], [[\"Report Date\", \"YOY %\"]], title=\"Fitted Regression Model AXP Actual vs Predicted\")\n",
    "p.show()\n"
   ]
  },
  {
   "cell_type": "markdown",
   "id": "a146acef-6b89-47b3-a392-d2d5b2effe1d",
   "metadata": {},
   "source": [
    "### Now let's get the Q4 JPM number we'll use for predicting Q4 of the target"
   ]
  },
  {
   "cell_type": "code",
   "execution_count": 12,
   "id": "135031c3-414e-4c60-9135-b75c82670542",
   "metadata": {},
   "outputs": [
    {
     "data": {
      "text/html": [
       "<div>\n",
       "<style scoped>\n",
       "    .dataframe tbody tr th:only-of-type {\n",
       "        vertical-align: middle;\n",
       "    }\n",
       "\n",
       "    .dataframe tbody tr th {\n",
       "        vertical-align: top;\n",
       "    }\n",
       "\n",
       "    .dataframe thead th {\n",
       "        text-align: right;\n",
       "    }\n",
       "</style>\n",
       "<table border=\"1\" class=\"dataframe\">\n",
       "  <thead>\n",
       "    <tr style=\"text-align: right;\">\n",
       "      <th></th>\n",
       "      <th>ticker</th>\n",
       "      <th>time_series_name</th>\n",
       "      <th>period_end_date</th>\n",
       "      <th>value</th>\n",
       "    </tr>\n",
       "  </thead>\n",
       "  <tbody>\n",
       "    <tr>\n",
       "      <th>32999</th>\n",
       "      <td>JPM US</td>\n",
       "      <td>z_3FRM7X0148_MO_OS_Creditcardsalesvolume</td>\n",
       "      <td>2021-12-31</td>\n",
       "      <td>28.98477</td>\n",
       "    </tr>\n",
       "  </tbody>\n",
       "</table>\n",
       "</div>"
      ],
      "text/plain": [
       "       ticker                          time_series_name period_end_date    value\n",
       "32999  JPM US  z_3FRM7X0148_MO_OS_Creditcardsalesvolume  2021-12-31     28.98477"
      ]
     },
     "execution_count": 12,
     "metadata": {},
     "output_type": "execute_result"
    }
   ],
   "source": [
    "jpm_pred = jpm_model_set.model_frame(\n",
    "                      period_duration_type='fiscal_quarter',\n",
    "                      is_historical=True,\n",
    "                      time_series_name='z_3FRM7X0148_MO_OS_Creditcardsalesvolume')[['ticker','time_series_name','period_end_date','value']]\n",
    "jpm_pred['value'] = jpm_pred['value'].pct_change(4)*100\n",
    "jpm_pred.tail(1)"
   ]
  },
  {
   "cell_type": "markdown",
   "id": "58c13991-3f1e-4a93-9680-f43ca7a906c7",
   "metadata": {},
   "source": [
    "### And we can use our regression formula to forecast the target Q4 volume number"
   ]
  },
  {
   "cell_type": "code",
   "execution_count": 13,
   "id": "c13a4205-ebd7-4275-bbbe-71f7449ec1e2",
   "metadata": {},
   "outputs": [
    {
     "name": "stdout",
     "output_type": "stream",
     "text": [
      "29.09129265591725\n"
     ]
    }
   ],
   "source": [
    "intercept = res.params[0]\n",
    "beta = res.params[1]\n",
    "new_jpm_value = 29\n",
    "y = beta*new_jpm_value + intercept\n",
    "print(y)"
   ]
  },
  {
   "cell_type": "markdown",
   "id": "be3fb0fb-3644-41b1-a862-bf7a88325ed0",
   "metadata": {},
   "source": [
    "### We see the target Q4 2021 value of 18 in our model"
   ]
  },
  {
   "cell_type": "code",
   "execution_count": 14,
   "id": "b0d22994-e48b-4b01-a862-c829066ad283",
   "metadata": {},
   "outputs": [
    {
     "data": {
      "text/html": [
       "<div>\n",
       "<style scoped>\n",
       "    .dataframe tbody tr th:only-of-type {\n",
       "        vertical-align: middle;\n",
       "    }\n",
       "\n",
       "    .dataframe tbody tr th {\n",
       "        vertical-align: top;\n",
       "    }\n",
       "\n",
       "    .dataframe thead th {\n",
       "        text-align: right;\n",
       "    }\n",
       "</style>\n",
       "<table border=\"1\" class=\"dataframe\">\n",
       "  <thead>\n",
       "    <tr style=\"text-align: right;\">\n",
       "      <th></th>\n",
       "      <th>ticker</th>\n",
       "      <th>time_series_name</th>\n",
       "      <th>period_end_date</th>\n",
       "      <th>value</th>\n",
       "    </tr>\n",
       "  </thead>\n",
       "  <tbody>\n",
       "    <tr>\n",
       "      <th>1051</th>\n",
       "      <td>AXP US</td>\n",
       "      <td>MO_GA_TPV</td>\n",
       "      <td>2021-03-31</td>\n",
       "      <td>-3.58038</td>\n",
       "    </tr>\n",
       "    <tr>\n",
       "      <th>1061</th>\n",
       "      <td>AXP US</td>\n",
       "      <td>MO_GA_TPV</td>\n",
       "      <td>2021-06-30</td>\n",
       "      <td>54.11994</td>\n",
       "    </tr>\n",
       "    <tr>\n",
       "      <th>1071</th>\n",
       "      <td>AXP US</td>\n",
       "      <td>MO_GA_TPV</td>\n",
       "      <td>2021-09-30</td>\n",
       "      <td>32.97145</td>\n",
       "    </tr>\n",
       "    <tr>\n",
       "      <th>1081</th>\n",
       "      <td>AXP US</td>\n",
       "      <td>MO_GA_TPV</td>\n",
       "      <td>2021-12-31</td>\n",
       "      <td>18.00000</td>\n",
       "    </tr>\n",
       "    <tr>\n",
       "      <th>1052</th>\n",
       "      <td>AXP US</td>\n",
       "      <td>MO_GA_TPV</td>\n",
       "      <td>2022-03-31</td>\n",
       "      <td>20.00000</td>\n",
       "    </tr>\n",
       "    <tr>\n",
       "      <th>1062</th>\n",
       "      <td>AXP US</td>\n",
       "      <td>MO_GA_TPV</td>\n",
       "      <td>2022-06-30</td>\n",
       "      <td>7.00000</td>\n",
       "    </tr>\n",
       "    <tr>\n",
       "      <th>1072</th>\n",
       "      <td>AXP US</td>\n",
       "      <td>MO_GA_TPV</td>\n",
       "      <td>2022-09-30</td>\n",
       "      <td>7.00000</td>\n",
       "    </tr>\n",
       "    <tr>\n",
       "      <th>1082</th>\n",
       "      <td>AXP US</td>\n",
       "      <td>MO_GA_TPV</td>\n",
       "      <td>2022-12-31</td>\n",
       "      <td>7.00000</td>\n",
       "    </tr>\n",
       "  </tbody>\n",
       "</table>\n",
       "</div>"
      ],
      "text/plain": [
       "      ticker time_series_name period_end_date    value\n",
       "1051  AXP US  MO_GA_TPV        2021-03-31     -3.58038\n",
       "1061  AXP US  MO_GA_TPV        2021-06-30     54.11994\n",
       "1071  AXP US  MO_GA_TPV        2021-09-30     32.97145\n",
       "1081  AXP US  MO_GA_TPV        2021-12-31     18.00000\n",
       "1052  AXP US  MO_GA_TPV        2022-03-31     20.00000\n",
       "1062  AXP US  MO_GA_TPV        2022-06-30     7.00000 \n",
       "1072  AXP US  MO_GA_TPV        2022-09-30     7.00000 \n",
       "1082  AXP US  MO_GA_TPV        2022-12-31     7.00000 "
      ]
     },
     "execution_count": 14,
     "metadata": {},
     "output_type": "execute_result"
    }
   ],
   "source": [
    "target_model_set.model_frame(\n",
    "                      period_duration_type='fiscal_quarter',\n",
    "                      time_series_name='MO_GA_TPV')[['ticker','time_series_name','period_end_date','value']].tail(8)"
   ]
  },
  {
   "cell_type": "markdown",
   "id": "ac6a31b7-b312-4f65-b659-62dbe0a51c8a",
   "metadata": {},
   "source": [
    "### We are going to set that value to our forecasted number of 29"
   ]
  },
  {
   "cell_type": "code",
   "execution_count": 15,
   "id": "5cfaf643-b3ac-4ead-9a9c-2e7195d7c4f1",
   "metadata": {},
   "outputs": [
    {
     "name": "stdout",
     "output_type": "stream",
     "text": [
      "AXP US scenario_id_url: https://mds.canalyst.com/api/equity-model-series/FYXPQQ0114/equity-models/Q3-2021.21/scenarios/8pECuguVWi682uzB-UKuog/\n"
     ]
    }
   ],
   "source": [
    "df_params = target_model_set.forecast_frame(\"MO_GA_TPV\",\n",
    "                             n_periods=-1,\n",
    "                             function_name='value',\n",
    "                             function_value=29)\n",
    "\n",
    "# How much does revenue move?\n",
    "return_series = \"MO_RIS_REV\"\n",
    "\n",
    "dicts_output=target_model_set.fit(df_params,return_series)"
   ]
  },
  {
   "cell_type": "markdown",
   "id": "695a8fa1-ef44-49e2-aed8-bef314d19c88",
   "metadata": {},
   "source": [
    "### This creates a 6% bump in revenues versus the Canalyst model"
   ]
  },
  {
   "cell_type": "code",
   "execution_count": 16,
   "id": "5be19398-76ec-4d64-88e7-7d7f80b40d92",
   "metadata": {},
   "outputs": [
    {
     "data": {
      "text/html": [
       "<div>\n",
       "<style scoped>\n",
       "    .dataframe tbody tr th:only-of-type {\n",
       "        vertical-align: middle;\n",
       "    }\n",
       "\n",
       "    .dataframe tbody tr th {\n",
       "        vertical-align: top;\n",
       "    }\n",
       "\n",
       "    .dataframe thead th {\n",
       "        text-align: right;\n",
       "    }\n",
       "</style>\n",
       "<table border=\"1\" class=\"dataframe\">\n",
       "  <thead>\n",
       "    <tr style=\"text-align: right;\">\n",
       "      <th></th>\n",
       "      <th>ticker</th>\n",
       "      <th>period_name</th>\n",
       "      <th>time_series_name</th>\n",
       "      <th>time_series_description</th>\n",
       "      <th>default</th>\n",
       "      <th>scenario</th>\n",
       "      <th>diff</th>\n",
       "    </tr>\n",
       "  </thead>\n",
       "  <tbody>\n",
       "    <tr>\n",
       "      <th>0</th>\n",
       "      <td>AXP US</td>\n",
       "      <td>Q4-2021</td>\n",
       "      <td>MO_RIS_REV</td>\n",
       "      <td>Net Revenue</td>\n",
       "      <td>10843524586.67124</td>\n",
       "      <td>11514668604.1712</td>\n",
       "      <td>1.06189</td>\n",
       "    </tr>\n",
       "  </tbody>\n",
       "</table>\n",
       "</div>"
      ],
      "text/plain": [
       "   ticker period_name time_series_name time_series_description           default          scenario    diff\n",
       "0  AXP US  Q4-2021     MO_RIS_REV       Net Revenue            10843524586.67124  11514668604.1712 1.06189"
      ]
     },
     "execution_count": 16,
     "metadata": {},
     "output_type": "execute_result"
    }
   ],
   "source": [
    "dicts_output['AXP US'].head(1)"
   ]
  },
  {
   "cell_type": "markdown",
   "id": "15893f5d-310a-4632-994b-a81527286040",
   "metadata": {},
   "source": [
    "### Which takes us to 11.5bn revenues vs the street of 11.47"
   ]
  },
  {
   "cell_type": "code",
   "execution_count": 17,
   "id": "8e2355d9-b9eb-4dc7-b684-daab668b8327",
   "metadata": {},
   "outputs": [
    {
     "data": {
      "text/html": [
       "<div>\n",
       "<style scoped>\n",
       "    .dataframe tbody tr th:only-of-type {\n",
       "        vertical-align: middle;\n",
       "    }\n",
       "\n",
       "    .dataframe tbody tr th {\n",
       "        vertical-align: top;\n",
       "    }\n",
       "\n",
       "    .dataframe thead th {\n",
       "        text-align: right;\n",
       "    }\n",
       "</style>\n",
       "<table border=\"1\" class=\"dataframe\">\n",
       "  <thead>\n",
       "    <tr style=\"text-align: right;\">\n",
       "      <th></th>\n",
       "      <th>Revenue Estimate</th>\n",
       "      <th>Current Qtr. (Dec 2021)</th>\n",
       "      <th>Next Qtr. (Mar 2022)</th>\n",
       "      <th>Current Year (2021)</th>\n",
       "      <th>Next Year (2022)</th>\n",
       "    </tr>\n",
       "  </thead>\n",
       "  <tbody>\n",
       "    <tr>\n",
       "      <th>0</th>\n",
       "      <td>No. of Analysts</td>\n",
       "      <td>21</td>\n",
       "      <td>12</td>\n",
       "      <td>25</td>\n",
       "      <td>25</td>\n",
       "    </tr>\n",
       "    <tr>\n",
       "      <th>1</th>\n",
       "      <td>Avg. Estimate</td>\n",
       "      <td>11.47B</td>\n",
       "      <td>10.95B</td>\n",
       "      <td>41.75B</td>\n",
       "      <td>47.7B</td>\n",
       "    </tr>\n",
       "    <tr>\n",
       "      <th>2</th>\n",
       "      <td>Low Estimate</td>\n",
       "      <td>10.96B</td>\n",
       "      <td>10.2B</td>\n",
       "      <td>41.19B</td>\n",
       "      <td>45.21B</td>\n",
       "    </tr>\n",
       "    <tr>\n",
       "      <th>3</th>\n",
       "      <td>High Estimate</td>\n",
       "      <td>11.86B</td>\n",
       "      <td>11.41B</td>\n",
       "      <td>42.27B</td>\n",
       "      <td>49.77B</td>\n",
       "    </tr>\n",
       "    <tr>\n",
       "      <th>4</th>\n",
       "      <td>Year Ago Sales</td>\n",
       "      <td>9.35B</td>\n",
       "      <td>9.17B</td>\n",
       "      <td>36.09B</td>\n",
       "      <td>41.75B</td>\n",
       "    </tr>\n",
       "    <tr>\n",
       "      <th>5</th>\n",
       "      <td>Sales Growth (year/est)</td>\n",
       "      <td>22.60%</td>\n",
       "      <td>19.40%</td>\n",
       "      <td>15.70%</td>\n",
       "      <td>14.20%</td>\n",
       "    </tr>\n",
       "  </tbody>\n",
       "</table>\n",
       "</div>"
      ],
      "text/plain": [
       "          Revenue Estimate Current Qtr. (Dec 2021) Next Qtr. (Mar 2022) Current Year (2021) Next Year (2022)\n",
       "0  No. of Analysts          21                      12                   25                  25             \n",
       "1  Avg. Estimate            11.47B                  10.95B               41.75B              47.7B          \n",
       "2  Low Estimate             10.96B                  10.2B                41.19B              45.21B         \n",
       "3  High Estimate            11.86B                  11.41B               42.27B              49.77B         \n",
       "4  Year Ago Sales           9.35B                   9.17B                36.09B              41.75B         \n",
       "5  Sales Growth (year/est)  22.60%                  19.40%               15.70%              14.20%         "
      ]
     },
     "execution_count": 17,
     "metadata": {},
     "output_type": "execute_result"
    }
   ],
   "source": [
    "cdr.get_revenue_estimates(yahoo_ticker)"
   ]
  },
  {
   "cell_type": "markdown",
   "id": "5e6f1c4b-8f86-4638-b6c4-7912aed27249",
   "metadata": {},
   "source": [
    "### We see here, the target usually beats EPS, and usually doesn't move much in subsequent trading"
   ]
  },
  {
   "cell_type": "code",
   "execution_count": 18,
   "id": "e3fcb7c8-c164-4ea8-bcac-498ffcec63cc",
   "metadata": {},
   "outputs": [
    {
     "data": {
      "text/html": [
       "<div>\n",
       "<style scoped>\n",
       "    .dataframe tbody tr th:only-of-type {\n",
       "        vertical-align: middle;\n",
       "    }\n",
       "\n",
       "    .dataframe tbody tr th {\n",
       "        vertical-align: top;\n",
       "    }\n",
       "\n",
       "    .dataframe thead th {\n",
       "        text-align: right;\n",
       "    }\n",
       "</style>\n",
       "<table border=\"1\" class=\"dataframe\">\n",
       "  <thead>\n",
       "    <tr style=\"text-align: right;\">\n",
       "      <th></th>\n",
       "      <th>index</th>\n",
       "      <th>epsestimate</th>\n",
       "      <th>epsactual</th>\n",
       "      <th>epssurprisepct</th>\n",
       "      <th>alpha_1_day</th>\n",
       "      <th>alpha_5_day</th>\n",
       "      <th>alpha_10_day</th>\n",
       "      <th>beta_252</th>\n",
       "      <th>plus_1_return</th>\n",
       "      <th>plus_5_return</th>\n",
       "      <th>plus_10_return</th>\n",
       "      <th>mktclose_plus_1_return</th>\n",
       "      <th>mktclose_plus_5_return</th>\n",
       "      <th>mktclose_plus_10_return</th>\n",
       "    </tr>\n",
       "  </thead>\n",
       "  <tbody>\n",
       "    <tr>\n",
       "      <th>0</th>\n",
       "      <td>count</td>\n",
       "      <td>52.00000</td>\n",
       "      <td>52.00000</td>\n",
       "      <td>52.00000</td>\n",
       "      <td>48.00000</td>\n",
       "      <td>48.00000</td>\n",
       "      <td>48.00000</td>\n",
       "      <td>48.00000</td>\n",
       "      <td>52.00000</td>\n",
       "      <td>52.00000</td>\n",
       "      <td>52.00000</td>\n",
       "      <td>52.00000</td>\n",
       "      <td>52.00000</td>\n",
       "      <td>52.00000</td>\n",
       "    </tr>\n",
       "    <tr>\n",
       "      <th>1</th>\n",
       "      <td>mean</td>\n",
       "      <td>1.22154</td>\n",
       "      <td>1.30500</td>\n",
       "      <td>14.75442</td>\n",
       "      <td>-0.00556</td>\n",
       "      <td>-0.00294</td>\n",
       "      <td>-0.00250</td>\n",
       "      <td>1.18363</td>\n",
       "      <td>0.00027</td>\n",
       "      <td>0.00206</td>\n",
       "      <td>0.01247</td>\n",
       "      <td>0.00124</td>\n",
       "      <td>0.00043</td>\n",
       "      <td>0.00700</td>\n",
       "    </tr>\n",
       "    <tr>\n",
       "      <th>2</th>\n",
       "      <td>std</td>\n",
       "      <td>0.49912</td>\n",
       "      <td>0.59026</td>\n",
       "      <td>57.55508</td>\n",
       "      <td>0.03682</td>\n",
       "      <td>0.04422</td>\n",
       "      <td>0.04661</td>\n",
       "      <td>0.27785</td>\n",
       "      <td>0.04902</td>\n",
       "      <td>0.05900</td>\n",
       "      <td>0.06672</td>\n",
       "      <td>0.00946</td>\n",
       "      <td>0.01882</td>\n",
       "      <td>0.02680</td>\n",
       "    </tr>\n",
       "    <tr>\n",
       "      <th>3</th>\n",
       "      <td>min</td>\n",
       "      <td>-0.11000</td>\n",
       "      <td>0.09000</td>\n",
       "      <td>-71.25000</td>\n",
       "      <td>-0.13683</td>\n",
       "      <td>-0.16598</td>\n",
       "      <td>-0.15126</td>\n",
       "      <td>0.70094</td>\n",
       "      <td>-0.12101</td>\n",
       "      <td>-0.15581</td>\n",
       "      <td>-0.13186</td>\n",
       "      <td>-0.02568</td>\n",
       "      <td>-0.05639</td>\n",
       "      <td>-0.06662</td>\n",
       "    </tr>\n",
       "    <tr>\n",
       "      <th>4</th>\n",
       "      <td>25%</td>\n",
       "      <td>0.97750</td>\n",
       "      <td>1.00000</td>\n",
       "      <td>0.70250</td>\n",
       "      <td>-0.02226</td>\n",
       "      <td>-0.02301</td>\n",
       "      <td>-0.03315</td>\n",
       "      <td>1.05564</td>\n",
       "      <td>-0.02594</td>\n",
       "      <td>-0.03171</td>\n",
       "      <td>-0.03249</td>\n",
       "      <td>-0.00368</td>\n",
       "      <td>-0.00787</td>\n",
       "      <td>-0.00739</td>\n",
       "    </tr>\n",
       "    <tr>\n",
       "      <th>5</th>\n",
       "      <td>50%</td>\n",
       "      <td>1.29000</td>\n",
       "      <td>1.25000</td>\n",
       "      <td>2.73000</td>\n",
       "      <td>-0.00765</td>\n",
       "      <td>-0.00889</td>\n",
       "      <td>-0.00682</td>\n",
       "      <td>1.11523</td>\n",
       "      <td>-0.00742</td>\n",
       "      <td>0.00091</td>\n",
       "      <td>-0.00083</td>\n",
       "      <td>0.00208</td>\n",
       "      <td>0.00299</td>\n",
       "      <td>0.00917</td>\n",
       "    </tr>\n",
       "    <tr>\n",
       "      <th>6</th>\n",
       "      <td>75%</td>\n",
       "      <td>1.49500</td>\n",
       "      <td>1.62000</td>\n",
       "      <td>8.06000</td>\n",
       "      <td>0.01244</td>\n",
       "      <td>0.02147</td>\n",
       "      <td>0.03303</td>\n",
       "      <td>1.32205</td>\n",
       "      <td>0.01555</td>\n",
       "      <td>0.03290</td>\n",
       "      <td>0.05230</td>\n",
       "      <td>0.00678</td>\n",
       "      <td>0.01359</td>\n",
       "      <td>0.02344</td>\n",
       "    </tr>\n",
       "    <tr>\n",
       "      <th>7</th>\n",
       "      <td>max</td>\n",
       "      <td>2.04000</td>\n",
       "      <td>2.80000</td>\n",
       "      <td>354.39000</td>\n",
       "      <td>0.09137</td>\n",
       "      <td>0.09240</td>\n",
       "      <td>0.08563</td>\n",
       "      <td>2.24238</td>\n",
       "      <td>0.20649</td>\n",
       "      <td>0.20267</td>\n",
       "      <td>0.23844</td>\n",
       "      <td>0.02028</td>\n",
       "      <td>0.03537</td>\n",
       "      <td>0.06511</td>\n",
       "    </tr>\n",
       "  </tbody>\n",
       "</table>\n",
       "</div>"
      ],
      "text/plain": [
       "   index  epsestimate  epsactual  epssurprisepct  alpha_1_day  alpha_5_day  alpha_10_day  beta_252  plus_1_return  plus_5_return  plus_10_return  mktclose_plus_1_return  mktclose_plus_5_return  mktclose_plus_10_return\n",
       "0  count 52.00000     52.00000   52.00000        48.00000     48.00000     48.00000      48.00000  52.00000       52.00000       52.00000        52.00000                52.00000                52.00000                \n",
       "1  mean  1.22154      1.30500    14.75442        -0.00556     -0.00294     -0.00250      1.18363   0.00027        0.00206        0.01247         0.00124                 0.00043                 0.00700                 \n",
       "2  std   0.49912      0.59026    57.55508        0.03682      0.04422      0.04661       0.27785   0.04902        0.05900        0.06672         0.00946                 0.01882                 0.02680                 \n",
       "3  min   -0.11000     0.09000    -71.25000       -0.13683     -0.16598     -0.15126      0.70094   -0.12101       -0.15581       -0.13186        -0.02568                -0.05639                -0.06662                \n",
       "4  25%   0.97750      1.00000    0.70250         -0.02226     -0.02301     -0.03315      1.05564   -0.02594       -0.03171       -0.03249        -0.00368                -0.00787                -0.00739                \n",
       "5  50%   1.29000      1.25000    2.73000         -0.00765     -0.00889     -0.00682      1.11523   -0.00742       0.00091        -0.00083        0.00208                 0.00299                 0.00917                 \n",
       "6  75%   1.49500      1.62000    8.06000         0.01244      0.02147      0.03303       1.32205   0.01555        0.03290        0.05230         0.00678                 0.01359                 0.02344                 \n",
       "7  max   2.04000      2.80000    354.39000       0.09137      0.09240      0.08563       2.24238   0.20649        0.20267        0.23844         0.02028                 0.03537                 0.06511                 "
      ]
     },
     "execution_count": 18,
     "metadata": {},
     "output_type": "execute_result"
    }
   ],
   "source": [
    "df = cdr.get_earnings_and_prices(yahoo_ticker,index_ticker = index_ticker) \n",
    "df.describe().reset_index() #row 2 is the mean of the full series of data"
   ]
  },
  {
   "cell_type": "markdown",
   "id": "8ea09a74-c7fe-41b1-a86a-7249f6c306da",
   "metadata": {},
   "source": [
    "### The target company does not guide on revenues, nor do we have 2021 guidance"
   ]
  },
  {
   "cell_type": "code",
   "execution_count": 19,
   "id": "90db3347-8d12-4d43-8e8a-6ec9a471011d",
   "metadata": {},
   "outputs": [
    {
     "data": {
      "text/html": [
       "<div>\n",
       "<style scoped>\n",
       "    .dataframe tbody tr th:only-of-type {\n",
       "        vertical-align: middle;\n",
       "    }\n",
       "\n",
       "    .dataframe tbody tr th {\n",
       "        vertical-align: top;\n",
       "    }\n",
       "\n",
       "    .dataframe thead th {\n",
       "        text-align: right;\n",
       "    }\n",
       "</style>\n",
       "<table border=\"1\" class=\"dataframe\">\n",
       "  <thead>\n",
       "    <tr style=\"text-align: right;\">\n",
       "      <th></th>\n",
       "      <th>Unnamed: 0</th>\n",
       "      <th>Type</th>\n",
       "      <th>Item</th>\n",
       "      <th>Item Name</th>\n",
       "      <th>Fiscal Period</th>\n",
       "      <th>Low</th>\n",
       "      <th>High</th>\n",
       "      <th>Mid</th>\n",
       "      <th>Type.1</th>\n",
       "      <th>Output</th>\n",
       "      <th>Absolute</th>\n",
       "      <th>Relative</th>\n",
       "      <th>Date</th>\n",
       "      <th>Link</th>\n",
       "    </tr>\n",
       "  </thead>\n",
       "  <tbody>\n",
       "    <tr>\n",
       "      <th>1</th>\n",
       "      <td>5</td>\n",
       "      <td>Historical</td>\n",
       "      <td>Earnings Per Share - WAB</td>\n",
       "      <td>MO_RIS_EPS_WAB</td>\n",
       "      <td>FY2020</td>\n",
       "      <td>8.85000</td>\n",
       "      <td>9.25000</td>\n",
       "      <td>9.05000</td>\n",
       "      <td>Actual</td>\n",
       "      <td>3.77143</td>\n",
       "      <td>-5.27857</td>\n",
       "      <td>-0.58327</td>\n",
       "      <td>2020-01-24 00:00:00</td>\n",
       "      <td>Press Release</td>\n",
       "    </tr>\n",
       "    <tr>\n",
       "      <th>3</th>\n",
       "      <td>7</td>\n",
       "      <td>Historical</td>\n",
       "      <td>Earnings Per Share - WAB</td>\n",
       "      <td>MO_RIS_EPS_WAB</td>\n",
       "      <td>FY2019</td>\n",
       "      <td>7.64000</td>\n",
       "      <td>8.14000</td>\n",
       "      <td>7.89000</td>\n",
       "      <td>Actual</td>\n",
       "      <td>8.00845</td>\n",
       "      <td>0.11845</td>\n",
       "      <td>0.01501</td>\n",
       "      <td>2019-10-18 00:00:00</td>\n",
       "      <td>Press Release</td>\n",
       "    </tr>\n",
       "    <tr>\n",
       "      <th>4</th>\n",
       "      <td>8</td>\n",
       "      <td>Historical</td>\n",
       "      <td>Adjusted Earnings Per Share - WAD</td>\n",
       "      <td>MO_RIS_EPS_WAD_Adj</td>\n",
       "      <td>FY2019</td>\n",
       "      <td>7.85000</td>\n",
       "      <td>8.35000</td>\n",
       "      <td>8.10000</td>\n",
       "      <td>Actual</td>\n",
       "      <td>8.20245</td>\n",
       "      <td>0.10245</td>\n",
       "      <td>0.01265</td>\n",
       "      <td>2019-10-18 00:00:00</td>\n",
       "      <td>Press Release</td>\n",
       "    </tr>\n",
       "    <tr>\n",
       "      <th>6</th>\n",
       "      <td>10</td>\n",
       "      <td>Historical</td>\n",
       "      <td>Earnings Per Share - WAB</td>\n",
       "      <td>MO_RIS_EPS_WAB</td>\n",
       "      <td>FY2019</td>\n",
       "      <td>7.64000</td>\n",
       "      <td>8.14000</td>\n",
       "      <td>7.89000</td>\n",
       "      <td>Actual</td>\n",
       "      <td>8.00845</td>\n",
       "      <td>0.11845</td>\n",
       "      <td>0.01501</td>\n",
       "      <td>2019-07-19 00:00:00</td>\n",
       "      <td>Press Release</td>\n",
       "    </tr>\n",
       "    <tr>\n",
       "      <th>7</th>\n",
       "      <td>11</td>\n",
       "      <td>Historical</td>\n",
       "      <td>Adjusted Earnings Per Share - WAD</td>\n",
       "      <td>MO_RIS_EPS_WAD_Adj</td>\n",
       "      <td>FY2019</td>\n",
       "      <td>7.85000</td>\n",
       "      <td>8.35000</td>\n",
       "      <td>8.10000</td>\n",
       "      <td>Actual</td>\n",
       "      <td>8.20245</td>\n",
       "      <td>0.10245</td>\n",
       "      <td>0.01265</td>\n",
       "      <td>2019-07-19 00:00:00</td>\n",
       "      <td>Press Release</td>\n",
       "    </tr>\n",
       "    <tr>\n",
       "      <th>9</th>\n",
       "      <td>13</td>\n",
       "      <td>Historical</td>\n",
       "      <td>Earnings Per Share - WAB</td>\n",
       "      <td>MO_RIS_EPS_WAB</td>\n",
       "      <td>FY2019</td>\n",
       "      <td>7.64000</td>\n",
       "      <td>8.14000</td>\n",
       "      <td>7.89000</td>\n",
       "      <td>Actual</td>\n",
       "      <td>8.00845</td>\n",
       "      <td>0.11845</td>\n",
       "      <td>0.01501</td>\n",
       "      <td>2019-04-18 00:00:00</td>\n",
       "      <td>Press Release</td>\n",
       "    </tr>\n",
       "    <tr>\n",
       "      <th>10</th>\n",
       "      <td>14</td>\n",
       "      <td>Historical</td>\n",
       "      <td>Adjusted Earnings Per Share - WAD</td>\n",
       "      <td>MO_RIS_EPS_WAD_Adj</td>\n",
       "      <td>FY2019</td>\n",
       "      <td>7.85000</td>\n",
       "      <td>8.35000</td>\n",
       "      <td>8.10000</td>\n",
       "      <td>Actual</td>\n",
       "      <td>8.20245</td>\n",
       "      <td>0.10245</td>\n",
       "      <td>0.01265</td>\n",
       "      <td>2019-04-18 00:00:00</td>\n",
       "      <td>Press Release</td>\n",
       "    </tr>\n",
       "    <tr>\n",
       "      <th>12</th>\n",
       "      <td>16</td>\n",
       "      <td>Historical</td>\n",
       "      <td>Earnings Per Share - WAB</td>\n",
       "      <td>MO_RIS_EPS_WAB</td>\n",
       "      <td>FY2018</td>\n",
       "      <td>6.90000</td>\n",
       "      <td>7.30000</td>\n",
       "      <td>7.10000</td>\n",
       "      <td>Actual</td>\n",
       "      <td>7.92874</td>\n",
       "      <td>0.82874</td>\n",
       "      <td>0.11672</td>\n",
       "      <td>2018-07-18 00:00:00</td>\n",
       "      <td>Press Release</td>\n",
       "    </tr>\n",
       "    <tr>\n",
       "      <th>14</th>\n",
       "      <td>18</td>\n",
       "      <td>Historical</td>\n",
       "      <td>Earnings Per Share - WAB</td>\n",
       "      <td>MO_RIS_EPS_WAB</td>\n",
       "      <td>FY2018</td>\n",
       "      <td>6.90000</td>\n",
       "      <td>7.30000</td>\n",
       "      <td>7.10000</td>\n",
       "      <td>Actual</td>\n",
       "      <td>7.92874</td>\n",
       "      <td>0.82874</td>\n",
       "      <td>0.11672</td>\n",
       "      <td>2018-04-18 00:00:00</td>\n",
       "      <td>Press Release</td>\n",
       "    </tr>\n",
       "  </tbody>\n",
       "</table>\n",
       "</div>"
      ],
      "text/plain": [
       "    Unnamed: 0        Type                               Item           Item Name Fiscal Period     Low    High     Mid  Type.1  Output  Absolute  Relative                 Date           Link\n",
       "1   5           Historical  Earnings Per Share - WAB           MO_RIS_EPS_WAB      FY2020       8.85000 9.25000 9.05000  Actual 3.77143 -5.27857  -0.58327   2020-01-24 00:00:00  Press Release\n",
       "3   7           Historical  Earnings Per Share - WAB           MO_RIS_EPS_WAB      FY2019       7.64000 8.14000 7.89000  Actual 8.00845 0.11845   0.01501    2019-10-18 00:00:00  Press Release\n",
       "4   8           Historical  Adjusted Earnings Per Share - WAD  MO_RIS_EPS_WAD_Adj  FY2019       7.85000 8.35000 8.10000  Actual 8.20245 0.10245   0.01265    2019-10-18 00:00:00  Press Release\n",
       "6   10          Historical  Earnings Per Share - WAB           MO_RIS_EPS_WAB      FY2019       7.64000 8.14000 7.89000  Actual 8.00845 0.11845   0.01501    2019-07-19 00:00:00  Press Release\n",
       "7   11          Historical  Adjusted Earnings Per Share - WAD  MO_RIS_EPS_WAD_Adj  FY2019       7.85000 8.35000 8.10000  Actual 8.20245 0.10245   0.01265    2019-07-19 00:00:00  Press Release\n",
       "9   13          Historical  Earnings Per Share - WAB           MO_RIS_EPS_WAB      FY2019       7.64000 8.14000 7.89000  Actual 8.00845 0.11845   0.01501    2019-04-18 00:00:00  Press Release\n",
       "10  14          Historical  Adjusted Earnings Per Share - WAD  MO_RIS_EPS_WAD_Adj  FY2019       7.85000 8.35000 8.10000  Actual 8.20245 0.10245   0.01265    2019-04-18 00:00:00  Press Release\n",
       "12  16          Historical  Earnings Per Share - WAB           MO_RIS_EPS_WAB      FY2018       6.90000 7.30000 7.10000  Actual 7.92874 0.82874   0.11672    2018-07-18 00:00:00  Press Release\n",
       "14  18          Historical  Earnings Per Share - WAB           MO_RIS_EPS_WAB      FY2018       6.90000 7.30000 7.10000  Actual 7.92874 0.82874   0.11672    2018-04-18 00:00:00  Press Release"
      ]
     },
     "execution_count": 19,
     "metadata": {},
     "output_type": "execute_result"
    }
   ],
   "source": [
    "target_model_set.models[\"AXP US\"].guidance()"
   ]
  },
  {
   "cell_type": "markdown",
   "id": "81c0eb0a-ebfb-41cf-add6-3d17bf1fe852",
   "metadata": {},
   "source": [
    "### Conclusion: \n",
    "#### <li> JPM results caused us to revise our AXP revenue estimates upwards by 6%\n",
    "#### <li> We are now slightly ahead of the Street\n",
    "#### <li> However, AXP tends to beat earnings but AXP stock does not show subsequent alpha, on average over 52 observations\n",
    "#### <li> It is likely therefore that buyside estimates tend to sit higher than Street estimates for this company"
   ]
  },
  {
   "cell_type": "code",
   "execution_count": 20,
   "id": "dc1c97be-bb51-4656-b4eb-987705b98004",
   "metadata": {},
   "outputs": [],
   "source": [
    "ticker=\"AXP US\"\n",
    "df_data = target_model_set.pe_dataset(ticker,yahoo_ticker,index_ticker)\n",
    "categories = list(target_model_set.model_frame(ticker=ticker,\n",
    "                      period_duration_type = \"fiscal_quarter\", \n",
    "                      mrq=True)['category'].unique())\n",
    "\n",
    "like_list = ['Stats','Analysis','Metrics','Segmented Results']\n",
    "category_filter = []\n",
    "for category in categories:\n",
    "    for like in like_list:\n",
    "        if like in category:\n",
    "            category_filter.append(category)\n",
    "            \n",
    "category_filter = list(set(category_filter))\n",
    "%matplotlib inline\n",
    "df_kpi = cdr.regress_dataframe_time_series_groups(df_data = df_data,\n",
    "                                         y_name=alpha_days,\n",
    "                                         return_grouped=True,\n",
    "                                         category = category_filter,\n",
    "                                         n_periods=regression_window)\n",
    "df_kpi = df_kpi[['ticker','time_series_description','time_series_name','category','rsquared']].head(10).sort_values('rsquared',ascending = True)\n",
    "#df_kpi.plot(x='time_series_description',y='rsquared',kind='barh',title=ticker+\" Key Drivers Price Sensitivity\")"
   ]
  },
  {
   "cell_type": "code",
   "execution_count": 21,
   "id": "dd1b3dfc-bc06-4274-9bf8-beb31be42c1a",
   "metadata": {},
   "outputs": [
    {
     "data": {
      "image/png": "[encoded data removed]",
      "text/plain": [
       "<Figure size 864x648 with 2 Axes>"
      ]
     },
     "metadata": {},
     "output_type": "display_data"
    }
   ],
   "source": [
    "#df_kpi.plot(x='time_series_description',y='rsquared',kind='barh',title=ticker+\" Key Drivers Price Sensitivity\")\n",
    "p = cd.Chart(df_kpi['time_series_description'],df_kpi[[\"rsquared\"]],[\"R Squared\"], [[\"\", \"\"]], title=\"AXP Key Drivers Price Sensitivity\",plot_styles=[\"barh\"])\n",
    "p.show()\n"
   ]
  }
 ],
 "metadata": {
  "kernelspec": {
   "display_name": "Python 3.9",
   "language": "python",
   "name": "python3"
  },
  "language_info": {
   "codemirror_mode": {
    "name": "ipython",
    "version": 3
   },
   "file_extension": ".py",
   "mimetype": "text/x-python",
   "name": "python",
   "nbconvert_exporter": "python",
   "pygments_lexer": "ipython3",
   "version": "3.9.7"
  }
 },
 "nbformat": 4,
 "nbformat_minor": 5
}
